{
 "cells": [
  {
   "cell_type": "code",
   "execution_count": 194,
   "metadata": {},
   "outputs": [],
   "source": [
    "import pandas as pd\n",
    "import numpy as np\n",
    "import warnings\n",
    "\n",
    "from sklearn.linear_model import LogisticRegression\n",
    "from sklearn.tree import DecisionTreeClassifier\n",
    "from sklearn.ensemble import RandomForestClassifier\n",
    "from sklearn.model_selection import train_test_split\n",
    "from sklearn.metrics import accuracy_score\n",
    "\n",
    "from sklearn.preprocessing import StandardScaler\n",
    "from sklearn.preprocessing import PolynomialFeatures\n",
    "\n",
    "warnings.filterwarnings(\"ignore\")\n",
    "np.random.seed(42)"
   ]
  },
  {
   "cell_type": "code",
   "execution_count": 195,
   "metadata": {},
   "outputs": [],
   "source": [
    "from yellowbrick.classifier import ClassificationReport\n",
    "from yellowbrick.features import rank2d"
   ]
  },
  {
   "cell_type": "code",
   "execution_count": 196,
   "metadata": {},
   "outputs": [],
   "source": [
    "from yellowbrick.datasets import load_credit"
   ]
  },
  {
   "cell_type": "code",
   "execution_count": 197,
   "metadata": {},
   "outputs": [],
   "source": [
    "grid_search_enable = True\n",
    "cv = 2\n",
    "verbose = 3\n",
    "number_of_jobs = -1\n",
    "rand_state = 101"
   ]
  },
  {
   "cell_type": "code",
   "execution_count": 198,
   "metadata": {},
   "outputs": [],
   "source": [
    "bdf = pd.read_csv(\"featured_bank_imputed_wo_duration.csv\")"
   ]
  },
  {
   "cell_type": "markdown",
   "metadata": {},
   "source": [
    "### Feature engineering"
   ]
  },
  {
   "cell_type": "code",
   "execution_count": 199,
   "metadata": {},
   "outputs": [],
   "source": [
    "def festivals(month):\n",
    "    # imputing festivals - apr: easter; jun:carnival; dec:christmas\n",
    "    if month == 'apr' or month == 'jun' or month == 'dec':\n",
    "        return 1\n",
    "    else:\n",
    "        return 0"
   ]
  },
  {
   "cell_type": "code",
   "execution_count": 200,
   "metadata": {},
   "outputs": [],
   "source": [
    "bdf['f.festivals'] = bdf['month'].apply(festivals)"
   ]
  },
  {
   "cell_type": "code",
   "execution_count": 201,
   "metadata": {},
   "outputs": [],
   "source": [
    "def bonus_months(month):\n",
    "    # bonus paid twice in a year - may and nov\n",
    "    if month == 'jun' or month == 'dec':\n",
    "        return 1\n",
    "    else:\n",
    "        return 0"
   ]
  },
  {
   "cell_type": "code",
   "execution_count": 202,
   "metadata": {},
   "outputs": [],
   "source": [
    "bdf['f.bonus_months']= bdf['month'].apply(bonus_months)"
   ]
  },
  {
   "cell_type": "code",
   "execution_count": 203,
   "metadata": {},
   "outputs": [],
   "source": [
    "def commitment(housing, personal, marital):\n",
    "    # if a person is married and has housing and personal loans, flag it as high commitment\n",
    "    if housing == 'yes' and personal == 'yes' and marital == 'married':\n",
    "        return \"high\"\n",
    "    if housing == 'no' and personal == 'no' and marital in ['single', 'divorced']:\n",
    "        return \"low\"\n",
    "    else:\n",
    "        return \"medium\""
   ]
  },
  {
   "cell_type": "code",
   "execution_count": 204,
   "metadata": {},
   "outputs": [],
   "source": [
    "bdf['f.commitment'] = bdf.apply(lambda x: commitment(x.housing, x.loan, x.marital), axis=1)"
   ]
  },
  {
   "cell_type": "code",
   "execution_count": 205,
   "metadata": {},
   "outputs": [],
   "source": [
    "def seasons(month):\n",
    "    if month in ['mar','apr','may']:\n",
    "        return 'spring'\n",
    "    if month in ['jun','jul','aug']:\n",
    "        return 'summer'\n",
    "    if month in ['sep','oct','nov']:\n",
    "        return 'autumn'\n",
    "    if month in ['dec','jan','feb']:\n",
    "        return 'winter'"
   ]
  },
  {
   "cell_type": "code",
   "execution_count": 206,
   "metadata": {},
   "outputs": [],
   "source": [
    "bdf['f.seasons'] = bdf['month'].apply(lambda mon: seasons(mon))"
   ]
  },
  {
   "cell_type": "code",
   "execution_count": 207,
   "metadata": {},
   "outputs": [],
   "source": [
    "def seasons_weightage(season):\n",
    "    if season == 'autumn':\n",
    "        return 0.21\n",
    "    if season == 'spring':\n",
    "        return 0.36\n",
    "    if season == 'summer':\n",
    "        return 0.40\n",
    "    if season == \"winter\":\n",
    "        return 0.02"
   ]
  },
  {
   "cell_type": "code",
   "execution_count": 208,
   "metadata": {},
   "outputs": [],
   "source": [
    "bdf ['f.season_weight'] = bdf['f.seasons'].apply(lambda season: seasons_weightage(season))"
   ]
  },
  {
   "cell_type": "code",
   "execution_count": 209,
   "metadata": {},
   "outputs": [],
   "source": [
    "def retired(age):\n",
    "    if age >= 66:\n",
    "        return 'retired'\n",
    "    else:\n",
    "        return 'not-retired'"
   ]
  },
  {
   "cell_type": "code",
   "execution_count": 210,
   "metadata": {},
   "outputs": [],
   "source": [
    "bdf['f.retired_status'] = bdf['age'].apply(lambda age: retired(age))"
   ]
  },
  {
   "cell_type": "code",
   "execution_count": 211,
   "metadata": {},
   "outputs": [],
   "source": [
    "def marital_weightage(marital):\n",
    "    if marital == 'divorced':\n",
    "        return 0.1\n",
    "    if marital == 'single':\n",
    "        return 0.35\n",
    "    if marital == 'married':\n",
    "        return 0.54"
   ]
  },
  {
   "cell_type": "code",
   "execution_count": 212,
   "metadata": {},
   "outputs": [],
   "source": [
    "bdf['f.marital_weightage'] = bdf['marital'].apply(lambda status: marital_weightage(status))"
   ]
  },
  {
   "cell_type": "code",
   "execution_count": 213,
   "metadata": {},
   "outputs": [],
   "source": [
    "def age_weightage(age):\n",
    "    if age == '11_to_20':\n",
    "        return 0.01\n",
    "    if age == '21_to_30':\n",
    "        return 0.23\n",
    "    if age == '31_to_40':\n",
    "        return 0.34\n",
    "    if age == '41_to_50':\n",
    "        return 0.18\n",
    "    if age == '51_to_60':\n",
    "        return 0.14\n",
    "    if age == '61_to_70':\n",
    "        return 0.04\n",
    "    if age == '71_to_80':\n",
    "        return 0.03\n",
    "    if age == '81_to_90':\n",
    "        return 0.01\n",
    "    if age == '91_to_100':\n",
    "        return 0.00\n",
    "        "
   ]
  },
  {
   "cell_type": "code",
   "execution_count": 214,
   "metadata": {},
   "outputs": [],
   "source": [
    "bdf['f.age_weightage'] = bdf['f.age'].apply(lambda age: age_weightage(age))"
   ]
  },
  {
   "cell_type": "code",
   "execution_count": 215,
   "metadata": {},
   "outputs": [
    {
     "data": {
      "text/plain": [
       "admin.           10635\n",
       "blue-collar       9359\n",
       "technician        6755\n",
       "services          3969\n",
       "management        2924\n",
       "retired           1720\n",
       "entrepreneur      1456\n",
       "self-employed     1421\n",
       "housemaid         1060\n",
       "unemployed        1014\n",
       "student            875\n",
       "Name: job, dtype: int64"
      ]
     },
     "execution_count": 215,
     "metadata": {},
     "output_type": "execute_result"
    }
   ],
   "source": [
    "bdf['job'].value_counts()"
   ]
  },
  {
   "cell_type": "code",
   "execution_count": 216,
   "metadata": {},
   "outputs": [],
   "source": [
    "def job_salary(job):\n",
    "    if job in ['blue-collar','housemaid']:\n",
    "        return 700*12\n",
    "    if job in ['admin.','technician']:\n",
    "        return 1200*12\n",
    "    if job in ['services','retired']:\n",
    "        return 1000*12\n",
    "    if job in ['student', 'unemployed']:\n",
    "        return 650*12\n",
    "    if job in ['self-employed','entrepreneur']:\n",
    "        return 1500*12\n",
    "    if job in ['management']:\n",
    "        return 3000*12"
   ]
  },
  {
   "cell_type": "code",
   "execution_count": 217,
   "metadata": {},
   "outputs": [],
   "source": [
    "bdf['f.salary'] = bdf['job'].apply(lambda job: job_salary(job))"
   ]
  },
  {
   "cell_type": "code",
   "execution_count": 218,
   "metadata": {},
   "outputs": [],
   "source": [
    "def income_tax(salary):\n",
    "    if salary >=0 and salary <=7112:\n",
    "        return 14.5\n",
    "    if salary >=7113 and salary <=10732:\n",
    "        return 23\n",
    "    if salary >=10733 and salary <=20322:\n",
    "        return 28.5\n",
    "    if salary >=20323 and salary <=25075:\n",
    "        return 35\n",
    "    if salary >=25076 and salary <=36967:\n",
    "        return 37\n",
    "    if salary >=36968:\n",
    "        return 45"
   ]
  },
  {
   "cell_type": "code",
   "execution_count": 219,
   "metadata": {},
   "outputs": [],
   "source": [
    "bdf['f.income_tax'] = bdf['f.salary'].apply(lambda salary: income_tax(salary))"
   ]
  },
  {
   "cell_type": "code",
   "execution_count": 220,
   "metadata": {},
   "outputs": [],
   "source": [
    "def previous_user(previous):\n",
    "    if previous == 0:\n",
    "        return 'new user'\n",
    "    else:\n",
    "        return 'existing user'"
   ]
  },
  {
   "cell_type": "code",
   "execution_count": 221,
   "metadata": {},
   "outputs": [],
   "source": [
    "bdf['f.previous'] = bdf['previous'].apply(lambda previous: previous_user(previous))"
   ]
  },
  {
   "cell_type": "code",
   "execution_count": 222,
   "metadata": {},
   "outputs": [],
   "source": [
    "def savings_intention(job):\n",
    "    if job in ['admin.','blue-collar','technician']:\n",
    "        return 'high'\n",
    "    elif job in ['retired','management','services']:\n",
    "        return 'medium'\n",
    "    else:\n",
    "        return 'low'"
   ]
  },
  {
   "cell_type": "code",
   "execution_count": 223,
   "metadata": {},
   "outputs": [],
   "source": [
    "bdf['f.savings_intent'] = bdf['job'].apply(lambda job: savings_intention(job))"
   ]
  },
  {
   "cell_type": "code",
   "execution_count": 224,
   "metadata": {},
   "outputs": [],
   "source": [
    "def age_range_weightage(age):\n",
    "    if age <= 24:\n",
    "        return 0.15\n",
    "    if age >=25 and age <= 69:\n",
    "        return 0.61\n",
    "    if age >= 70 and age <= 80:\n",
    "        return 0.13\n",
    "    if age > 80:\n",
    "        return 0.04"
   ]
  },
  {
   "cell_type": "code",
   "execution_count": 225,
   "metadata": {},
   "outputs": [],
   "source": [
    "bdf['f.age_range_weightage'] = bdf['age'].apply(lambda age: age_range_weightage(age))"
   ]
  },
  {
   "cell_type": "markdown",
   "metadata": {},
   "source": [
    "### Feature Analysis"
   ]
  },
  {
   "cell_type": "code",
   "execution_count": 226,
   "metadata": {},
   "outputs": [],
   "source": [
    "dropped_columns= ['s.no', 'age', 'emp.var.rate','cons.conf.idx','euribor3m','nr.employed','default', 'previous', 'f.pattern']\n",
    "categorical_columns=['job','education','marital','housing','loan','contact','month','day_of_week',\n",
    "                     'poutcome','f.euribor','f.age','f.commitment',\n",
    "                    'f.seasons','f.retired_status', 'f.previous', 'f.savings_intent'\n",
    "                    ]"
   ]
  },
  {
   "cell_type": "code",
   "execution_count": 227,
   "metadata": {},
   "outputs": [],
   "source": [
    "# drop the columns\n",
    "bdf.drop(dropped_columns, axis=1, inplace=True)"
   ]
  },
  {
   "cell_type": "code",
   "execution_count": 230,
   "metadata": {},
   "outputs": [],
   "source": [
    "#convert columns of object type to categorical columns\n",
    "bdf_cat = bdf[categorical_columns].astype('category')"
   ]
  },
  {
   "cell_type": "code",
   "execution_count": 231,
   "metadata": {},
   "outputs": [],
   "source": [
    "bdf[categorical_columns] = bdf[categorical_columns].astype('category')"
   ]
  },
  {
   "cell_type": "code",
   "execution_count": 183,
   "metadata": {
    "scrolled": true
   },
   "outputs": [],
   "source": [
    "# drop bdf categorical columns from the dataframe\n",
    "bdf_noncat = bdf.drop(categorical_columns,axis=1)"
   ]
  },
  {
   "cell_type": "code",
   "execution_count": 245,
   "metadata": {},
   "outputs": [
    {
     "data": {
      "text/plain": [
       "Index(['campaign', 'pdays', 'cons.price.idx', 'y', 'f.festivals',\n",
       "       'f.bonus_months', 'f.season_weight', 'f.marital_weightage',\n",
       "       'f.age_weightage', 'f.salary', 'f.income_tax', 'f.age_range_weightage'],\n",
       "      dtype='object')"
      ]
     },
     "execution_count": 245,
     "metadata": {},
     "output_type": "execute_result"
    }
   ],
   "source": [
    "bdf_noncat.columns"
   ]
  },
  {
   "cell_type": "code",
   "execution_count": 246,
   "metadata": {},
   "outputs": [
    {
     "name": "stdout",
     "output_type": "stream",
     "text": [
      "['campaign', 'pdays', 'cons.price.idx', 'f.festivals', 'f.bonus_months', 'f.season_weight', 'f.marital_weightage', 'f.age_weightage', 'f.salary', 'f.income_tax', 'f.age_range_weightage']\n"
     ]
    }
   ],
   "source": [
    "# store only the non categorical columns in a list (for checking correlation using yellow brick)\n",
    "# as noncat columns has the dependent variable 'y'\n",
    "bdf_noncat_col_list = []\n",
    "for col in bdf_noncat.columns:\n",
    "    if col != 'y':\n",
    "        bdf_noncat_col_list.append(col)\n",
    "print(bdf_noncat_col_list)"
   ]
  },
  {
   "cell_type": "code",
   "execution_count": 248,
   "metadata": {},
   "outputs": [],
   "source": [
    "# use one hot encoding for categorical columns\n",
    "bdf_cat_one_hot = pd.get_dummies(bdf_cat)"
   ]
  },
  {
   "cell_type": "code",
   "execution_count": 249,
   "metadata": {},
   "outputs": [
    {
     "data": {
      "text/plain": [
       "(41188, 71)"
      ]
     },
     "execution_count": 249,
     "metadata": {},
     "output_type": "execute_result"
    }
   ],
   "source": [
    "bdf_cat_one_hot.shape"
   ]
  },
  {
   "cell_type": "code",
   "execution_count": 250,
   "metadata": {},
   "outputs": [],
   "source": [
    "#concat categorical df with non categorical df\n",
    "bdf_master = pd.concat([bdf_noncat, bdf_cat_one_hot], axis=1)"
   ]
  },
  {
   "cell_type": "code",
   "execution_count": 251,
   "metadata": {},
   "outputs": [],
   "source": [
    "# store only the target variable column\n",
    "y = bdf_master.pop('y')"
   ]
  },
  {
   "cell_type": "code",
   "execution_count": 252,
   "metadata": {},
   "outputs": [],
   "source": [
    "# remove the target variable column from the master dataset\n",
    "X = bdf_master"
   ]
  },
  {
   "cell_type": "code",
   "execution_count": 255,
   "metadata": {},
   "outputs": [],
   "source": [
    "X_train, X_test, y_train, y_test = train_test_split(\n",
    "    X, y, test_size=0.25, random_state=101)"
   ]
  },
  {
   "cell_type": "code",
   "execution_count": 256,
   "metadata": {},
   "outputs": [
    {
     "data": {
      "text/plain": [
       "no     27416\n",
       "yes     3475\n",
       "Name: y, dtype: int64"
      ]
     },
     "execution_count": 256,
     "metadata": {},
     "output_type": "execute_result"
    }
   ],
   "source": [
    "y_train.value_counts()"
   ]
  },
  {
   "cell_type": "code",
   "execution_count": 257,
   "metadata": {},
   "outputs": [
    {
     "data": {
      "text/plain": [
       "no     9132\n",
       "yes    1165\n",
       "Name: y, dtype: int64"
      ]
     },
     "execution_count": 257,
     "metadata": {},
     "output_type": "execute_result"
    }
   ],
   "source": [
    "y_test.value_counts()"
   ]
  },
  {
   "cell_type": "code",
   "execution_count": 258,
   "metadata": {},
   "outputs": [],
   "source": [
    "# the propotion of yes and no looks the same"
   ]
  },
  {
   "cell_type": "markdown",
   "metadata": {},
   "source": [
    "### Visualizing classification report"
   ]
  },
  {
   "cell_type": "code",
   "execution_count": 259,
   "metadata": {},
   "outputs": [],
   "source": [
    "def show_classification_rpt(model):\n",
    "    visualizer = ClassificationReport(model, classes=['yes','no'], cmap=\"YlGn\", size=(600,300))\n",
    "    visualizer.fit(X_train, y_train)\n",
    "    visualizer.score(X_test, y_test)\n",
    "    visualizer.show()"
   ]
  },
  {
   "cell_type": "markdown",
   "metadata": {},
   "source": [
    "# Model Building"
   ]
  },
  {
   "cell_type": "code",
   "execution_count": 260,
   "metadata": {},
   "outputs": [],
   "source": [
    "# function that fits and predicts\n",
    "def fit_predict(algo,X_train, X_test, y_train, y_test):\n",
    "    algo.fit(X_train, y_train)\n",
    "    y_pred = algo.predict(X_test)\n",
    "    return accuracy_score(y_test, y_pred)"
   ]
  },
  {
   "cell_type": "markdown",
   "metadata": {},
   "source": [
    "## Logistic Regression"
   ]
  },
  {
   "cell_type": "code",
   "execution_count": 261,
   "metadata": {},
   "outputs": [],
   "source": [
    "logit = LogisticRegression()"
   ]
  },
  {
   "cell_type": "code",
   "execution_count": 262,
   "metadata": {},
   "outputs": [
    {
     "name": "stdout",
     "output_type": "stream",
     "text": [
      "Accuracy with Logistic Regression: 0.8986112459939788\n"
     ]
    }
   ],
   "source": [
    "print(\"Accuracy with Logistic Regression\", end=': ')\n",
    "logit_accuracy = fit_predict(logit, X_train, X_test, y_train, y_test)\n",
    "print(logit_accuracy)"
   ]
  },
  {
   "cell_type": "code",
   "execution_count": 263,
   "metadata": {},
   "outputs": [
    {
     "data": {
      "image/png": "[encoded data removed]",
      "text/plain": [
       "<Figure size 600x300 with 2 Axes>"
      ]
     },
     "metadata": {},
     "output_type": "display_data"
    }
   ],
   "source": [
    "show_classification_rpt(logit)"
   ]
  },
  {
   "cell_type": "markdown",
   "metadata": {},
   "source": [
    "## Decision Tree"
   ]
  },
  {
   "cell_type": "code",
   "execution_count": 76,
   "metadata": {},
   "outputs": [],
   "source": [
    "tree = DecisionTreeClassifier(random_state=rand_state)"
   ]
  },
  {
   "cell_type": "code",
   "execution_count": 77,
   "metadata": {},
   "outputs": [
    {
     "name": "stdout",
     "output_type": "stream",
     "text": [
      "Accuracy with Decision Tree: 0.8549091968534525\n"
     ]
    }
   ],
   "source": [
    "print(\"Accuracy with Decision Tree\", end=': ')\n",
    "dt_accuracy = fit_predict(tree, X_train, X_test, y_train, y_test)\n",
    "print(dt_accuracy)"
   ]
  },
  {
   "cell_type": "code",
   "execution_count": 78,
   "metadata": {},
   "outputs": [
    {
     "data": {
      "image/png": "[encoded data removed]",
      "text/plain": [
       "<Figure size 600x300 with 2 Axes>"
      ]
     },
     "metadata": {},
     "output_type": "display_data"
    }
   ],
   "source": [
    "show_classification_rpt(tree)"
   ]
  },
  {
   "cell_type": "markdown",
   "metadata": {},
   "source": [
    "### Hyper Parameter Tuning"
   ]
  },
  {
   "cell_type": "code",
   "execution_count": 79,
   "metadata": {},
   "outputs": [],
   "source": [
    "def fit_predict_dt(train, test, y_train, y_test, scaler, max_depth,\n",
    "               criterion = 'entropy', max_features=1, min_samples_split=4):\n",
    "    train_scaled = scaler.fit_transform(train)\n",
    "    test_scaled = scaler.transform(test)\n",
    "    dt = DecisionTreeClassifier(criterion = criterion, max_depth=max_depth,\n",
    "                               random_state= 101, max_features=max_features,\n",
    "                               min_samples_split=min_samples_split)\n",
    "    dt.fit(train_scaled, y_train)\n",
    "    y_pred = dt.predict(test_scaled)\n",
    "    return accuracy_score(y_test, y_pred)"
   ]
  },
  {
   "cell_type": "markdown",
   "metadata": {},
   "source": [
    "### Max depth parameter tuning"
   ]
  },
  {
   "cell_type": "code",
   "execution_count": 80,
   "metadata": {},
   "outputs": [],
   "source": [
    "list_max_depth = []"
   ]
  },
  {
   "cell_type": "code",
   "execution_count": 81,
   "metadata": {},
   "outputs": [
    {
     "name": "stdout",
     "output_type": "stream",
     "text": [
      "Accuracy score using max_depth =  1:0.8868602505584151\n",
      "Accuracy score using max_depth =  2:0.8868602505584151\n",
      "Accuracy score using max_depth =  3:0.8868602505584151\n",
      "Accuracy score using max_depth =  4:0.8865689035641449\n",
      "Accuracy score using max_depth =  5:0.8868602505584151\n",
      "Accuracy score using max_depth =  6:0.8867631348936583\n",
      "Accuracy score using max_depth =  7:0.8869573662231718\n",
      "Accuracy score using max_depth =  8:0.8872487132174419\n",
      "Accuracy score using max_depth =  9:0.8871515975526852\n",
      "Accuracy score using max_depth =  10:0.8902592988249004\n",
      "Accuracy score using max_depth =  11:0.8931727687676022\n",
      "Accuracy score using max_depth =  12:0.8889967951830631\n",
      "Accuracy score using max_depth =  13:0.8897737205011168\n",
      "Accuracy score using max_depth =  14:0.8928814217733321\n",
      "Accuracy score using max_depth =  15:0.8887054481887928\n",
      "Accuracy score using max_depth =  16:0.8882198698650092\n",
      "Accuracy score using max_depth =  17:0.8836554336214432\n",
      "Accuracy score using max_depth =  18:0.8859862095756046\n",
      "Accuracy score using max_depth =  19:0.8849179372632806\n",
      "Accuracy score using max_depth =  20:0.8798679226959308\n",
      "Accuracy score using max_depth =  21:0.8785083033893367\n",
      "Accuracy score using max_depth =  22:0.8791881130426338\n",
      "Accuracy score using max_depth =  23:0.8779256094007963\n",
      "Accuracy score using max_depth =  24:0.870253471885015\n",
      "Accuracy score using max_depth =  25:0.8782169563950665\n",
      "Accuracy score using max_depth =  26:0.8761775274351753\n",
      "Accuracy score using max_depth =  27:0.8732640574924735\n",
      "Accuracy score using max_depth =  28:0.8726813635039332\n",
      "Accuracy score using max_depth =  29:0.8716130911916092\n",
      "11\n"
     ]
    }
   ],
   "source": [
    "for i in range(1,30):\n",
    "    print(\"Accuracy score using max_depth = \", i, end = ':')\n",
    "    dt_max_depth = fit_predict_dt(X_train, X_test, y_train, y_test, StandardScaler(), i)\n",
    "    print(dt_max_depth)\n",
    "    list_max_depth.append(dt_max_depth)\n",
    "    \n",
    "max_depth_tuned = list_max_depth.index(max(list_max_depth))+1\n",
    "print(max_depth_tuned)"
   ]
  },
  {
   "cell_type": "markdown",
   "metadata": {},
   "source": [
    "### Max features tuning"
   ]
  },
  {
   "cell_type": "code",
   "execution_count": 82,
   "metadata": {},
   "outputs": [],
   "source": [
    "dict_max_features = {}"
   ]
  },
  {
   "cell_type": "code",
   "execution_count": 83,
   "metadata": {},
   "outputs": [
    {
     "name": "stdout",
     "output_type": "stream",
     "text": [
      "Accuracy score using max features = 0.1:0.8964747013693308\n",
      "Accuracy score using max features = 0.2:0.8934641157618723\n",
      "Accuracy score using max features = 0.30000000000000004:0.8943381567446829\n",
      "Accuracy score using max features = 0.4:0.8942410410799262\n",
      "Accuracy score using max features = 0.5:0.8935612314266291\n",
      "Accuracy score using max features = 0.6:0.8949208507332232\n",
      "Accuracy score using max features = 0.7000000000000001:0.8921044964552782\n",
      "Accuracy score using max features = 0.8:0.892201612120035\n",
      "Accuracy score using max features = 0.9:0.8928814217733321\n",
      "0.1\n"
     ]
    }
   ],
   "source": [
    "for i in np.arange(0.1,1.0,0.1):\n",
    "    print('Accuracy score using max features =', i, end = \":\")\n",
    "    dt_max_features = fit_predict_dt(X_train, X_test, y_train, y_test, StandardScaler(), max_depth=max_depth_tuned, max_features=i)\n",
    "    print(dt_max_features)\n",
    "    dict_max_features[i]=dt_max_features\n",
    "\n",
    "max_feature_tuned = max(dict_max_features, key=dict_max_features.get)\n",
    "print(max_feature_tuned)"
   ]
  },
  {
   "cell_type": "markdown",
   "metadata": {},
   "source": [
    "### Min samples split tuning"
   ]
  },
  {
   "cell_type": "code",
   "execution_count": 84,
   "metadata": {},
   "outputs": [],
   "source": [
    "dict_min_samples_split = {}"
   ]
  },
  {
   "cell_type": "code",
   "execution_count": 85,
   "metadata": {},
   "outputs": [
    {
     "name": "stdout",
     "output_type": "stream",
     "text": [
      "Accuracy score using min samples split= 2:0.8942410410799262\n",
      "Accuracy score using min samples split= 3:0.8948237350684666\n",
      "Accuracy score using min samples split= 4:0.8964747013693308\n",
      "Accuracy score using min samples split= 5:0.8949208507332232\n",
      "Accuracy score using min samples split= 6:0.8943381567446829\n",
      "Accuracy score using min samples split= 7:0.8931727687676022\n",
      "Accuracy score using min samples split= 8:0.8924929591143052\n",
      "Accuracy score using min samples split= 9:0.8963775857045742\n",
      "4\n"
     ]
    }
   ],
   "source": [
    "for i in range(2,10):\n",
    "    print('Accuracy score using min samples split=', i, end=\":\")\n",
    "    dt_min_sample_split = fit_predict_dt(X_train, X_test, y_train, y_test, StandardScaler(), max_depth=max_depth_tuned, max_features=max_feature_tuned, min_samples_split=i)\n",
    "    print(dt_min_sample_split)\n",
    "    dict_min_samples_split[i] = dt_min_sample_split\n",
    "    \n",
    "min_sample_split_tuned = max(dict_min_samples_split, key=dict_min_samples_split.get)\n",
    "print(min_sample_split_tuned)"
   ]
  },
  {
   "cell_type": "markdown",
   "metadata": {},
   "source": [
    "### Criterion tuning"
   ]
  },
  {
   "cell_type": "code",
   "execution_count": 86,
   "metadata": {},
   "outputs": [],
   "source": [
    "dict_index_tuned = {}"
   ]
  },
  {
   "cell_type": "code",
   "execution_count": 87,
   "metadata": {},
   "outputs": [
    {
     "name": "stdout",
     "output_type": "stream",
     "text": [
      "Accuracy score using criterion:  gini:0.8935612314266291\n",
      "Accuracy score using criterion:  entropy:0.8964747013693308\n",
      "entropy\n"
     ]
    }
   ],
   "source": [
    "for i in ['gini','entropy']:\n",
    "    print(\"Accuracy score using criterion: \", i, end = ':')\n",
    "    dt_index_score = fit_predict_dt(X_train, X_test, y_train, y_test, StandardScaler(), max_depth=max_depth_tuned, max_features = max_feature_tuned, min_samples_split=min_sample_split_tuned, criterion= i)\n",
    "    print(dt_index_score)\n",
    "    dict_index_tuned[i] = dt_index_score\n",
    "\n",
    "dt_index_tuned = max(dict_index_tuned, key=dict_index_tuned.get)\n",
    "print(dt_index_tuned)"
   ]
  },
  {
   "cell_type": "markdown",
   "metadata": {},
   "source": [
    "### Rerunning decision tree with best parameters"
   ]
  },
  {
   "cell_type": "code",
   "execution_count": 88,
   "metadata": {},
   "outputs": [
    {
     "name": "stdout",
     "output_type": "stream",
     "text": [
      "Accuracy score for decision tree using best param: :0.8964747013693308\n"
     ]
    }
   ],
   "source": [
    "dt_best_param_score  =  fit_predict_dt(X_train, X_test, y_train, y_test, StandardScaler(), max_depth=max_depth_tuned, max_features = max_feature_tuned, min_samples_split=min_sample_split_tuned, criterion= dt_index_tuned)\n",
    "print(\"Accuracy score for decision tree using best param: \", end = ':')\n",
    "print(dt_best_param_score)"
   ]
  },
  {
   "cell_type": "code",
   "execution_count": 92,
   "metadata": {},
   "outputs": [],
   "source": [
    "tree1 = DecisionTreeClassifier(criterion = dt_index_tuned, max_depth=max_depth_tuned,\n",
    "                               random_state= rand_state, max_features=max_feature_tuned,\n",
    "                               min_samples_split=min_sample_split_tuned)"
   ]
  },
  {
   "cell_type": "code",
   "execution_count": 93,
   "metadata": {},
   "outputs": [
    {
     "data": {
      "image/png": "[encoded data removed]",
      "text/plain": [
       "<Figure size 600x300 with 2 Axes>"
      ]
     },
     "metadata": {},
     "output_type": "display_data"
    }
   ],
   "source": [
    "show_classification_rpt(tree1)"
   ]
  },
  {
   "cell_type": "markdown",
   "metadata": {},
   "source": [
    "### Using polynomial features"
   ]
  },
  {
   "cell_type": "code",
   "execution_count": 94,
   "metadata": {},
   "outputs": [],
   "source": [
    "def create_poly(train, test, degree):\n",
    "    poly = PolynomialFeatures(degree = degree)\n",
    "    train_poly = poly.fit_transform(train)\n",
    "    test_poly = poly.fit_transform(test)\n",
    "    return train_poly, test_poly"
   ]
  },
  {
   "cell_type": "code",
   "execution_count": 264,
   "metadata": {},
   "outputs": [],
   "source": [
    "## polynomial features taking a lot of time as the number of columns are more. Hence commented the following piece of code"
   ]
  },
  {
   "cell_type": "code",
   "execution_count": 95,
   "metadata": {},
   "outputs": [],
   "source": [
    "# for degree in [1,2,3,4]:\n",
    "#     train_poly, test_poly = create_poly(X_train, X_test, degree)\n",
    "#     print(\"polynomial degree\", degree)\n",
    "#     fit_predict(train_poly, test_poly, y_train, y_test, StandardScaler(), 16, max_features = 0.2,min_samples_split=4, criterion='entropy')\n",
    "#     print(10 *'-')"
   ]
  },
  {
   "cell_type": "markdown",
   "metadata": {},
   "source": [
    "## Random Forest"
   ]
  },
  {
   "cell_type": "code",
   "execution_count": 96,
   "metadata": {},
   "outputs": [],
   "source": [
    "forest = RandomForestClassifier(criterion='entropy', oob_score=True)"
   ]
  },
  {
   "cell_type": "code",
   "execution_count": 97,
   "metadata": {},
   "outputs": [
    {
     "name": "stdout",
     "output_type": "stream",
     "text": [
      "Accuracy with Random Forest: 0.8869573662231718\n"
     ]
    }
   ],
   "source": [
    "print(\"Accuracy with Random Forest\", end=': ')\n",
    "rf_accuracy = fit_predict(forest, X_train, X_test, y_train, y_test)\n",
    "print(rf_accuracy)"
   ]
  },
  {
   "cell_type": "code",
   "execution_count": 98,
   "metadata": {},
   "outputs": [
    {
     "data": {
      "image/png": "[encoded data removed]",
      "text/plain": [
       "<Figure size 600x300 with 2 Axes>"
      ]
     },
     "metadata": {},
     "output_type": "display_data"
    }
   ],
   "source": [
    "show_classification_rpt(forest)"
   ]
  },
  {
   "cell_type": "markdown",
   "metadata": {},
   "source": [
    "### Parameter tuning using Grid Search"
   ]
  },
  {
   "cell_type": "code",
   "execution_count": 99,
   "metadata": {},
   "outputs": [],
   "source": [
    "from sklearn.model_selection import GridSearchCV"
   ]
  },
  {
   "cell_type": "code",
   "execution_count": 100,
   "metadata": {},
   "outputs": [],
   "source": [
    "params = {\n",
    "    'n_estimators': [200,500,700],\n",
    "    'max_depth': [10,15,20,25,30],\n",
    "    'min_samples_leaf': [3,5,7]\n",
    "}"
   ]
  },
  {
   "cell_type": "code",
   "execution_count": 101,
   "metadata": {},
   "outputs": [],
   "source": [
    "gs = GridSearchCV(forest, params, cv=cv, verbose=verbose, n_jobs=number_of_jobs)"
   ]
  },
  {
   "cell_type": "code",
   "execution_count": 187,
   "metadata": {},
   "outputs": [
    {
     "name": "stdout",
     "output_type": "stream",
     "text": [
      "Fitting 2 folds for each of 45 candidates, totalling 90 fits\n"
     ]
    },
    {
     "name": "stderr",
     "output_type": "stream",
     "text": [
      "[Parallel(n_jobs=-1)]: Using backend LokyBackend with 4 concurrent workers.\n",
      "[Parallel(n_jobs=-1)]: Done  24 tasks      | elapsed:  1.9min\n",
      "[Parallel(n_jobs=-1)]: Done  90 out of  90 | elapsed:  9.0min finished\n"
     ]
    }
   ],
   "source": [
    "if grid_search_enable == True:\n",
    "    gs.fit(X_train, y_train)"
   ]
  },
  {
   "cell_type": "code",
   "execution_count": 188,
   "metadata": {},
   "outputs": [
    {
     "name": "stdout",
     "output_type": "stream",
     "text": [
      "{'max_depth': 10, 'min_samples_leaf': 5, 'n_estimators': 700}\n"
     ]
    }
   ],
   "source": [
    "if grid_search_enable == True:\n",
    "    print(gs.best_params_)"
   ]
  },
  {
   "cell_type": "code",
   "execution_count": 189,
   "metadata": {},
   "outputs": [],
   "source": [
    "if grid_search_enable == True:\n",
    "    forest_best_max_depth = gs.best_params_['max_depth']\n",
    "    forest_best_min_samples = gs.best_params_['min_samples_leaf']\n",
    "    forest_best_n_estimators = gs.best_params_['n_estimators']\n",
    "    #forest_best_criterion = gs.best_params_['criterion']"
   ]
  },
  {
   "cell_type": "code",
   "execution_count": 190,
   "metadata": {},
   "outputs": [
    {
     "name": "stdout",
     "output_type": "stream",
     "text": [
      "RandomForestClassifier(bootstrap=True, ccp_alpha=0.0, class_weight=None,\n",
      "                       criterion='entropy', max_depth=10, max_features='auto',\n",
      "                       max_leaf_nodes=None, max_samples=None,\n",
      "                       min_impurity_decrease=0.0, min_impurity_split=None,\n",
      "                       min_samples_leaf=5, min_samples_split=2,\n",
      "                       min_weight_fraction_leaf=0.0, n_estimators=700,\n",
      "                       n_jobs=None, oob_score=True, random_state=None,\n",
      "                       verbose=0, warm_start=False)\n"
     ]
    }
   ],
   "source": [
    "if grid_search_enable == True:\n",
    "    print(gs.best_estimator_)"
   ]
  },
  {
   "cell_type": "markdown",
   "metadata": {},
   "source": [
    "### Retraining with best estimators"
   ]
  },
  {
   "cell_type": "code",
   "execution_count": 191,
   "metadata": {},
   "outputs": [],
   "source": [
    "if grid_search_enable == True:\n",
    "    forest1 = RandomForestClassifier(bootstrap=True, ccp_alpha=0.0, class_weight=None,\n",
    "                       criterion='entropy', max_depth=forest_best_max_depth, max_features='auto',\n",
    "                       max_leaf_nodes=None, max_samples=None,\n",
    "                       min_impurity_decrease=0.0, min_impurity_split=None,\n",
    "                       min_samples_leaf=forest_best_min_samples, min_samples_split=2,\n",
    "                       min_weight_fraction_leaf=0.0, n_estimators=forest_best_n_estimators,\n",
    "                       n_jobs=number_of_jobs, oob_score=True, random_state=rand_state,\n",
    "                       verbose=0, warm_start=False)"
   ]
  },
  {
   "cell_type": "code",
   "execution_count": 192,
   "metadata": {},
   "outputs": [],
   "source": [
    "if grid_search_enable == True:\n",
    "    forest1.fit(X_train, y_train)"
   ]
  },
  {
   "cell_type": "code",
   "execution_count": 193,
   "metadata": {},
   "outputs": [],
   "source": [
    "if grid_search_enable == True:\n",
    "    pred_forest1 = forest1.predict(X_test)"
   ]
  },
  {
   "cell_type": "code",
   "execution_count": 194,
   "metadata": {},
   "outputs": [
    {
     "name": "stdout",
     "output_type": "stream",
     "text": [
      "Accuracy with Random Forest after Hyper Parameter Tuning: 0.8996795183063028\n"
     ]
    }
   ],
   "source": [
    "if grid_search_enable == True:\n",
    "    print(\"Accuracy with Random Forest after Hyper Parameter Tuning\", end=': ')\n",
    "    rf_hyper_accuracy = accuracy_score(y_test, pred_forest1)\n",
    "    print(rf_hyper_accuracy)"
   ]
  },
  {
   "cell_type": "code",
   "execution_count": 195,
   "metadata": {},
   "outputs": [
    {
     "name": "stdout",
     "output_type": "stream",
     "text": [
      "(0.14179948769158793, 'f.euribor_lt_1')\n",
      "(0.13243410432625283, 'f.euribor_gt_4')\n",
      "(0.09140105269693241, 'cons.price.idx')\n",
      "(0.0875839544871553, 'pdays')\n",
      "(0.035722252096226446, 'poutcome_success')\n",
      "(0.03053642864299725, 'poutcome_failure')\n",
      "(0.028317015336440387, 'f.euribor_gt_1_lt_2')\n",
      "(0.028243417664337574, 'f.previous_new user')\n",
      "(0.026945702929547156, 'contact_telephone')\n",
      "(0.026561653023166158, 'f.previous_existing user')\n",
      "(0.024848009118038767, 'contact_cellular')\n",
      "(0.023640002768234216, 'month_may')\n",
      "(0.020591305695899537, 'f.age_weightage')\n",
      "(0.01622358572039929, 'f.seasons_spring')\n",
      "(0.015863565076978437, 'campaign')\n",
      "(0.015533093136756755, 'f.season_weight')\n",
      "(0.014875667079553704, 'month_oct')\n",
      "(0.012347943427545102, 'month_mar')\n",
      "(0.011101082066328056, 'f.festivals')\n",
      "(0.010640818731409776, 'f.seasons_summer')\n",
      "(0.00843848524709509, 'f.salary')\n",
      "(0.007598308757690786, 'month_apr')\n",
      "(0.00732561057280064, 'f.retired_status_retired')\n",
      "(0.00676766195929507, 'month_jun')\n",
      "(0.006369723247777698, 'f.seasons_autumn')\n",
      "(0.006267487952553236, 'f.bonus_months')\n",
      "(0.006047771320236277, 'day_of_week_mon')\n",
      "(0.005885743729846279, 'f.retired_status_not-retired')\n",
      "(0.005794316883517659, 'f.age_range_weightage')\n",
      "(0.005331064391436529, 'month_nov')\n",
      "(0.005301144450181039, 'day_of_week_thu')\n",
      "(0.0049745052698669965, 'education_university.degree')\n",
      "(0.004912253166459117, 'f.marital_weightage')\n",
      "(0.004883272365545922, 'f.age_21_to_30')\n",
      "(0.004743209972999361, 'job_blue-collar')\n",
      "(0.004475414709065142, 'day_of_week_tue')\n",
      "(0.004368345055841642, 'day_of_week_fri')\n",
      "(0.004107465794141032, 'housing_yes')\n",
      "(0.0040216388430363865, 'housing_no')\n",
      "(0.0039381199431157326, 'job_retired')\n",
      "(0.003920566398402159, 'day_of_week_wed')\n",
      "(0.003853853038322713, 'f.income_tax')\n",
      "(0.003830589624236582, 'month_sep')\n",
      "(0.0037625480515233517, 'marital_single')\n",
      "(0.0037569982638252296, 'f.age_31_to_40')\n",
      "(0.0035976772369498765, 'education_high.school')\n",
      "(0.0035444768135107422, 'job_student')\n",
      "(0.003393574991842873, 'education_basic.9y')\n",
      "(0.0033212954731453707, 'marital_married')\n",
      "(0.0032548040404138173, 'month_jul')\n",
      "(0.003193594986897211, 'f.commitment_medium')\n",
      "(0.0031871349379801687, 'f.age_41_to_50')\n",
      "(0.0030603012992182523, 'f.age_61_to_70')\n",
      "(0.002939752872597598, 'f.savings_intent_high')\n",
      "(0.002880446740737324, 'job_admin.')\n",
      "(0.002789299970539471, 'month_aug')\n",
      "(0.0027394621093381082, 'f.commitment_low')\n",
      "(0.002724061990273674, 'loan_yes')\n",
      "(0.0026906333402854856, 'education_professional.course')\n",
      "(0.0026159745771464358, 'job_technician')\n",
      "(0.0025405729129101217, 'loan_no')\n",
      "(0.002508785730019197, 'f.savings_intent_medium')\n",
      "(0.0024008446077483543, 'f.savings_intent_low')\n",
      "(0.002297170638451754, 'education_basic.4y')\n",
      "(0.00214877081860957, 'marital_divorced')\n",
      "(0.0021035052685171025, 'f.age_51_to_60')\n",
      "(0.002081118377452289, 'job_services')\n",
      "(0.0014647439422566999, 'f.commitment_high')\n",
      "(0.001344726082771322, 'job_self-employed')\n",
      "(0.0013226307064219654, 'f.age_71_to_80')\n",
      "(0.0011416569079591612, 'education_basic.6y')\n",
      "(0.0011036930220684432, 'job_housemaid')\n",
      "(0.0010838426252707488, 'job_unemployed')\n",
      "(0.0010603141158217401, 'job_management')\n",
      "(0.00090130987480059, 'f.seasons_winter')\n",
      "(0.0008803923603568543, 'job_entrepreneur')\n",
      "(0.0007999361892609827, 'month_dec')\n",
      "(0.0005225995070179784, 'f.age_81_to_90')\n",
      "(0.00042475628598071267, 'f.age_11_to_20')\n",
      "(3.77981041355377e-05, 'f.euribor_gt_3_lt_4')\n",
      "(1.1244472293047264e-05, 'education_illiterate')\n",
      "(8.553444006392064e-07, 'f.age_91_to_100')\n"
     ]
    }
   ],
   "source": [
    "if grid_search_enable == True:\n",
    "    for x in sorted(list(zip(forest1.feature_importances_, X_train.columns)), reverse=True):\n",
    "        print(x)"
   ]
  },
  {
   "cell_type": "code",
   "execution_count": 196,
   "metadata": {},
   "outputs": [],
   "source": [
    "### Confusion matrix\n",
    "from sklearn.metrics import confusion_matrix, classification_report"
   ]
  },
  {
   "cell_type": "code",
   "execution_count": 197,
   "metadata": {},
   "outputs": [
    {
     "name": "stdout",
     "output_type": "stream",
     "text": [
      "[[9035   97]\n",
      " [ 936  229]]\n"
     ]
    }
   ],
   "source": [
    "if grid_search_enable == True:\n",
    "    print(confusion_matrix(y_test, pred_forest1))"
   ]
  },
  {
   "cell_type": "markdown",
   "metadata": {},
   "source": [
    "## Accuracy Summary"
   ]
  },
  {
   "cell_type": "code",
   "execution_count": 198,
   "metadata": {},
   "outputs": [
    {
     "name": "stdout",
     "output_type": "stream",
     "text": [
      "Accuracy with Logistic Regression: 0.8986112459939788\n",
      "Accuracy with Decision Tree: 0.8549091968534525\n",
      "Accuracy of Decision Tree after Hyper Parameter Tuning: :0.8969602796931145\n",
      "Accuracy with Random Forest: 0.8869573662231718\n",
      "Accuracy with Random Forest after Hyper Parameter Tuning: 0.8996795183063028\n"
     ]
    }
   ],
   "source": [
    "print(\"Accuracy with Logistic Regression\", end=': ')\n",
    "print(logit_accuracy)\n",
    "print(\"Accuracy with Decision Tree\", end=': ')\n",
    "print(dt_accuracy)\n",
    "print(\"Accuracy of Decision Tree after Hyper Parameter Tuning: \", end = ':')\n",
    "print(dt_best_param_score)\n",
    "print(\"Accuracy with Random Forest\", end=': ')\n",
    "print(rf_accuracy)\n",
    "if grid_search_enable == True:\n",
    "    print(\"Accuracy with Random Forest after Hyper Parameter Tuning\", end=': ')\n",
    "    print(rf_hyper_accuracy)"
   ]
  },
  {
   "cell_type": "code",
   "execution_count": 199,
   "metadata": {},
   "outputs": [],
   "source": [
    "# todo -- for rows where there are no patterns but td = yes, check if any patterns emerge and record it and re-run the models\n",
    "# todo -- try adaboost algorithm"
   ]
  },
  {
   "cell_type": "markdown",
   "metadata": {},
   "source": [
    "## AdaBoost"
   ]
  },
  {
   "cell_type": "code",
   "execution_count": 200,
   "metadata": {},
   "outputs": [],
   "source": [
    "from sklearn.ensemble import AdaBoostClassifier"
   ]
  },
  {
   "cell_type": "code",
   "execution_count": 201,
   "metadata": {},
   "outputs": [],
   "source": [
    "adabst_fit = AdaBoostClassifier(base_estimator=logit, random_state=rand_state, n_estimators=100)"
   ]
  },
  {
   "cell_type": "code",
   "execution_count": 202,
   "metadata": {},
   "outputs": [
    {
     "data": {
      "text/plain": [
       "AdaBoostClassifier(algorithm='SAMME.R',\n",
       "                   base_estimator=LogisticRegression(C=1.0, class_weight=None,\n",
       "                                                     dual=False,\n",
       "                                                     fit_intercept=True,\n",
       "                                                     intercept_scaling=1,\n",
       "                                                     l1_ratio=None,\n",
       "                                                     max_iter=100,\n",
       "                                                     multi_class='auto',\n",
       "                                                     n_jobs=None, penalty='l2',\n",
       "                                                     random_state=None,\n",
       "                                                     solver='lbfgs', tol=0.0001,\n",
       "                                                     verbose=0,\n",
       "                                                     warm_start=False),\n",
       "                   learning_rate=1.0, n_estimators=100, random_state=101)"
      ]
     },
     "execution_count": 202,
     "metadata": {},
     "output_type": "execute_result"
    }
   ],
   "source": [
    "adabst_fit.fit(X_train, y_train)"
   ]
  },
  {
   "cell_type": "code",
   "execution_count": 203,
   "metadata": {},
   "outputs": [
    {
     "name": "stdout",
     "output_type": "stream",
     "text": [
      "Accuracy with Ada Boost: 0.899291055647276\n"
     ]
    }
   ],
   "source": [
    "print(\"Accuracy with Ada Boost\", end=': ')\n",
    "ada_boost_predict = adabst_fit.predict(X_test)\n",
    "ada_boost_accuracy = accuracy_score(y_test,ada_boost_predict)\n",
    "print(ada_boost_accuracy)"
   ]
  },
  {
   "cell_type": "code",
   "execution_count": 204,
   "metadata": {},
   "outputs": [
    {
     "name": "stdout",
     "output_type": "stream",
     "text": [
      "[[9033   99]\n",
      " [ 938  227]]\n"
     ]
    }
   ],
   "source": [
    "print(confusion_matrix(y_test, adabst_fit.predict(X_test)))"
   ]
  },
  {
   "cell_type": "markdown",
   "metadata": {},
   "source": [
    "### Adaboost with Grid Search"
   ]
  },
  {
   "cell_type": "code",
   "execution_count": 205,
   "metadata": {},
   "outputs": [],
   "source": [
    "params_adaboost = {\n",
    "    'n_estimators': [100,200,300],\n",
    "    'base_estimator': [logit, tree1],\n",
    "    'learning_rate': [0.5,0.75,1.0]\n",
    "}"
   ]
  },
  {
   "cell_type": "code",
   "execution_count": 206,
   "metadata": {},
   "outputs": [],
   "source": [
    "ada_gs = GridSearchCV(adabst_fit, params_adaboost, cv=cv, n_jobs=number_of_jobs)"
   ]
  },
  {
   "cell_type": "code",
   "execution_count": 207,
   "metadata": {},
   "outputs": [],
   "source": [
    "if grid_search_enable == True:\n",
    "    ada_gs.fit(X_train, y_train)"
   ]
  },
  {
   "cell_type": "code",
   "execution_count": 208,
   "metadata": {},
   "outputs": [],
   "source": [
    "if grid_search_enable == True:\n",
    "    adabst_best_estimator = ada_gs.best_params_['base_estimator']\n",
    "    adabst_best_learning_rate = ada_gs.best_params_['learning_rate']\n",
    "    adabst_best_n_estimators = ada_gs.best_params_['n_estimators']"
   ]
  },
  {
   "cell_type": "code",
   "execution_count": 209,
   "metadata": {},
   "outputs": [],
   "source": [
    "if grid_search_enable == True:\n",
    "    ada_gs.best_params_"
   ]
  },
  {
   "cell_type": "markdown",
   "metadata": {},
   "source": [
    "### Adaboost - Retraining with best estimators"
   ]
  },
  {
   "cell_type": "code",
   "execution_count": 210,
   "metadata": {},
   "outputs": [],
   "source": [
    "if grid_search_enable == True:\n",
    "    ada_best = AdaBoostClassifier(base_estimator=adabst_best_estimator, random_state=rand_state,\n",
    "                                  n_estimators=adabst_best_n_estimators, learning_rate=adabst_best_learning_rate)"
   ]
  },
  {
   "cell_type": "code",
   "execution_count": 211,
   "metadata": {},
   "outputs": [],
   "source": [
    "if grid_search_enable == True:\n",
    "    ada_best.fit(X_train, y_train)\n",
    "    ada_best_predict = ada_best.predict(X_test)"
   ]
  },
  {
   "cell_type": "code",
   "execution_count": 212,
   "metadata": {},
   "outputs": [
    {
     "name": "stdout",
     "output_type": "stream",
     "text": [
      "Accuracy with Adaboost after Hyper Parameter Tuning: 0.8996795183063028\n"
     ]
    }
   ],
   "source": [
    "if grid_search_enable == True:\n",
    "    print(\"Accuracy with Adaboost after Hyper Parameter Tuning\", end=': ')\n",
    "    ada_best_hyper_accuracy = accuracy_score(y_test, ada_best_predict)\n",
    "    print(ada_best_hyper_accuracy)"
   ]
  },
  {
   "cell_type": "markdown",
   "metadata": {},
   "source": [
    "## Gradient Boost"
   ]
  },
  {
   "cell_type": "code",
   "execution_count": 213,
   "metadata": {},
   "outputs": [],
   "source": [
    "from sklearn.ensemble import GradientBoostingClassifier"
   ]
  },
  {
   "cell_type": "code",
   "execution_count": 214,
   "metadata": {},
   "outputs": [],
   "source": [
    "gbc_fit = GradientBoostingClassifier(n_estimators=500,\n",
    "                                     min_samples_split=2,min_samples_leaf=1,max_depth=1,random_state=rand_state)"
   ]
  },
  {
   "cell_type": "code",
   "execution_count": 215,
   "metadata": {},
   "outputs": [
    {
     "data": {
      "text/plain": [
       "GradientBoostingClassifier(ccp_alpha=0.0, criterion='friedman_mse', init=None,\n",
       "                           learning_rate=0.1, loss='deviance', max_depth=1,\n",
       "                           max_features=None, max_leaf_nodes=None,\n",
       "                           min_impurity_decrease=0.0, min_impurity_split=None,\n",
       "                           min_samples_leaf=1, min_samples_split=2,\n",
       "                           min_weight_fraction_leaf=0.0, n_estimators=500,\n",
       "                           n_iter_no_change=None, presort='deprecated',\n",
       "                           random_state=101, subsample=1.0, tol=0.0001,\n",
       "                           validation_fraction=0.1, verbose=0,\n",
       "                           warm_start=False)"
      ]
     },
     "execution_count": 215,
     "metadata": {},
     "output_type": "execute_result"
    }
   ],
   "source": [
    "gbc_fit.fit(X_train, y_train)"
   ]
  },
  {
   "cell_type": "code",
   "execution_count": 216,
   "metadata": {},
   "outputs": [
    {
     "name": "stdout",
     "output_type": "stream",
     "text": [
      "Accuracy with Gradient Boost: 0.8981256676701952\n"
     ]
    }
   ],
   "source": [
    "print(\"Accuracy with Gradient Boost\", end=': ')\n",
    "gbc_accuracy = accuracy_score(y_test,gbc_fit.predict(X_test))\n",
    "print(gbc_accuracy)"
   ]
  },
  {
   "cell_type": "markdown",
   "metadata": {},
   "source": [
    "### Gradient boost with Grid Search"
   ]
  },
  {
   "cell_type": "code",
   "execution_count": 217,
   "metadata": {},
   "outputs": [],
   "source": [
    "params_gbc = {\n",
    "    'n_estimators': [100,300,500],\n",
    "    'max_depth': [2,3,4],\n",
    "    'learning_rate': [0.05,0.075,0.1]\n",
    "}"
   ]
  },
  {
   "cell_type": "code",
   "execution_count": 218,
   "metadata": {},
   "outputs": [],
   "source": [
    "gbc_gs = GridSearchCV(gbc_fit, params_gbc, cv=cv, n_jobs=number_of_jobs)"
   ]
  },
  {
   "cell_type": "code",
   "execution_count": 219,
   "metadata": {
    "scrolled": true
   },
   "outputs": [],
   "source": [
    "if grid_search_enable == True:\n",
    "    gbc_gs.fit(X_train, y_train)"
   ]
  },
  {
   "cell_type": "code",
   "execution_count": 220,
   "metadata": {},
   "outputs": [],
   "source": [
    "if grid_search_enable == True:\n",
    "    gbc_best_estimator = gbc_gs.best_params_['n_estimators']\n",
    "    gbc_best_max_depth = gbc_gs.best_params_['max_depth']\n",
    "    gbc_best_learning_rate = gbc_gs.best_params_['learning_rate']"
   ]
  },
  {
   "cell_type": "code",
   "execution_count": 221,
   "metadata": {},
   "outputs": [
    {
     "name": "stdout",
     "output_type": "stream",
     "text": [
      "{'learning_rate': 0.05, 'max_depth': 4, 'n_estimators': 100}\n"
     ]
    }
   ],
   "source": [
    "if grid_search_enable == True:\n",
    "    print(gbc_gs.best_params_)"
   ]
  },
  {
   "cell_type": "markdown",
   "metadata": {},
   "source": [
    "### Gradient Boost - With Best Parameters"
   ]
  },
  {
   "cell_type": "code",
   "execution_count": 222,
   "metadata": {},
   "outputs": [],
   "source": [
    "if grid_search_enable == True:\n",
    "    gbc_best = GradientBoostingClassifier(n_estimators=gbc_best_estimator,\n",
    "                                     min_samples_split=2,min_samples_leaf=1,max_depth=gbc_best_max_depth,random_state=rand_state,\n",
    "                                         learning_rate=gbc_best_learning_rate)"
   ]
  },
  {
   "cell_type": "code",
   "execution_count": 223,
   "metadata": {},
   "outputs": [],
   "source": [
    "if grid_search_enable == True:\n",
    "    gbc_best.fit(X_train, y_train)\n",
    "    gbc_best_predict = gbc_best.predict(X_test)"
   ]
  },
  {
   "cell_type": "code",
   "execution_count": 224,
   "metadata": {},
   "outputs": [
    {
     "name": "stdout",
     "output_type": "stream",
     "text": [
      "Accuracy with Gradient Boost after Hyper Parameter Tuning: 0.8994852869767893\n"
     ]
    }
   ],
   "source": [
    "if grid_search_enable == True:\n",
    "    print(\"Accuracy with Gradient Boost after Hyper Parameter Tuning\", end=': ')\n",
    "    gbc_best_hyper_accuracy = accuracy_score(y_test, gbc_best_predict)\n",
    "    print(gbc_best_hyper_accuracy)"
   ]
  },
  {
   "cell_type": "markdown",
   "metadata": {},
   "source": [
    "## XG Boost"
   ]
  },
  {
   "cell_type": "code",
   "execution_count": 225,
   "metadata": {},
   "outputs": [],
   "source": [
    "from xgboost import XGBClassifier"
   ]
  },
  {
   "cell_type": "code",
   "execution_count": 226,
   "metadata": {},
   "outputs": [
    {
     "data": {
      "text/plain": [
       "XGBClassifier(base_score=0.5, booster='gbtree', colsample_bylevel=1,\n",
       "              colsample_bynode=1, colsample_bytree=1, gamma=0,\n",
       "              learning_rate=0.1, max_delta_step=0, max_depth=2,\n",
       "              min_child_weight=1, missing=None, n_estimators=5000, n_jobs=-1,\n",
       "              nthread=None, objective='binary:logistic', random_state=101,\n",
       "              reg_alpha=0, reg_lambda=1, scale_pos_weight=1, seed=None,\n",
       "              silent=None, subsample=1, verbosity=1)"
      ]
     },
     "execution_count": 226,
     "metadata": {},
     "output_type": "execute_result"
    }
   ],
   "source": [
    "xgb_fit = XGBClassifier(max_depth=2, n_estimators=5000, random_state=rand_state, n_jobs=number_of_jobs)\n",
    "xgb_fit.fit(X_train, y_train)"
   ]
  },
  {
   "cell_type": "code",
   "execution_count": 227,
   "metadata": {},
   "outputs": [
    {
     "name": "stdout",
     "output_type": "stream",
     "text": [
      "Accuracy with XG Boost: 0.8994852869767893\n"
     ]
    }
   ],
   "source": [
    "print(\"Accuracy with XG Boost\", end=': ')\n",
    "xgb_predict = xgb_fit.predict(X_test)\n",
    "xgb_accuracy = accuracy_score(y_test,xgb_predict)\n",
    "print(xgb_accuracy)"
   ]
  },
  {
   "cell_type": "markdown",
   "metadata": {},
   "source": [
    "### XG Boost with Grid Search"
   ]
  },
  {
   "cell_type": "code",
   "execution_count": 228,
   "metadata": {},
   "outputs": [],
   "source": [
    "xgb_params = {\n",
    "    'max_depth': [2,3,4],\n",
    "    'n_estimators': [300,500,700],\n",
    "    'learning_rate': [0.05,0.075,0.1]\n",
    "}"
   ]
  },
  {
   "cell_type": "code",
   "execution_count": 229,
   "metadata": {},
   "outputs": [],
   "source": [
    "xgb_gs = GridSearchCV(xgb_fit, xgb_params, cv=cv, n_jobs=number_of_jobs)"
   ]
  },
  {
   "cell_type": "code",
   "execution_count": 230,
   "metadata": {},
   "outputs": [],
   "source": [
    "if grid_search_enable == True:\n",
    "    xgb_gs.fit(X_train, y_train)"
   ]
  },
  {
   "cell_type": "code",
   "execution_count": 231,
   "metadata": {},
   "outputs": [
    {
     "name": "stdout",
     "output_type": "stream",
     "text": [
      "{'learning_rate': 0.1, 'max_depth': 2, 'n_estimators': 500}\n"
     ]
    }
   ],
   "source": [
    "if grid_search_enable == True:\n",
    "    print(xgb_gs.best_params_)"
   ]
  },
  {
   "cell_type": "code",
   "execution_count": 232,
   "metadata": {},
   "outputs": [],
   "source": [
    "if grid_search_enable == True:\n",
    "    xgb_best_max_depth = xgb_gs.best_params_['max_depth']\n",
    "    xgb_best_n_estimators = xgb_gs.best_params_['n_estimators']\n",
    "    xgb_best_learning_rate = xgb_gs.best_params_['learning_rate']"
   ]
  },
  {
   "cell_type": "markdown",
   "metadata": {},
   "source": [
    "### Re-running XG Boost with Best Parameters"
   ]
  },
  {
   "cell_type": "code",
   "execution_count": 233,
   "metadata": {},
   "outputs": [],
   "source": [
    "if grid_search_enable == True:\n",
    "    xgb_best = XGBClassifier(max_depth=xgb_best_max_depth,\n",
    "                             n_estimators=xgb_best_n_estimators, random_state=rand_state,\n",
    "                             n_jobs=number_of_jobs, learning_rate = xgb_best_learning_rate)\n",
    "    xgb_best.fit(X_train, y_train)\n",
    "    xgb_best_predict = xgb_best.predict(X_test)"
   ]
  },
  {
   "cell_type": "code",
   "execution_count": 234,
   "metadata": {},
   "outputs": [
    {
     "name": "stdout",
     "output_type": "stream",
     "text": [
      "Accuracy with XG Boost after Hyper Parameter Tuning: 0.8995824026415461\n"
     ]
    }
   ],
   "source": [
    "if grid_search_enable == True:\n",
    "    print(\"Accuracy with XG Boost after Hyper Parameter Tuning\", end=': ')\n",
    "    xgb_best_hyper_accuracy = accuracy_score(y_test, xgb_best_predict)\n",
    "    print(xgb_best_hyper_accuracy)"
   ]
  },
  {
   "cell_type": "markdown",
   "metadata": {},
   "source": [
    "## Accuracy Summary"
   ]
  },
  {
   "cell_type": "code",
   "execution_count": 235,
   "metadata": {},
   "outputs": [
    {
     "name": "stdout",
     "output_type": "stream",
     "text": [
      "Accuracy with Logistic Regression: 0.8986112459939788\n",
      "Accuracy with Decision Tree: 0.8549091968534525\n",
      "Accuracy with Decision Tree after Hyper Parameter Tuning: :0.8969602796931145\n",
      "Accuracy with Random Forest: 0.8869573662231718\n",
      "Accuracy with Random Forest after Hyper Parameter Tuning: 0.8996795183063028\n",
      "Accuracy with Ada Boost: 0.899291055647276\n",
      "Accuracy with Ada Boost after Hyper Parameter Tuning: 0.8996795183063028\n",
      "Accuracy with Gradient Boost: 0.8981256676701952\n",
      "Accuracy with Gradient Boost after Hyper Parameter Tuning: 0.8994852869767893\n",
      "Accuracy with XG Boost: 0.8994852869767893\n",
      "Accuracy with XG Boost after Hyper Parameter Tuning: 0.8995824026415461\n"
     ]
    }
   ],
   "source": [
    "print(\"Accuracy with Logistic Regression\", end=': ')\n",
    "print(logit_accuracy)\n",
    "\n",
    "print(\"Accuracy with Decision Tree\", end=': ')\n",
    "print(dt_accuracy)\n",
    "print(\"Accuracy with Decision Tree after Hyper Parameter Tuning: \", end = ':')\n",
    "print(dt_best_param_score)\n",
    "\n",
    "print(\"Accuracy with Random Forest\", end=': ')\n",
    "print(rf_accuracy)\n",
    "if grid_search_enable == True:\n",
    "    print(\"Accuracy with Random Forest after Hyper Parameter Tuning\", end=': ')\n",
    "    print(rf_hyper_accuracy)\n",
    "\n",
    "print(\"Accuracy with Ada Boost\", end=': ')\n",
    "print(ada_boost_accuracy)\n",
    "if grid_search_enable == True:\n",
    "    print(\"Accuracy with Ada Boost after Hyper Parameter Tuning\", end=': ')\n",
    "    print(ada_best_hyper_accuracy)\n",
    "\n",
    "print(\"Accuracy with Gradient Boost\", end=': ')\n",
    "print(gbc_accuracy)\n",
    "if grid_search_enable == True:\n",
    "    print(\"Accuracy with Gradient Boost after Hyper Parameter Tuning\", end=': ')\n",
    "    print(gbc_best_hyper_accuracy)\n",
    "    \n",
    "print(\"Accuracy with XG Boost\", end=': ')\n",
    "print(xgb_accuracy)\n",
    "if grid_search_enable == True:\n",
    "    print(\"Accuracy with XG Boost after Hyper Parameter Tuning\", end=': ')\n",
    "    print(xgb_best_hyper_accuracy)"
   ]
  },
  {
   "cell_type": "code",
   "execution_count": null,
   "metadata": {},
   "outputs": [],
   "source": []
  }
 ],
 "metadata": {
  "kernelspec": {
   "display_name": "Python 3",
   "language": "python",
   "name": "python3"
  },
  "language_info": {
   "codemirror_mode": {
    "name": "ipython",
    "version": 3
   },
   "file_extension": ".py",
   "mimetype": "text/x-python",
   "name": "python",
   "nbconvert_exporter": "python",
   "pygments_lexer": "ipython3",
   "version": "3.7.6"
  }
 },
 "nbformat": 4,
 "nbformat_minor": 4
}
