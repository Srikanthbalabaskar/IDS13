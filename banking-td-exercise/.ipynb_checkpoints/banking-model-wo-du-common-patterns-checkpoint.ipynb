{
 "cells": [
  {
   "cell_type": "code",
   "execution_count": 183,
   "metadata": {},
   "outputs": [],
   "source": [
    "import pandas as pd\n",
    "import numpy as np\n",
    "import warnings\n",
    "\n",
    "from sklearn.linear_model import LogisticRegression\n",
    "from sklearn.tree import DecisionTreeClassifier\n",
    "from sklearn.ensemble import RandomForestClassifier\n",
    "from sklearn.model_selection import train_test_split\n",
    "from sklearn.metrics import accuracy_score\n",
    "\n",
    "from sklearn.preprocessing import StandardScaler\n",
    "from sklearn.preprocessing import PolynomialFeatures\n",
    "\n",
    "warnings.filterwarnings(\"ignore\")\n",
    "np.random.seed(42)"
   ]
  },
  {
   "cell_type": "code",
   "execution_count": 184,
   "metadata": {},
   "outputs": [],
   "source": [
    "bdf = pd.read_csv(\"featured_bank_imputed_wo_duration.csv\")"
   ]
  },
  {
   "cell_type": "code",
   "execution_count": 185,
   "metadata": {},
   "outputs": [],
   "source": [
    "dropped_columns= ['s.no','age','emp.var.rate','cons.conf.idx','euribor3m','nr.employed','default']\n",
    "categorical_columns=['job','marital','education','housing','loan','contact','month','day_of_week','poutcome','f.euribor','f.age','f.pattern']"
   ]
  },
  {
   "cell_type": "code",
   "execution_count": 186,
   "metadata": {},
   "outputs": [
    {
     "data": {
      "text/plain": [
       "Index(['s.no', 'age', 'job', 'marital', 'education', 'default', 'housing',\n",
       "       'loan', 'contact', 'month', 'day_of_week', 'campaign', 'pdays',\n",
       "       'previous', 'poutcome', 'emp.var.rate', 'cons.price.idx',\n",
       "       'cons.conf.idx', 'euribor3m', 'nr.employed', 'y', 'f.euribor', 'f.age',\n",
       "       'f.pattern'],\n",
       "      dtype='object')"
      ]
     },
     "execution_count": 186,
     "metadata": {},
     "output_type": "execute_result"
    }
   ],
   "source": [
    "#columns before dropping\n",
    "bdf.columns"
   ]
  },
  {
   "cell_type": "code",
   "execution_count": 187,
   "metadata": {},
   "outputs": [
    {
     "name": "stdout",
     "output_type": "stream",
     "text": [
      "<class 'pandas.core.frame.DataFrame'>\n",
      "RangeIndex: 41188 entries, 0 to 41187\n",
      "Data columns (total 24 columns):\n",
      " #   Column          Non-Null Count  Dtype  \n",
      "---  ------          --------------  -----  \n",
      " 0   s.no            41188 non-null  int64  \n",
      " 1   age             41188 non-null  int64  \n",
      " 2   job             41188 non-null  object \n",
      " 3   marital         41188 non-null  object \n",
      " 4   education       41188 non-null  object \n",
      " 5   default         41188 non-null  object \n",
      " 6   housing         41188 non-null  object \n",
      " 7   loan            41188 non-null  object \n",
      " 8   contact         41188 non-null  object \n",
      " 9   month           41188 non-null  object \n",
      " 10  day_of_week     41188 non-null  object \n",
      " 11  campaign        41188 non-null  int64  \n",
      " 12  pdays           41188 non-null  int64  \n",
      " 13  previous        41188 non-null  int64  \n",
      " 14  poutcome        41188 non-null  object \n",
      " 15  emp.var.rate    41188 non-null  float64\n",
      " 16  cons.price.idx  41188 non-null  float64\n",
      " 17  cons.conf.idx   41188 non-null  float64\n",
      " 18  euribor3m       41188 non-null  float64\n",
      " 19  nr.employed     41188 non-null  int64  \n",
      " 20  y               41188 non-null  object \n",
      " 21  f.euribor       41188 non-null  object \n",
      " 22  f.age           41188 non-null  object \n",
      " 23  f.pattern       41188 non-null  object \n",
      "dtypes: float64(4), int64(6), object(14)\n",
      "memory usage: 7.5+ MB\n"
     ]
    }
   ],
   "source": [
    "bdf.info()"
   ]
  },
  {
   "cell_type": "code",
   "execution_count": 188,
   "metadata": {},
   "outputs": [],
   "source": [
    "# before dropping the columns, keep a copy\n",
    "bdf_copy = bdf.copy()"
   ]
  },
  {
   "cell_type": "code",
   "execution_count": 189,
   "metadata": {},
   "outputs": [],
   "source": [
    "# drop the columns\n",
    "bdf.drop(dropped_columns, axis=1, inplace=True)"
   ]
  },
  {
   "cell_type": "code",
   "execution_count": 190,
   "metadata": {},
   "outputs": [
    {
     "data": {
      "text/plain": [
       "(41188, 17)"
      ]
     },
     "execution_count": 190,
     "metadata": {},
     "output_type": "execute_result"
    }
   ],
   "source": [
    "bdf.shape"
   ]
  },
  {
   "cell_type": "code",
   "execution_count": 191,
   "metadata": {},
   "outputs": [
    {
     "name": "stdout",
     "output_type": "stream",
     "text": [
      "<class 'pandas.core.frame.DataFrame'>\n",
      "RangeIndex: 41188 entries, 0 to 41187\n",
      "Data columns (total 17 columns):\n",
      " #   Column          Non-Null Count  Dtype  \n",
      "---  ------          --------------  -----  \n",
      " 0   job             41188 non-null  object \n",
      " 1   marital         41188 non-null  object \n",
      " 2   education       41188 non-null  object \n",
      " 3   housing         41188 non-null  object \n",
      " 4   loan            41188 non-null  object \n",
      " 5   contact         41188 non-null  object \n",
      " 6   month           41188 non-null  object \n",
      " 7   day_of_week     41188 non-null  object \n",
      " 8   campaign        41188 non-null  int64  \n",
      " 9   pdays           41188 non-null  int64  \n",
      " 10  previous        41188 non-null  int64  \n",
      " 11  poutcome        41188 non-null  object \n",
      " 12  cons.price.idx  41188 non-null  float64\n",
      " 13  y               41188 non-null  object \n",
      " 14  f.euribor       41188 non-null  object \n",
      " 15  f.age           41188 non-null  object \n",
      " 16  f.pattern       41188 non-null  object \n",
      "dtypes: float64(1), int64(3), object(13)\n",
      "memory usage: 5.3+ MB\n"
     ]
    }
   ],
   "source": [
    "bdf.info()"
   ]
  },
  {
   "cell_type": "code",
   "execution_count": 192,
   "metadata": {},
   "outputs": [],
   "source": [
    "#convert columns of object type to categorical columns\n",
    "bdf_cat = bdf[categorical_columns].astype('category')"
   ]
  },
  {
   "cell_type": "code",
   "execution_count": 193,
   "metadata": {},
   "outputs": [
    {
     "name": "stdout",
     "output_type": "stream",
     "text": [
      "<class 'pandas.core.frame.DataFrame'>\n",
      "RangeIndex: 41188 entries, 0 to 41187\n",
      "Data columns (total 17 columns):\n",
      " #   Column          Non-Null Count  Dtype  \n",
      "---  ------          --------------  -----  \n",
      " 0   job             41188 non-null  object \n",
      " 1   marital         41188 non-null  object \n",
      " 2   education       41188 non-null  object \n",
      " 3   housing         41188 non-null  object \n",
      " 4   loan            41188 non-null  object \n",
      " 5   contact         41188 non-null  object \n",
      " 6   month           41188 non-null  object \n",
      " 7   day_of_week     41188 non-null  object \n",
      " 8   campaign        41188 non-null  int64  \n",
      " 9   pdays           41188 non-null  int64  \n",
      " 10  previous        41188 non-null  int64  \n",
      " 11  poutcome        41188 non-null  object \n",
      " 12  cons.price.idx  41188 non-null  float64\n",
      " 13  y               41188 non-null  object \n",
      " 14  f.euribor       41188 non-null  object \n",
      " 15  f.age           41188 non-null  object \n",
      " 16  f.pattern       41188 non-null  object \n",
      "dtypes: float64(1), int64(3), object(13)\n",
      "memory usage: 5.3+ MB\n"
     ]
    }
   ],
   "source": [
    "# info after converting to categorical columns\n",
    "bdf.info()"
   ]
  },
  {
   "cell_type": "code",
   "execution_count": 194,
   "metadata": {},
   "outputs": [
    {
     "name": "stdout",
     "output_type": "stream",
     "text": [
      "<class 'pandas.core.frame.DataFrame'>\n",
      "RangeIndex: 41188 entries, 0 to 41187\n",
      "Data columns (total 12 columns):\n",
      " #   Column       Non-Null Count  Dtype   \n",
      "---  ------       --------------  -----   \n",
      " 0   job          41188 non-null  category\n",
      " 1   marital      41188 non-null  category\n",
      " 2   education    41188 non-null  category\n",
      " 3   housing      41188 non-null  category\n",
      " 4   loan         41188 non-null  category\n",
      " 5   contact      41188 non-null  category\n",
      " 6   month        41188 non-null  category\n",
      " 7   day_of_week  41188 non-null  category\n",
      " 8   poutcome     41188 non-null  category\n",
      " 9   f.euribor    41188 non-null  category\n",
      " 10  f.age        41188 non-null  category\n",
      " 11  f.pattern    41188 non-null  category\n",
      "dtypes: category(12)\n",
      "memory usage: 486.0 KB\n"
     ]
    }
   ],
   "source": [
    "bdf_cat.info()"
   ]
  },
  {
   "cell_type": "code",
   "execution_count": 195,
   "metadata": {},
   "outputs": [],
   "source": [
    "# drop bdf categorical columns from the dataframe\n",
    "bdf_noncat = bdf.drop(categorical_columns,axis=1)"
   ]
  },
  {
   "cell_type": "code",
   "execution_count": 196,
   "metadata": {},
   "outputs": [
    {
     "data": {
      "text/plain": [
       "Index(['campaign', 'pdays', 'previous', 'cons.price.idx', 'y'], dtype='object')"
      ]
     },
     "execution_count": 196,
     "metadata": {},
     "output_type": "execute_result"
    }
   ],
   "source": [
    "bdf_noncat.columns"
   ]
  },
  {
   "cell_type": "code",
   "execution_count": 197,
   "metadata": {},
   "outputs": [],
   "source": [
    "# use one hot encoding for categorical columns\n",
    "bdf_cat_one_hot = pd.get_dummies(bdf_cat)"
   ]
  },
  {
   "cell_type": "code",
   "execution_count": 198,
   "metadata": {},
   "outputs": [
    {
     "data": {
      "text/plain": [
       "(41188, 75)"
      ]
     },
     "execution_count": 198,
     "metadata": {},
     "output_type": "execute_result"
    }
   ],
   "source": [
    "bdf_cat_one_hot.shape"
   ]
  },
  {
   "cell_type": "code",
   "execution_count": 199,
   "metadata": {},
   "outputs": [],
   "source": [
    "#concat categorical df with non categorical df\n",
    "bdf_master = pd.concat([bdf_noncat, bdf_cat_one_hot], axis=1)"
   ]
  },
  {
   "cell_type": "code",
   "execution_count": 200,
   "metadata": {},
   "outputs": [
    {
     "data": {
      "text/html": [
       "<div>\n",
       "<style scoped>\n",
       "    .dataframe tbody tr th:only-of-type {\n",
       "        vertical-align: middle;\n",
       "    }\n",
       "\n",
       "    .dataframe tbody tr th {\n",
       "        vertical-align: top;\n",
       "    }\n",
       "\n",
       "    .dataframe thead th {\n",
       "        text-align: right;\n",
       "    }\n",
       "</style>\n",
       "<table border=\"1\" class=\"dataframe\">\n",
       "  <thead>\n",
       "    <tr style=\"text-align: right;\">\n",
       "      <th></th>\n",
       "      <th>campaign</th>\n",
       "      <th>pdays</th>\n",
       "      <th>previous</th>\n",
       "      <th>cons.price.idx</th>\n",
       "      <th>y</th>\n",
       "      <th>job_admin.</th>\n",
       "      <th>job_blue-collar</th>\n",
       "      <th>job_entrepreneur</th>\n",
       "      <th>job_housemaid</th>\n",
       "      <th>job_management</th>\n",
       "      <th>...</th>\n",
       "      <th>f.pattern_PE1C</th>\n",
       "      <th>f.pattern_PE1D</th>\n",
       "      <th>f.pattern_PE1F</th>\n",
       "      <th>f.pattern_PE1G</th>\n",
       "      <th>f.pattern_PE1H</th>\n",
       "      <th>f.pattern_PE1K</th>\n",
       "      <th>f.pattern_PE1L</th>\n",
       "      <th>f.pattern_PE4A</th>\n",
       "      <th>f.pattern_PEIJ</th>\n",
       "      <th>f.pattern_no</th>\n",
       "    </tr>\n",
       "  </thead>\n",
       "  <tbody>\n",
       "    <tr>\n",
       "      <th>0</th>\n",
       "      <td>1</td>\n",
       "      <td>999</td>\n",
       "      <td>0</td>\n",
       "      <td>93.994</td>\n",
       "      <td>no</td>\n",
       "      <td>0</td>\n",
       "      <td>0</td>\n",
       "      <td>0</td>\n",
       "      <td>1</td>\n",
       "      <td>0</td>\n",
       "      <td>...</td>\n",
       "      <td>0</td>\n",
       "      <td>0</td>\n",
       "      <td>0</td>\n",
       "      <td>0</td>\n",
       "      <td>0</td>\n",
       "      <td>0</td>\n",
       "      <td>0</td>\n",
       "      <td>0</td>\n",
       "      <td>0</td>\n",
       "      <td>1</td>\n",
       "    </tr>\n",
       "    <tr>\n",
       "      <th>1</th>\n",
       "      <td>1</td>\n",
       "      <td>999</td>\n",
       "      <td>0</td>\n",
       "      <td>93.994</td>\n",
       "      <td>no</td>\n",
       "      <td>0</td>\n",
       "      <td>0</td>\n",
       "      <td>0</td>\n",
       "      <td>0</td>\n",
       "      <td>0</td>\n",
       "      <td>...</td>\n",
       "      <td>0</td>\n",
       "      <td>0</td>\n",
       "      <td>0</td>\n",
       "      <td>0</td>\n",
       "      <td>0</td>\n",
       "      <td>0</td>\n",
       "      <td>0</td>\n",
       "      <td>0</td>\n",
       "      <td>0</td>\n",
       "      <td>1</td>\n",
       "    </tr>\n",
       "    <tr>\n",
       "      <th>2</th>\n",
       "      <td>1</td>\n",
       "      <td>999</td>\n",
       "      <td>0</td>\n",
       "      <td>93.994</td>\n",
       "      <td>no</td>\n",
       "      <td>0</td>\n",
       "      <td>0</td>\n",
       "      <td>0</td>\n",
       "      <td>0</td>\n",
       "      <td>0</td>\n",
       "      <td>...</td>\n",
       "      <td>0</td>\n",
       "      <td>0</td>\n",
       "      <td>0</td>\n",
       "      <td>0</td>\n",
       "      <td>0</td>\n",
       "      <td>0</td>\n",
       "      <td>0</td>\n",
       "      <td>0</td>\n",
       "      <td>0</td>\n",
       "      <td>1</td>\n",
       "    </tr>\n",
       "    <tr>\n",
       "      <th>3</th>\n",
       "      <td>1</td>\n",
       "      <td>999</td>\n",
       "      <td>0</td>\n",
       "      <td>93.994</td>\n",
       "      <td>no</td>\n",
       "      <td>1</td>\n",
       "      <td>0</td>\n",
       "      <td>0</td>\n",
       "      <td>0</td>\n",
       "      <td>0</td>\n",
       "      <td>...</td>\n",
       "      <td>0</td>\n",
       "      <td>0</td>\n",
       "      <td>0</td>\n",
       "      <td>0</td>\n",
       "      <td>0</td>\n",
       "      <td>0</td>\n",
       "      <td>0</td>\n",
       "      <td>0</td>\n",
       "      <td>0</td>\n",
       "      <td>1</td>\n",
       "    </tr>\n",
       "    <tr>\n",
       "      <th>4</th>\n",
       "      <td>1</td>\n",
       "      <td>999</td>\n",
       "      <td>0</td>\n",
       "      <td>93.994</td>\n",
       "      <td>no</td>\n",
       "      <td>0</td>\n",
       "      <td>0</td>\n",
       "      <td>0</td>\n",
       "      <td>0</td>\n",
       "      <td>0</td>\n",
       "      <td>...</td>\n",
       "      <td>0</td>\n",
       "      <td>0</td>\n",
       "      <td>0</td>\n",
       "      <td>0</td>\n",
       "      <td>0</td>\n",
       "      <td>0</td>\n",
       "      <td>0</td>\n",
       "      <td>0</td>\n",
       "      <td>0</td>\n",
       "      <td>1</td>\n",
       "    </tr>\n",
       "  </tbody>\n",
       "</table>\n",
       "<p>5 rows × 80 columns</p>\n",
       "</div>"
      ],
      "text/plain": [
       "   campaign  pdays  previous  cons.price.idx   y  job_admin.  job_blue-collar  \\\n",
       "0         1    999         0          93.994  no           0                0   \n",
       "1         1    999         0          93.994  no           0                0   \n",
       "2         1    999         0          93.994  no           0                0   \n",
       "3         1    999         0          93.994  no           1                0   \n",
       "4         1    999         0          93.994  no           0                0   \n",
       "\n",
       "   job_entrepreneur  job_housemaid  job_management  ...  f.pattern_PE1C  \\\n",
       "0                 0              1               0  ...               0   \n",
       "1                 0              0               0  ...               0   \n",
       "2                 0              0               0  ...               0   \n",
       "3                 0              0               0  ...               0   \n",
       "4                 0              0               0  ...               0   \n",
       "\n",
       "   f.pattern_PE1D  f.pattern_PE1F  f.pattern_PE1G  f.pattern_PE1H  \\\n",
       "0               0               0               0               0   \n",
       "1               0               0               0               0   \n",
       "2               0               0               0               0   \n",
       "3               0               0               0               0   \n",
       "4               0               0               0               0   \n",
       "\n",
       "   f.pattern_PE1K  f.pattern_PE1L  f.pattern_PE4A  f.pattern_PEIJ  \\\n",
       "0               0               0               0               0   \n",
       "1               0               0               0               0   \n",
       "2               0               0               0               0   \n",
       "3               0               0               0               0   \n",
       "4               0               0               0               0   \n",
       "\n",
       "   f.pattern_no  \n",
       "0             1  \n",
       "1             1  \n",
       "2             1  \n",
       "3             1  \n",
       "4             1  \n",
       "\n",
       "[5 rows x 80 columns]"
      ]
     },
     "execution_count": 200,
     "metadata": {},
     "output_type": "execute_result"
    }
   ],
   "source": [
    "bdf_master.head()"
   ]
  },
  {
   "cell_type": "code",
   "execution_count": 201,
   "metadata": {},
   "outputs": [],
   "source": [
    "# get the target variable column\n",
    "y = bdf_master.pop('y')"
   ]
  },
  {
   "cell_type": "code",
   "execution_count": 202,
   "metadata": {},
   "outputs": [
    {
     "data": {
      "text/plain": [
       "(41188, 79)"
      ]
     },
     "execution_count": 202,
     "metadata": {},
     "output_type": "execute_result"
    }
   ],
   "source": [
    "bdf_master.shape"
   ]
  },
  {
   "cell_type": "code",
   "execution_count": 203,
   "metadata": {},
   "outputs": [],
   "source": [
    "# remove the target variable column from the master dataset\n",
    "X = bdf_master"
   ]
  },
  {
   "cell_type": "code",
   "execution_count": 204,
   "metadata": {},
   "outputs": [],
   "source": [
    "X_train, X_test, y_train, y_test = train_test_split(\n",
    "    X, y, test_size=0.25, random_state=101)"
   ]
  },
  {
   "cell_type": "code",
   "execution_count": 205,
   "metadata": {},
   "outputs": [
    {
     "data": {
      "text/plain": [
       "(30891, 79)"
      ]
     },
     "execution_count": 205,
     "metadata": {},
     "output_type": "execute_result"
    }
   ],
   "source": [
    "X_train.shape"
   ]
  },
  {
   "cell_type": "code",
   "execution_count": 206,
   "metadata": {},
   "outputs": [
    {
     "data": {
      "text/plain": [
       "(10297,)"
      ]
     },
     "execution_count": 206,
     "metadata": {},
     "output_type": "execute_result"
    }
   ],
   "source": [
    "y_test.shape"
   ]
  },
  {
   "cell_type": "code",
   "execution_count": 207,
   "metadata": {},
   "outputs": [
    {
     "data": {
      "text/plain": [
       "no     27416\n",
       "yes     3475\n",
       "Name: y, dtype: int64"
      ]
     },
     "execution_count": 207,
     "metadata": {},
     "output_type": "execute_result"
    }
   ],
   "source": [
    "y_train.value_counts()"
   ]
  },
  {
   "cell_type": "code",
   "execution_count": 208,
   "metadata": {},
   "outputs": [
    {
     "data": {
      "text/plain": [
       "no     9132\n",
       "yes    1165\n",
       "Name: y, dtype: int64"
      ]
     },
     "execution_count": 208,
     "metadata": {},
     "output_type": "execute_result"
    }
   ],
   "source": [
    "y_test.value_counts()"
   ]
  },
  {
   "cell_type": "code",
   "execution_count": 209,
   "metadata": {},
   "outputs": [],
   "source": [
    "# the propotion of yes and no looks the same"
   ]
  },
  {
   "cell_type": "code",
   "execution_count": 210,
   "metadata": {},
   "outputs": [],
   "source": [
    "# function that fits and predicts\n",
    "def fit_predict(algo,X_train, X_test, y_train, y_test):\n",
    "    algo.fit(X_train, y_train)\n",
    "    y_pred = algo.predict(X_test)\n",
    "    return accuracy_score(y_test, y_pred)"
   ]
  },
  {
   "cell_type": "markdown",
   "metadata": {},
   "source": [
    "## Logistic Regression"
   ]
  },
  {
   "cell_type": "code",
   "execution_count": 211,
   "metadata": {},
   "outputs": [],
   "source": [
    "logit = LogisticRegression()"
   ]
  },
  {
   "cell_type": "code",
   "execution_count": 212,
   "metadata": {},
   "outputs": [
    {
     "name": "stdout",
     "output_type": "stream",
     "text": [
      "Accuracy with Logistic Regression: 0.898222783334952\n"
     ]
    }
   ],
   "source": [
    "print(\"Accuracy with Logistic Regression\", end=': ')\n",
    "logit_accuracy = fit_predict(logit, X_train, X_test, y_train, y_test)\n",
    "print(logit_accuracy)"
   ]
  },
  {
   "cell_type": "markdown",
   "metadata": {},
   "source": [
    "## Decision Tree"
   ]
  },
  {
   "cell_type": "code",
   "execution_count": 213,
   "metadata": {},
   "outputs": [],
   "source": [
    "tree = DecisionTreeClassifier()"
   ]
  },
  {
   "cell_type": "code",
   "execution_count": 214,
   "metadata": {},
   "outputs": [
    {
     "name": "stdout",
     "output_type": "stream",
     "text": [
      "Accuracy with Decision Tree: 0.8566572788190735\n"
     ]
    }
   ],
   "source": [
    "print(\"Accuracy with Decision Tree\", end=': ')\n",
    "dt_accuracy = fit_predict(tree, X_train, X_test, y_train, y_test)\n",
    "print(dt_accuracy)"
   ]
  },
  {
   "cell_type": "markdown",
   "metadata": {},
   "source": [
    "## Parameterization in Decision Trees"
   ]
  },
  {
   "cell_type": "code",
   "execution_count": 215,
   "metadata": {},
   "outputs": [],
   "source": [
    "def fit_predict_dt(train, test, y_train, y_test, scaler, max_depth,\n",
    "               criterion = 'entropy', max_features=1, min_samples_split=4):\n",
    "    train_scaled = scaler.fit_transform(train)\n",
    "    test_scaled = scaler.transform(test)\n",
    "    dt = DecisionTreeClassifier(criterion = criterion, max_depth=max_depth,\n",
    "                               random_state= 42, max_features=max_features,\n",
    "                               min_samples_split=min_samples_split)\n",
    "    dt.fit(train_scaled, y_train)\n",
    "    y_pred = dt.predict(test_scaled)\n",
    "    print(accuracy_score(y_test, y_pred))"
   ]
  },
  {
   "cell_type": "markdown",
   "metadata": {},
   "source": [
    "### Max depth parameter tuning"
   ]
  },
  {
   "cell_type": "code",
   "execution_count": 216,
   "metadata": {},
   "outputs": [],
   "source": [
    "# for i in range(1,30):\n",
    "#     print(\"Accuracy score using max_depth = \", i, end = ':')\n",
    "#     fit_predict_dt(X_train, X_test, y_train, y_test, StandardScaler(), i)"
   ]
  },
  {
   "cell_type": "markdown",
   "metadata": {},
   "source": [
    "### Max features tuning"
   ]
  },
  {
   "cell_type": "code",
   "execution_count": 217,
   "metadata": {},
   "outputs": [],
   "source": [
    "# for i in np.arange(0.1,1.0,0.1):\n",
    "#     print('Accuracy score using max features =', i, end = \":\")\n",
    "#     fit_predict_dt(X_train, X_test, y_train, y_test, StandardScaler(), max_depth=9, max_features=i)"
   ]
  },
  {
   "cell_type": "markdown",
   "metadata": {},
   "source": [
    "### Min samples split tuning"
   ]
  },
  {
   "cell_type": "code",
   "execution_count": 218,
   "metadata": {},
   "outputs": [],
   "source": [
    "# for i in range(2,10):\n",
    "#     print('Accuracy score using min samples split=', i, end=\":\")\n",
    "#     fit_predict_dt(X_train, X_test, y_train, y_test, StandardScaler(), 16, max_features=0.8, min_samples_split=i)"
   ]
  },
  {
   "cell_type": "markdown",
   "metadata": {},
   "source": [
    "### Criterion tuning"
   ]
  },
  {
   "cell_type": "code",
   "execution_count": 219,
   "metadata": {},
   "outputs": [],
   "source": [
    "# for i in ['gini','entropy']:\n",
    "#     print(\"Accuracy score using criterion: \", i, end = ':')\n",
    "#     fit_predict_dt(X_train, X_test, y_train, y_test, StandardScaler(), 16, max_features = 0.8, min_samples_split=6, criterion= i)"
   ]
  },
  {
   "cell_type": "markdown",
   "metadata": {},
   "source": [
    "### Using polynomial features"
   ]
  },
  {
   "cell_type": "code",
   "execution_count": 220,
   "metadata": {},
   "outputs": [],
   "source": [
    "def create_poly(train, test, degree):\n",
    "    poly = PolynomialFeatures(degree = degree)\n",
    "    train_poly = poly.fit_transform(train)\n",
    "    test_poly = poly.fit_transform(test)\n",
    "    return train_poly, test_poly"
   ]
  },
  {
   "cell_type": "code",
   "execution_count": 221,
   "metadata": {},
   "outputs": [],
   "source": [
    "# for degree in [1,2,3,4]:\n",
    "#     train_poly, test_poly = create_poly(X_train, X_test, degree)\n",
    "#     print(\"polynomial degree\", degree)\n",
    "#     fit_predict(train_poly, test_poly, y_train, y_test, StandardScaler(), 16, max_features = 0.2,min_samples_split=4, criterion='entropy')\n",
    "#     print(10 *'-')"
   ]
  },
  {
   "cell_type": "markdown",
   "metadata": {},
   "source": [
    "## Random Forest"
   ]
  },
  {
   "cell_type": "code",
   "execution_count": 222,
   "metadata": {},
   "outputs": [],
   "source": [
    "forest = RandomForestClassifier(criterion='entropy', oob_score=True)"
   ]
  },
  {
   "cell_type": "code",
   "execution_count": 223,
   "metadata": {},
   "outputs": [
    {
     "name": "stdout",
     "output_type": "stream",
     "text": [
      "Accuracy with Random Forest: 0.8897737205011168\n"
     ]
    }
   ],
   "source": [
    "print(\"Accuracy with Random Forest\", end=': ')\n",
    "rf_accuracy = fit_predict(forest, X_train, X_test, y_train, y_test)\n",
    "print(rf_accuracy)"
   ]
  },
  {
   "cell_type": "markdown",
   "metadata": {},
   "source": [
    "### Parameter tuning using Grid Search"
   ]
  },
  {
   "cell_type": "code",
   "execution_count": 224,
   "metadata": {},
   "outputs": [],
   "source": [
    "from sklearn.model_selection import GridSearchCV"
   ]
  },
  {
   "cell_type": "code",
   "execution_count": 225,
   "metadata": {},
   "outputs": [],
   "source": [
    "params = {\n",
    "    'n_estimators': [200,500,700],\n",
    "    'max_depth': [10,15,18,20],\n",
    "    'min_samples_leaf': [3,5,7]\n",
    "}"
   ]
  },
  {
   "cell_type": "code",
   "execution_count": 226,
   "metadata": {},
   "outputs": [],
   "source": [
    "#gs = GridSearchCV(forest, params, cv=3, verbose=3, n_jobs=3)"
   ]
  },
  {
   "cell_type": "code",
   "execution_count": 227,
   "metadata": {},
   "outputs": [],
   "source": [
    "#gs.fit(X_train, y_train)"
   ]
  },
  {
   "cell_type": "code",
   "execution_count": 228,
   "metadata": {},
   "outputs": [],
   "source": [
    "#gs.best_params_"
   ]
  },
  {
   "cell_type": "code",
   "execution_count": 229,
   "metadata": {},
   "outputs": [],
   "source": [
    "#gs.best_estimator_"
   ]
  },
  {
   "cell_type": "markdown",
   "metadata": {},
   "source": [
    "### Retraining with best estimators"
   ]
  },
  {
   "cell_type": "code",
   "execution_count": 230,
   "metadata": {},
   "outputs": [],
   "source": [
    "forest1 = RandomForestClassifier(bootstrap=True, ccp_alpha=0.0, class_weight=None,\n",
    "                       criterion='entropy', max_depth=18, max_features='auto',\n",
    "                       max_leaf_nodes=None, max_samples=None,\n",
    "                       min_impurity_decrease=0.0, min_impurity_split=None,\n",
    "                       min_samples_leaf=7, min_samples_split=2,\n",
    "                       min_weight_fraction_leaf=0.0, n_estimators=200,\n",
    "                       n_jobs=None, oob_score=True, random_state=None,\n",
    "                       verbose=0, warm_start=False)"
   ]
  },
  {
   "cell_type": "code",
   "execution_count": 231,
   "metadata": {},
   "outputs": [
    {
     "data": {
      "text/plain": [
       "RandomForestClassifier(bootstrap=True, ccp_alpha=0.0, class_weight=None,\n",
       "                       criterion='entropy', max_depth=18, max_features='auto',\n",
       "                       max_leaf_nodes=None, max_samples=None,\n",
       "                       min_impurity_decrease=0.0, min_impurity_split=None,\n",
       "                       min_samples_leaf=7, min_samples_split=2,\n",
       "                       min_weight_fraction_leaf=0.0, n_estimators=200,\n",
       "                       n_jobs=None, oob_score=True, random_state=None,\n",
       "                       verbose=0, warm_start=False)"
      ]
     },
     "execution_count": 231,
     "metadata": {},
     "output_type": "execute_result"
    }
   ],
   "source": [
    "forest1.fit(X_train, y_train)"
   ]
  },
  {
   "cell_type": "code",
   "execution_count": 232,
   "metadata": {},
   "outputs": [],
   "source": [
    "pred_forest1 = forest1.predict(X_test)"
   ]
  },
  {
   "cell_type": "code",
   "execution_count": 233,
   "metadata": {},
   "outputs": [
    {
     "name": "stdout",
     "output_type": "stream",
     "text": [
      "Accuracy with Random Forest after Hyper Parameter Tuning: 0.9005535592891133\n"
     ]
    }
   ],
   "source": [
    "print(\"Accuracy with Random Forest after Hyper Parameter Tuning\", end=': ')\n",
    "rf_hyper_accuracy = accuracy_score(y_test, pred_forest1)\n",
    "print(rf_hyper_accuracy)"
   ]
  },
  {
   "cell_type": "code",
   "execution_count": 234,
   "metadata": {},
   "outputs": [
    {
     "data": {
      "text/plain": [
       "array([3.69638815e-02, 6.32020254e-02, 3.83314401e-02, 8.71727148e-02,\n",
       "       9.00681535e-03, 1.02913602e-02, 2.51447748e-03, 2.15538069e-03,\n",
       "       3.90320261e-03, 7.08468308e-03, 2.71337504e-03, 5.90683565e-03,\n",
       "       4.71690798e-03, 6.96118469e-03, 1.86031960e-03, 5.87333827e-03,\n",
       "       9.75708785e-03, 9.64867470e-03, 5.42267391e-03, 3.05591805e-03,\n",
       "       7.83795676e-03, 8.49595615e-03, 7.71637253e-06, 5.91152592e-03,\n",
       "       1.06858068e-02, 1.02193759e-02, 1.05775972e-02, 6.63154779e-03,\n",
       "       6.23355160e-03, 2.34997418e-02, 2.45651971e-02, 9.89625008e-03,\n",
       "       5.63951077e-03, 1.34739367e-03, 6.75140972e-03, 1.26862768e-02,\n",
       "       1.13675601e-02, 2.65313108e-02, 5.49757457e-03, 1.33153686e-02,\n",
       "       5.45482483e-03, 1.07354651e-02, 1.06210030e-02, 1.09186680e-02,\n",
       "       9.29630843e-03, 9.24442070e-03, 3.32069490e-02, 2.55868657e-02,\n",
       "       1.26152688e-01, 2.46173022e-02, 7.89923053e-06, 1.21840985e-01,\n",
       "       9.19831108e-04, 8.96786330e-03, 1.16545785e-02, 9.06572285e-03,\n",
       "       6.61764143e-03, 5.90593911e-03, 3.33519927e-03, 5.60344576e-04,\n",
       "       0.00000000e+00, 9.16458826e-05, 4.77102180e-04, 2.17823546e-04,\n",
       "       0.00000000e+00, 4.28155368e-04, 1.28554108e-04, 1.68510583e-04,\n",
       "       6.78332750e-04, 4.74004598e-04, 1.80531875e-03, 1.53787594e-04,\n",
       "       1.11430272e-03, 4.70387376e-04, 8.15042010e-04, 2.31520097e-04,\n",
       "       1.55958619e-03, 6.84292869e-05, 3.21660718e-02])"
      ]
     },
     "execution_count": 234,
     "metadata": {},
     "output_type": "execute_result"
    }
   ],
   "source": [
    "forest1.feature_importances_"
   ]
  },
  {
   "cell_type": "code",
   "execution_count": 235,
   "metadata": {},
   "outputs": [
    {
     "data": {
      "text/plain": [
       "[(0.12615268809813016, 'f.euribor_<1'),\n",
       " (0.12184098531377129, 'f.euribor_>4'),\n",
       " (0.08717271478514656, 'cons.price.idx'),\n",
       " (0.06320202544164485, 'pdays'),\n",
       " (0.03833144006610462, 'previous'),\n",
       " (0.0369638815277234, 'campaign'),\n",
       " (0.03320694901182908, 'poutcome_failure'),\n",
       " (0.03216607179845515, 'f.pattern_no'),\n",
       " (0.02653131084128941, 'month_may'),\n",
       " (0.025586865683672334, 'poutcome_success'),\n",
       " (0.024617302193016822, 'f.euribor_>1 and <2'),\n",
       " (0.024565197056061226, 'contact_telephone'),\n",
       " (0.023499741767573988, 'contact_cellular'),\n",
       " (0.01331536857914013, 'month_oct'),\n",
       " (0.012686276750705766, 'month_jun'),\n",
       " (0.011654578546418621, 'f.age_31_to_40'),\n",
       " (0.01136756006130689, 'month_mar'),\n",
       " (0.010918667966593347, 'day_of_week_thu'),\n",
       " (0.010735465057689889, 'day_of_week_fri'),\n",
       " (0.010685806847720997, 'education_university.degree'),\n",
       " (0.010621002965887307, 'day_of_week_mon'),\n",
       " (0.010577597236752327, 'housing_yes'),\n",
       " (0.010291360224537293, 'job_blue-collar'),\n",
       " (0.010219375928888115, 'housing_no'),\n",
       " (0.009896250079941164, 'month_apr'),\n",
       " (0.009757087854405995, 'marital_married'),\n",
       " (0.009648674698791977, 'marital_single'),\n",
       " (0.00929630843424015, 'day_of_week_tue'),\n",
       " (0.009244420702270545, 'day_of_week_wed'),\n",
       " (0.009065722850165528, 'f.age_41_to_50'),\n",
       " (0.009006815346913496, 'job_admin.'),\n",
       " (0.008967863301212544, 'f.age_21_to_30'),\n",
       " (0.008495956147270611, 'education_high.school'),\n",
       " (0.007837956757903969, 'education_basic.9y'),\n",
       " (0.007084683082831695, 'job_retired'),\n",
       " (0.006961184690643518, 'job_technician'),\n",
       " (0.006751409720096522, 'month_jul'),\n",
       " (0.006631547790092448, 'loan_no'),\n",
       " (0.006617641433042287, 'f.age_51_to_60'),\n",
       " (0.006233551604313557, 'loan_yes'),\n",
       " (0.005911525919502007, 'education_professional.course'),\n",
       " (0.005906835649142196, 'job_services'),\n",
       " (0.005905939108644308, 'f.age_61_to_70'),\n",
       " (0.005873338272815862, 'marital_divorced'),\n",
       " (0.005639510766872656, 'month_aug'),\n",
       " (0.005497574572607349, 'month_nov'),\n",
       " (0.005454824834971926, 'month_sep'),\n",
       " (0.005422673911148983, 'education_basic.4y'),\n",
       " (0.004716907979721046, 'job_student'),\n",
       " (0.0039032026111452786, 'job_management'),\n",
       " (0.0033351992747833203, 'f.age_71_to_80'),\n",
       " (0.003055918047093195, 'education_basic.6y'),\n",
       " (0.0027133750416618416, 'job_self-employed'),\n",
       " (0.0025144774761133083, 'job_entrepreneur'),\n",
       " (0.0021553806892402596, 'job_housemaid'),\n",
       " (0.0018603196023647649, 'job_unemployed'),\n",
       " (0.001805318746992463, 'f.pattern_PE1D'),\n",
       " (0.0015595861932103938, 'f.pattern_PE4A'),\n",
       " (0.0013473936745436318, 'month_dec'),\n",
       " (0.0011143027179239182, 'f.pattern_PE1G'),\n",
       " (0.0009198311076195738, 'f.age_11_to_20'),\n",
       " (0.000815042010131156, 'f.pattern_PE1K'),\n",
       " (0.0006783327500117915, 'f.pattern_PE1B'),\n",
       " (0.0005603445761628438, 'f.age_81_to_90'),\n",
       " (0.000477102179963427, 'f.pattern_PE12B'),\n",
       " (0.0004740045976497907, 'f.pattern_PE1C'),\n",
       " (0.00047038737610052047, 'f.pattern_PE1H'),\n",
       " (0.0004281553681473807, 'f.pattern_PE12F'),\n",
       " (0.00023152009689982907, 'f.pattern_PE1L'),\n",
       " (0.00021782354558302588, 'f.pattern_PE12D'),\n",
       " (0.00016851058256803385, 'f.pattern_PE1A'),\n",
       " (0.00015378759409559342, 'f.pattern_PE1F'),\n",
       " (0.000128554107885392, 'f.pattern_PE12G'),\n",
       " (9.164588256876611e-05, 'f.pattern_PE12A'),\n",
       " (6.8429286861601e-05, 'f.pattern_PEIJ'),\n",
       " (7.899230530298593e-06, 'f.euribor_>3 and <4'),\n",
       " (7.716372526895335e-06, 'education_illiterate'),\n",
       " (0.0, 'f.pattern_PE12E'),\n",
       " (0.0, 'f.age_91_to_100')]"
      ]
     },
     "execution_count": 235,
     "metadata": {},
     "output_type": "execute_result"
    }
   ],
   "source": [
    "sorted(list(zip(forest1.feature_importances_, X_train.columns)), reverse=True)"
   ]
  },
  {
   "cell_type": "code",
   "execution_count": 236,
   "metadata": {},
   "outputs": [],
   "source": [
    "### Confusion matrix\n",
    "from sklearn.metrics import confusion_matrix, classification_report"
   ]
  },
  {
   "cell_type": "code",
   "execution_count": 237,
   "metadata": {},
   "outputs": [
    {
     "name": "stdout",
     "output_type": "stream",
     "text": [
      "[[9021  111]\n",
      " [ 913  252]]\n"
     ]
    }
   ],
   "source": [
    "print(confusion_matrix(y_test, pred_forest1))"
   ]
  },
  {
   "cell_type": "markdown",
   "metadata": {},
   "source": [
    "## Accuracy Summary"
   ]
  },
  {
   "cell_type": "code",
   "execution_count": 238,
   "metadata": {},
   "outputs": [
    {
     "name": "stdout",
     "output_type": "stream",
     "text": [
      "Accuracy with Logistic Regression: 0.898222783334952\n",
      "Accuracy with Decision Tree: 0.8566572788190735\n",
      "Accuracy with Random Forest: 0.8897737205011168\n",
      "Accuracy with Random Forest after Hyper Parameter Tuning: 0.9005535592891133\n"
     ]
    }
   ],
   "source": [
    "print(\"Accuracy with Logistic Regression\", end=': ')\n",
    "print(logit_accuracy)\n",
    "print(\"Accuracy with Decision Tree\", end=': ')\n",
    "print(dt_accuracy)\n",
    "print(\"Accuracy with Random Forest\", end=': ')\n",
    "print(rf_accuracy)\n",
    "print(\"Accuracy with Random Forest after Hyper Parameter Tuning\", end=': ')\n",
    "print(rf_hyper_accuracy)"
   ]
  },
  {
   "cell_type": "code",
   "execution_count": 239,
   "metadata": {},
   "outputs": [],
   "source": [
    "# todo -- for rows where there are no patterns but td = yes, check if any patterns emerge and record it and re-run the models\n",
    "# todo -- try adaboost algorithm"
   ]
  },
  {
   "cell_type": "code",
   "execution_count": null,
   "metadata": {},
   "outputs": [],
   "source": []
  }
 ],
 "metadata": {
  "kernelspec": {
   "display_name": "Python 3",
   "language": "python",
   "name": "python3"
  },
  "language_info": {
   "codemirror_mode": {
    "name": "ipython",
    "version": 3
   },
   "file_extension": ".py",
   "mimetype": "text/x-python",
   "name": "python",
   "nbconvert_exporter": "python",
   "pygments_lexer": "ipython3",
   "version": "3.7.6"
  }
 },
 "nbformat": 4,
 "nbformat_minor": 4
}
