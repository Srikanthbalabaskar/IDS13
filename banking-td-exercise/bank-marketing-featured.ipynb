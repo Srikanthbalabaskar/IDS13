{
 "cells": [
  {
   "cell_type": "code",
   "execution_count": 1,
   "metadata": {},
   "outputs": [],
   "source": [
    "import pandas as pd\n",
    "import numpy as np\n",
    "import warnings\n",
    "\n",
    "from sklearn.linear_model import LogisticRegression\n",
    "from sklearn.tree import DecisionTreeClassifier\n",
    "from sklearn.ensemble import RandomForestClassifier\n",
    "from sklearn.model_selection import train_test_split\n",
    "from sklearn.metrics import accuracy_score\n",
    "\n",
    "from sklearn.preprocessing import StandardScaler\n",
    "from sklearn.preprocessing import PolynomialFeatures\n",
    "\n",
    "warnings.filterwarnings(\"ignore\")\n",
    "np.random.seed(42)"
   ]
  },
  {
   "cell_type": "code",
   "execution_count": 2,
   "metadata": {},
   "outputs": [],
   "source": [
    "from yellowbrick.classifier import ClassificationReport\n",
    "from yellowbrick.features import rank2d"
   ]
  },
  {
   "cell_type": "code",
   "execution_count": 3,
   "metadata": {},
   "outputs": [],
   "source": [
    "grid_search_enable = True\n",
    "cv = 2\n",
    "verbose = 3\n",
    "number_of_jobs = -1\n",
    "rand_state = 101"
   ]
  },
  {
   "cell_type": "code",
   "execution_count": 4,
   "metadata": {},
   "outputs": [],
   "source": [
    "bdf = pd.read_csv(\"featured_bank_imputed_wo_duration.csv\")"
   ]
  },
  {
   "cell_type": "markdown",
   "metadata": {},
   "source": [
    "### Feature engineering"
   ]
  },
  {
   "cell_type": "code",
   "execution_count": 5,
   "metadata": {},
   "outputs": [],
   "source": [
    "def festivals(month):\n",
    "    # imputing festivals - apr: easter; jun:carnival; dec:christmas\n",
    "    if month == 'apr' or month == 'jun' or month == 'dec':\n",
    "        return 1\n",
    "    else:\n",
    "        return 0"
   ]
  },
  {
   "cell_type": "code",
   "execution_count": 6,
   "metadata": {},
   "outputs": [],
   "source": [
    "bdf['f.festivals'] = bdf['month'].apply(festivals)"
   ]
  },
  {
   "cell_type": "code",
   "execution_count": 7,
   "metadata": {},
   "outputs": [],
   "source": [
    "def bonus_months(month):\n",
    "    # bonus paid twice in a year - may and nov\n",
    "    if month == 'jun' or month == 'dec':\n",
    "        return 1\n",
    "    else:\n",
    "        return 0"
   ]
  },
  {
   "cell_type": "code",
   "execution_count": 8,
   "metadata": {},
   "outputs": [],
   "source": [
    "bdf['f.bonus_months']= bdf['month'].apply(bonus_months)"
   ]
  },
  {
   "cell_type": "code",
   "execution_count": 9,
   "metadata": {},
   "outputs": [],
   "source": [
    "def commitment(housing, personal, marital):\n",
    "    # if a person is married and has housing and personal loans, flag it as high commitment\n",
    "    if housing == 'yes' and personal == 'yes' and marital == 'married':\n",
    "        return \"high\"\n",
    "    if housing == 'no' and personal == 'no' and marital in ['single']:\n",
    "        return \"low\"\n",
    "    else:\n",
    "        return \"medium\""
   ]
  },
  {
   "cell_type": "code",
   "execution_count": 10,
   "metadata": {},
   "outputs": [],
   "source": [
    "bdf['f.commitment'] = bdf.apply(lambda x: commitment(x.housing, x.loan, x.marital), axis=1)"
   ]
  },
  {
   "cell_type": "code",
   "execution_count": 11,
   "metadata": {},
   "outputs": [],
   "source": [
    "def seasons(month):\n",
    "    if month in ['mar','apr','may']:\n",
    "        return 'spring'\n",
    "    if month in ['jun','jul','aug']:\n",
    "        return 'summer'\n",
    "    if month in ['sep','oct','nov']:\n",
    "        return 'autumn'\n",
    "    if month in ['dec','jan','feb']:\n",
    "        return 'winter'"
   ]
  },
  {
   "cell_type": "code",
   "execution_count": 12,
   "metadata": {},
   "outputs": [],
   "source": [
    "bdf['f.seasons'] = bdf['month'].apply(lambda mon: seasons(mon))"
   ]
  },
  {
   "cell_type": "code",
   "execution_count": 13,
   "metadata": {},
   "outputs": [],
   "source": [
    "def seasons_weightage(season):\n",
    "    if season == 'autumn':\n",
    "        return 0.21\n",
    "    if season == 'spring':\n",
    "        return 0.36\n",
    "    if season == 'summer':\n",
    "        return 0.40\n",
    "    if season == \"winter\":\n",
    "        return 0.02"
   ]
  },
  {
   "cell_type": "code",
   "execution_count": 14,
   "metadata": {},
   "outputs": [],
   "source": [
    "bdf ['f.season_weight'] = bdf['f.seasons'].apply(lambda season: seasons_weightage(season))"
   ]
  },
  {
   "cell_type": "code",
   "execution_count": 15,
   "metadata": {},
   "outputs": [],
   "source": [
    "def retired(age):\n",
    "    if age >= 65:\n",
    "        return 'retired'\n",
    "    else:\n",
    "        return 'not-retired'"
   ]
  },
  {
   "cell_type": "code",
   "execution_count": 16,
   "metadata": {},
   "outputs": [],
   "source": [
    "bdf['f.retired_status'] = bdf['age'].apply(lambda age: retired(age))"
   ]
  },
  {
   "cell_type": "code",
   "execution_count": 17,
   "metadata": {},
   "outputs": [],
   "source": [
    "def marital_weightage(marital):\n",
    "    if marital == 'divorced':\n",
    "        return 0.1\n",
    "    if marital == 'single':\n",
    "        return 0.35\n",
    "    if marital == 'married':\n",
    "        return 0.54"
   ]
  },
  {
   "cell_type": "code",
   "execution_count": 18,
   "metadata": {},
   "outputs": [],
   "source": [
    "bdf['f.marital_weightage'] = bdf['marital'].apply(lambda status: marital_weightage(status))"
   ]
  },
  {
   "cell_type": "code",
   "execution_count": 19,
   "metadata": {},
   "outputs": [],
   "source": [
    "def age_weightage(age):\n",
    "    if age == '11_to_20':\n",
    "        return 0.01\n",
    "    if age == '21_to_30':\n",
    "        return 0.23\n",
    "    if age == '31_to_40':\n",
    "        return 0.34\n",
    "    if age == '41_to_50':\n",
    "        return 0.18\n",
    "    if age == '51_to_60':\n",
    "        return 0.14\n",
    "    if age == '61_to_70':\n",
    "        return 0.04\n",
    "    if age == '71_to_80':\n",
    "        return 0.03\n",
    "    if age == '81_to_90':\n",
    "        return 0.01\n",
    "    if age == '91_to_100':\n",
    "        return 0.00\n",
    "        "
   ]
  },
  {
   "cell_type": "code",
   "execution_count": 20,
   "metadata": {},
   "outputs": [],
   "source": [
    "bdf['f.age_weightage'] = bdf['f.age'].apply(lambda age: age_weightage(age))"
   ]
  },
  {
   "cell_type": "code",
   "execution_count": 21,
   "metadata": {},
   "outputs": [],
   "source": [
    "def job_salary(job):\n",
    "    if job in ['blue-collar','housemaid']:\n",
    "        return 700*12\n",
    "    if job in ['admin.','technician']:\n",
    "        return 1200*12\n",
    "    if job in ['services']:\n",
    "        return 1000*12\n",
    "    if job in ['retired']:\n",
    "        return 700*12\n",
    "    if job in ['student', 'unemployed']:\n",
    "        return 600*12\n",
    "    if job in ['self-employed']:\n",
    "        return 1200*12\n",
    "    if job in ['entrepreneur']:\n",
    "        return 1500*12\n",
    "    if job in ['management']:\n",
    "        return 2200*12"
   ]
  },
  {
   "cell_type": "code",
   "execution_count": 22,
   "metadata": {},
   "outputs": [],
   "source": [
    "bdf['f.salary'] = bdf['job'].apply(lambda job: job_salary(job))"
   ]
  },
  {
   "cell_type": "code",
   "execution_count": 23,
   "metadata": {},
   "outputs": [],
   "source": [
    "def income_tax(salary):\n",
    "    if salary >=0 and salary <=7112:\n",
    "        return 14.5\n",
    "    if salary >=7113 and salary <=10732:\n",
    "        return 23\n",
    "    if salary >=10733 and salary <=20322:\n",
    "        return 28.5\n",
    "    if salary >=20323 and salary <=25075:\n",
    "        return 35\n",
    "    if salary >=25076 and salary <=36967:\n",
    "        return 37\n",
    "    if salary >=36968:\n",
    "        return 45"
   ]
  },
  {
   "cell_type": "code",
   "execution_count": 24,
   "metadata": {},
   "outputs": [],
   "source": [
    "bdf['f.income_tax'] = bdf['f.salary'].apply(lambda salary: income_tax(salary))"
   ]
  },
  {
   "cell_type": "code",
   "execution_count": 25,
   "metadata": {},
   "outputs": [],
   "source": [
    "def previous_user(previous):\n",
    "    if previous == 0:\n",
    "        return 'new user'\n",
    "    else:\n",
    "        return 'existing user'"
   ]
  },
  {
   "cell_type": "code",
   "execution_count": 26,
   "metadata": {},
   "outputs": [],
   "source": [
    "bdf['f.user_type'] = bdf['previous'].apply(lambda previous: previous_user(previous))"
   ]
  },
  {
   "cell_type": "code",
   "execution_count": 27,
   "metadata": {},
   "outputs": [],
   "source": [
    "def previous_no_of_times(previous):\n",
    "    # if a user is part of the previous campaign, bin them\n",
    "    if previous == 0:\n",
    "        return 'no previous'\n",
    "    if previous >= 1 and previous <= 3:\n",
    "        return '1_to_3'\n",
    "    if previous > 3:\n",
    "        return 'gt_3'\n",
    "    "
   ]
  },
  {
   "cell_type": "code",
   "execution_count": 28,
   "metadata": {},
   "outputs": [],
   "source": [
    "bdf['f.previous_campaigns'] = bdf['previous'].apply(lambda previous: previous_no_of_times(previous))"
   ]
  },
  {
   "cell_type": "code",
   "execution_count": 29,
   "metadata": {},
   "outputs": [],
   "source": [
    "def current_campaign_calls(calls):\n",
    "    # how many times a user is called\n",
    "    if calls == 1:\n",
    "        return 'once'\n",
    "    if calls >= 2 and calls <= 3:\n",
    "        return 'twice to thrice '\n",
    "    if calls > 3 and calls <= 6:\n",
    "        return 'four to six times'\n",
    "    if calls >= 7 and calls <= 10:\n",
    "        return 'seven to ten times'\n",
    "    if calls > 10:\n",
    "        return 'more than ten times'\n",
    "    "
   ]
  },
  {
   "cell_type": "code",
   "execution_count": 30,
   "metadata": {},
   "outputs": [],
   "source": [
    "bdf['f.current_campaign_calls'] = bdf['campaign'].apply(lambda calls: current_campaign_calls(calls))"
   ]
  },
  {
   "cell_type": "code",
   "execution_count": 31,
   "metadata": {},
   "outputs": [],
   "source": [
    "def first_time_user_calls(previous, campaigns):\n",
    "    # first time user - not a part of previous campaign\n",
    "    # first time the user is speaking - what's the conversion rate\n",
    "    if previous == 0:\n",
    "        if campaigns == 1:\n",
    "            return 'first time called'\n",
    "        if campaigns >= 2 and campaigns <= 3:\n",
    "            return 'called atleast twice'\n",
    "        if campaigns > 3:\n",
    "            return 'called atleast thrice'\n",
    "        else:\n",
    "            return 'more than thrice'\n",
    "    else:\n",
    "        return 'returning user'"
   ]
  },
  {
   "cell_type": "code",
   "execution_count": 32,
   "metadata": {},
   "outputs": [],
   "source": [
    "bdf['f.first_time_user_calls'] = bdf.apply(lambda x: first_time_user_calls(x.previous, x.campaign), axis=1)"
   ]
  },
  {
   "cell_type": "code",
   "execution_count": 33,
   "metadata": {},
   "outputs": [],
   "source": [
    "def savings_intention(job):\n",
    "    if job in ['admin.','blue-collar','technician']:\n",
    "        return 'high'\n",
    "    elif job in ['retired','management','services']:\n",
    "        return 'medium'\n",
    "    else:\n",
    "        return 'low'"
   ]
  },
  {
   "cell_type": "code",
   "execution_count": 34,
   "metadata": {},
   "outputs": [],
   "source": [
    "bdf['f.savings_intent_factor'] = bdf['job'].apply(lambda job: savings_intention(job))"
   ]
  },
  {
   "cell_type": "code",
   "execution_count": 35,
   "metadata": {},
   "outputs": [],
   "source": [
    "def age_range_weightage(age):\n",
    "    if age <= 24:\n",
    "        return 0.15\n",
    "    if age >=25 and age <= 69:\n",
    "        return 0.61\n",
    "    if age >= 70 and age <= 80:\n",
    "        return 0.13\n",
    "    if age > 80:\n",
    "        return 0.04"
   ]
  },
  {
   "cell_type": "code",
   "execution_count": 36,
   "metadata": {},
   "outputs": [],
   "source": [
    "bdf['f.age_range_weightage'] = bdf['age'].apply(lambda age: age_range_weightage(age))"
   ]
  },
  {
   "cell_type": "code",
   "execution_count": 37,
   "metadata": {},
   "outputs": [],
   "source": [
    "def avg_income_distribution(salary, marital):\n",
    "    if marital == 'married':\n",
    "        return round((salary/3),2)\n",
    "    if marital == 'single':\n",
    "        return salary\n",
    "    if marital == 'divorced':\n",
    "        return round((salary/2),2)\n",
    "    "
   ]
  },
  {
   "cell_type": "code",
   "execution_count": 38,
   "metadata": {},
   "outputs": [],
   "source": [
    "bdf['f.avg_income_dist'] = bdf.apply(lambda x: avg_income_distribution(x['f.salary'], x['marital']), axis=1)"
   ]
  },
  {
   "cell_type": "code",
   "execution_count": 39,
   "metadata": {},
   "outputs": [],
   "source": [
    "def p_days_bin(pdays):\n",
    "    if pdays >=0 and pdays <=6:\n",
    "        return 'within a week'\n",
    "    if pdays >=7 and pdays <=13:\n",
    "        return 'within two weeks'\n",
    "    if pdays >= 14 and pdays <=20:\n",
    "        return 'within three weeks'\n",
    "    if pdays > 20:\n",
    "        return 'more than three weeks'"
   ]
  },
  {
   "cell_type": "code",
   "execution_count": 40,
   "metadata": {},
   "outputs": [],
   "source": [
    "bdf['f.pdays'] = bdf['pdays'].apply(lambda days: p_days_bin(days))"
   ]
  },
  {
   "cell_type": "markdown",
   "metadata": {},
   "source": [
    "### Feature Analysis"
   ]
  },
  {
   "cell_type": "code",
   "execution_count": 41,
   "metadata": {},
   "outputs": [],
   "source": [
    "dropped_columns= ['s.no', 'age', 'emp.var.rate','cons.conf.idx','nr.employed','default', 'pdays','f.salary','f.income_tax', 'euribor3m']\n",
    "categorical_columns=['job','education','marital','housing','loan','contact','month','day_of_week',\n",
    "                     'poutcome','f.euribor','f.age','f.commitment',\n",
    "                    'f.seasons','f.retired_status', 'f.user_type', 'f.pattern',\n",
    "                     'f.previous_campaigns','f.current_campaign_calls','f.first_time_user_calls', \n",
    "                     'f.pdays','f.savings_intent_factor'\n",
    "                    ]"
   ]
  },
  {
   "cell_type": "code",
   "execution_count": 42,
   "metadata": {},
   "outputs": [],
   "source": [
    "# drop the columns\n",
    "bdf.drop(dropped_columns, axis=1, inplace=True)"
   ]
  },
  {
   "cell_type": "code",
   "execution_count": 43,
   "metadata": {},
   "outputs": [],
   "source": [
    "#convert columns of object type to categorical columns\n",
    "bdf_cat = bdf[categorical_columns].astype('category')"
   ]
  },
  {
   "cell_type": "code",
   "execution_count": 44,
   "metadata": {},
   "outputs": [],
   "source": [
    "bdf[categorical_columns] = bdf[categorical_columns].astype('category')"
   ]
  },
  {
   "cell_type": "code",
   "execution_count": 45,
   "metadata": {
    "scrolled": true
   },
   "outputs": [],
   "source": [
    "# drop bdf categorical columns from the dataframe\n",
    "bdf_noncat = bdf.drop(categorical_columns,axis=1)"
   ]
  },
  {
   "cell_type": "code",
   "execution_count": 46,
   "metadata": {},
   "outputs": [
    {
     "data": {
      "text/plain": [
       "Index(['campaign', 'previous', 'cons.price.idx', 'y', 'f.festivals',\n",
       "       'f.bonus_months', 'f.season_weight', 'f.marital_weightage',\n",
       "       'f.age_weightage', 'f.age_range_weightage', 'f.avg_income_dist'],\n",
       "      dtype='object')"
      ]
     },
     "execution_count": 46,
     "metadata": {},
     "output_type": "execute_result"
    }
   ],
   "source": [
    "bdf_noncat.columns"
   ]
  },
  {
   "cell_type": "code",
   "execution_count": 47,
   "metadata": {},
   "outputs": [],
   "source": [
    "# use one hot encoding for categorical columns\n",
    "bdf_cat_one_hot = pd.get_dummies(bdf_cat)"
   ]
  },
  {
   "cell_type": "code",
   "execution_count": 48,
   "metadata": {},
   "outputs": [
    {
     "data": {
      "text/plain": [
       "(41188, 100)"
      ]
     },
     "execution_count": 48,
     "metadata": {},
     "output_type": "execute_result"
    }
   ],
   "source": [
    "bdf_cat_one_hot.shape"
   ]
  },
  {
   "cell_type": "code",
   "execution_count": 49,
   "metadata": {},
   "outputs": [],
   "source": [
    "#concat categorical df with non categorical df\n",
    "bdf_master = pd.concat([bdf_noncat, bdf_cat_one_hot], axis=1)"
   ]
  },
  {
   "cell_type": "code",
   "execution_count": 50,
   "metadata": {},
   "outputs": [],
   "source": [
    "# store only the target variable column\n",
    "y = bdf_master.pop('y')"
   ]
  },
  {
   "cell_type": "code",
   "execution_count": 51,
   "metadata": {},
   "outputs": [],
   "source": [
    "# remove the target variable column from the master dataset\n",
    "X = bdf_master"
   ]
  },
  {
   "cell_type": "code",
   "execution_count": 52,
   "metadata": {},
   "outputs": [],
   "source": [
    "X_train, X_test, y_train, y_test = train_test_split(\n",
    "    X, y, test_size=0.25, random_state=101)"
   ]
  },
  {
   "cell_type": "code",
   "execution_count": 53,
   "metadata": {},
   "outputs": [
    {
     "data": {
      "text/plain": [
       "no     27416\n",
       "yes     3475\n",
       "Name: y, dtype: int64"
      ]
     },
     "execution_count": 53,
     "metadata": {},
     "output_type": "execute_result"
    }
   ],
   "source": [
    "y_train.value_counts()"
   ]
  },
  {
   "cell_type": "code",
   "execution_count": 54,
   "metadata": {},
   "outputs": [
    {
     "data": {
      "text/plain": [
       "no     9132\n",
       "yes    1165\n",
       "Name: y, dtype: int64"
      ]
     },
     "execution_count": 54,
     "metadata": {},
     "output_type": "execute_result"
    }
   ],
   "source": [
    "y_test.value_counts()"
   ]
  },
  {
   "cell_type": "code",
   "execution_count": 55,
   "metadata": {},
   "outputs": [],
   "source": [
    "# the propotion of yes and no looks the same"
   ]
  },
  {
   "cell_type": "markdown",
   "metadata": {},
   "source": [
    "### Visualizing classification report"
   ]
  },
  {
   "cell_type": "code",
   "execution_count": 56,
   "metadata": {},
   "outputs": [],
   "source": [
    "def show_classification_rpt(model):\n",
    "    visualizer = ClassificationReport(model, classes=['yes','no'], cmap=\"YlGn\", size=(600,300))\n",
    "    visualizer.fit(X_train, y_train)\n",
    "    visualizer.score(X_test, y_test)\n",
    "    visualizer.show()"
   ]
  },
  {
   "cell_type": "markdown",
   "metadata": {},
   "source": [
    "# Model Building"
   ]
  },
  {
   "cell_type": "code",
   "execution_count": 57,
   "metadata": {},
   "outputs": [],
   "source": [
    "# function that fits and predicts\n",
    "def fit_predict(algo,X_train, X_test, y_train, y_test):\n",
    "    algo.fit(X_train, y_train)\n",
    "    y_pred = algo.predict(X_test)\n",
    "    return accuracy_score(y_test, y_pred)"
   ]
  },
  {
   "cell_type": "markdown",
   "metadata": {},
   "source": [
    "## Logistic Regression"
   ]
  },
  {
   "cell_type": "code",
   "execution_count": 58,
   "metadata": {},
   "outputs": [],
   "source": [
    "logit = LogisticRegression()"
   ]
  },
  {
   "cell_type": "code",
   "execution_count": 59,
   "metadata": {},
   "outputs": [
    {
     "name": "stdout",
     "output_type": "stream",
     "text": [
      "Accuracy with Logistic Regression: 0.8948237350684666\n"
     ]
    }
   ],
   "source": [
    "print(\"Accuracy with Logistic Regression\", end=': ')\n",
    "logit_accuracy = fit_predict(logit, X_train, X_test, y_train, y_test)\n",
    "print(logit_accuracy)"
   ]
  },
  {
   "cell_type": "code",
   "execution_count": 60,
   "metadata": {},
   "outputs": [
    {
     "data": {
      "image/png": "[encoded data removed]",
      "text/plain": [
       "<Figure size 600x300 with 2 Axes>"
      ]
     },
     "metadata": {},
     "output_type": "display_data"
    }
   ],
   "source": [
    "show_classification_rpt(logit)"
   ]
  },
  {
   "cell_type": "markdown",
   "metadata": {},
   "source": [
    "## Decision Tree"
   ]
  },
  {
   "cell_type": "code",
   "execution_count": 61,
   "metadata": {},
   "outputs": [],
   "source": [
    "tree = DecisionTreeClassifier(random_state=rand_state)"
   ]
  },
  {
   "cell_type": "code",
   "execution_count": 62,
   "metadata": {},
   "outputs": [
    {
     "name": "stdout",
     "output_type": "stream",
     "text": [
      "Accuracy with Decision Tree: 0.8562688161600466\n"
     ]
    }
   ],
   "source": [
    "print(\"Accuracy with Decision Tree\", end=': ')\n",
    "dt_accuracy = fit_predict(tree, X_train, X_test, y_train, y_test)\n",
    "print(dt_accuracy)"
   ]
  },
  {
   "cell_type": "code",
   "execution_count": 63,
   "metadata": {},
   "outputs": [
    {
     "data": {
      "image/png": "[encoded data removed]",
      "text/plain": [
       "<Figure size 600x300 with 2 Axes>"
      ]
     },
     "metadata": {},
     "output_type": "display_data"
    }
   ],
   "source": [
    "show_classification_rpt(tree)"
   ]
  },
  {
   "cell_type": "markdown",
   "metadata": {},
   "source": [
    "### Hyper Parameter Tuning"
   ]
  },
  {
   "cell_type": "code",
   "execution_count": 64,
   "metadata": {},
   "outputs": [],
   "source": [
    "def fit_predict_dt(train, test, y_train, y_test, scaler, max_depth,\n",
    "               criterion = 'entropy', max_features=1, min_samples_split=4):\n",
    "    train_scaled = scaler.fit_transform(train)\n",
    "    test_scaled = scaler.transform(test)\n",
    "    dt = DecisionTreeClassifier(criterion = criterion, max_depth=max_depth,\n",
    "                               random_state= 101, max_features=max_features,\n",
    "                               min_samples_split=min_samples_split)\n",
    "    dt.fit(train_scaled, y_train)\n",
    "    y_pred = dt.predict(test_scaled)\n",
    "    return accuracy_score(y_test, y_pred)"
   ]
  },
  {
   "cell_type": "markdown",
   "metadata": {},
   "source": [
    "### Max depth parameter tuning"
   ]
  },
  {
   "cell_type": "code",
   "execution_count": 65,
   "metadata": {},
   "outputs": [],
   "source": [
    "list_max_depth = []"
   ]
  },
  {
   "cell_type": "code",
   "execution_count": 66,
   "metadata": {},
   "outputs": [
    {
     "name": "stdout",
     "output_type": "stream",
     "text": [
      "Accuracy score using max_depth =  1:0.8868602505584151\n",
      "Accuracy score using max_depth =  2:0.8868602505584151\n",
      "Accuracy score using max_depth =  3:0.8868602505584151\n",
      "Accuracy score using max_depth =  4:0.8868602505584151\n",
      "Accuracy score using max_depth =  5:0.8876371758764688\n",
      "Accuracy score using max_depth =  6:0.8896766048363601\n",
      "Accuracy score using max_depth =  7:0.8898708361658736\n",
      "Accuracy score using max_depth =  8:0.8877342915412256\n",
      "Accuracy score using max_depth =  9:0.8915218024667378\n",
      "Accuracy score using max_depth =  10:0.8889967951830631\n",
      "Accuracy score using max_depth =  11:0.8915218024667378\n",
      "Accuracy score using max_depth =  12:0.8895794891716033\n",
      "Accuracy score using max_depth =  13:0.8880256385354958\n",
      "Accuracy score using max_depth =  14:0.8871515975526852\n",
      "Accuracy score using max_depth =  15:0.8893852578420899\n",
      "Accuracy score using max_depth =  16:0.8842381276099834\n",
      "Accuracy score using max_depth =  17:0.8851121685927941\n",
      "Accuracy score using max_depth =  18:0.8855977469165777\n",
      "Accuracy score using max_depth =  19:0.8839467806157133\n",
      "Accuracy score using max_depth =  20:0.8800621540254443\n",
      "Accuracy score using max_depth =  21:0.8781198407303098\n",
      "Accuracy score using max_depth =  22:0.8831698552976596\n",
      "Accuracy score using max_depth =  23:0.8829756239681461\n",
      "Accuracy score using max_depth =  24:0.8786054190540934\n",
      "Accuracy score using max_depth =  25:0.877342915412256\n",
      "Accuracy score using max_depth =  26:0.875206370787608\n",
      "Accuracy score using max_depth =  27:0.8786054190540934\n",
      "Accuracy score using max_depth =  28:0.8733611731572303\n",
      "Accuracy score using max_depth =  29:0.8705448188792853\n",
      "9\n"
     ]
    }
   ],
   "source": [
    "for i in range(1,30):\n",
    "    print(\"Accuracy score using max_depth = \", i, end = ':')\n",
    "    dt_max_depth = fit_predict_dt(X_train, X_test, y_train, y_test, StandardScaler(), i)\n",
    "    print(dt_max_depth)\n",
    "    list_max_depth.append(dt_max_depth)\n",
    "    \n",
    "max_depth_tuned = list_max_depth.index(max(list_max_depth))+1\n",
    "print(max_depth_tuned)"
   ]
  },
  {
   "cell_type": "markdown",
   "metadata": {},
   "source": [
    "### Max features tuning"
   ]
  },
  {
   "cell_type": "code",
   "execution_count": 67,
   "metadata": {},
   "outputs": [],
   "source": [
    "dict_max_features = {}"
   ]
  },
  {
   "cell_type": "code",
   "execution_count": 68,
   "metadata": {},
   "outputs": [
    {
     "name": "stdout",
     "output_type": "stream",
     "text": [
      "Accuracy score using max features = 0.1:0.8937554627561426\n",
      "Accuracy score using max features = 0.2:0.8961833543750607\n",
      "Accuracy score using max features = 0.30000000000000004:0.897154511022628\n",
      "Accuracy score using max features = 0.4:0.8973487423521413\n",
      "Accuracy score using max features = 0.5:0.8954064290570068\n",
      "Accuracy score using max features = 0.6:0.8962804700398174\n",
      "Accuracy score using max features = 0.7000000000000001:0.8958920073807906\n",
      "Accuracy score using max features = 0.8:0.8937554627561426\n",
      "Accuracy score using max features = 0.9:0.8989997086530057\n",
      "0.9\n"
     ]
    }
   ],
   "source": [
    "for i in np.arange(0.1,1.0,0.1):\n",
    "    print('Accuracy score using max features =', i, end = \":\")\n",
    "    dt_max_features = fit_predict_dt(X_train, X_test, y_train, y_test, StandardScaler(), max_depth=max_depth_tuned, max_features=i)\n",
    "    print(dt_max_features)\n",
    "    dict_max_features[i]=dt_max_features\n",
    "\n",
    "max_feature_tuned = max(dict_max_features, key=dict_max_features.get)\n",
    "print(max_feature_tuned)"
   ]
  },
  {
   "cell_type": "markdown",
   "metadata": {},
   "source": [
    "### Min samples split tuning"
   ]
  },
  {
   "cell_type": "code",
   "execution_count": 69,
   "metadata": {},
   "outputs": [],
   "source": [
    "dict_min_samples_split = {}"
   ]
  },
  {
   "cell_type": "code",
   "execution_count": 70,
   "metadata": {},
   "outputs": [
    {
     "name": "stdout",
     "output_type": "stream",
     "text": [
      "Accuracy score using min samples split= 2:0.8967660483636011\n",
      "Accuracy score using min samples split= 3:0.8989997086530057\n",
      "Accuracy score using min samples split= 4:0.8989997086530057\n",
      "Accuracy score using min samples split= 5:0.898222783334952\n",
      "Accuracy score using min samples split= 6:0.8984170146644653\n",
      "Accuracy score using min samples split= 7:0.8975429736816548\n",
      "Accuracy score using min samples split= 8:0.8979314363406817\n",
      "Accuracy score using min samples split= 9:0.8979314363406817\n",
      "3\n"
     ]
    }
   ],
   "source": [
    "for i in range(2,10):\n",
    "    print('Accuracy score using min samples split=', i, end=\":\")\n",
    "    dt_min_sample_split = fit_predict_dt(X_train, X_test, y_train, y_test, StandardScaler(), max_depth=max_depth_tuned, max_features=max_feature_tuned, min_samples_split=i)\n",
    "    print(dt_min_sample_split)\n",
    "    dict_min_samples_split[i] = dt_min_sample_split\n",
    "    \n",
    "min_sample_split_tuned = max(dict_min_samples_split, key=dict_min_samples_split.get)\n",
    "print(min_sample_split_tuned)"
   ]
  },
  {
   "cell_type": "markdown",
   "metadata": {},
   "source": [
    "### Criterion tuning"
   ]
  },
  {
   "cell_type": "code",
   "execution_count": 71,
   "metadata": {},
   "outputs": [],
   "source": [
    "dict_index_tuned = {}"
   ]
  },
  {
   "cell_type": "code",
   "execution_count": 72,
   "metadata": {},
   "outputs": [
    {
     "name": "stdout",
     "output_type": "stream",
     "text": [
      "Accuracy score using criterion:  gini:0.8969602796931145\n",
      "Accuracy score using criterion:  entropy:0.8989997086530057\n",
      "entropy\n"
     ]
    }
   ],
   "source": [
    "for i in ['gini','entropy']:\n",
    "    print(\"Accuracy score using criterion: \", i, end = ':')\n",
    "    dt_index_score = fit_predict_dt(X_train, X_test, y_train, y_test, StandardScaler(), max_depth=max_depth_tuned, max_features = max_feature_tuned, min_samples_split=min_sample_split_tuned, criterion= i)\n",
    "    print(dt_index_score)\n",
    "    dict_index_tuned[i] = dt_index_score\n",
    "\n",
    "dt_index_tuned = max(dict_index_tuned, key=dict_index_tuned.get)\n",
    "print(dt_index_tuned)"
   ]
  },
  {
   "cell_type": "markdown",
   "metadata": {},
   "source": [
    "### Rerunning decision tree with best parameters"
   ]
  },
  {
   "cell_type": "code",
   "execution_count": 73,
   "metadata": {},
   "outputs": [
    {
     "name": "stdout",
     "output_type": "stream",
     "text": [
      "Accuracy score for decision tree using best param: :0.8989997086530057\n"
     ]
    }
   ],
   "source": [
    "dt_best_param_score  =  fit_predict_dt(X_train, X_test, y_train, y_test, StandardScaler(), max_depth=max_depth_tuned, max_features = max_feature_tuned, min_samples_split=min_sample_split_tuned, criterion= dt_index_tuned)\n",
    "print(\"Accuracy score for decision tree using best param: \", end = ':')\n",
    "print(dt_best_param_score)"
   ]
  },
  {
   "cell_type": "code",
   "execution_count": 74,
   "metadata": {},
   "outputs": [],
   "source": [
    "tree1 = DecisionTreeClassifier(criterion = dt_index_tuned, max_depth=max_depth_tuned,\n",
    "                               random_state= rand_state, max_features=max_feature_tuned,\n",
    "                               min_samples_split=min_sample_split_tuned)"
   ]
  },
  {
   "cell_type": "code",
   "execution_count": 75,
   "metadata": {},
   "outputs": [
    {
     "data": {
      "image/png": "[encoded data removed]",
      "text/plain": [
       "<Figure size 600x300 with 2 Axes>"
      ]
     },
     "metadata": {},
     "output_type": "display_data"
    }
   ],
   "source": [
    "show_classification_rpt(tree1)"
   ]
  },
  {
   "cell_type": "markdown",
   "metadata": {},
   "source": [
    "### Using polynomial features"
   ]
  },
  {
   "cell_type": "code",
   "execution_count": 76,
   "metadata": {},
   "outputs": [],
   "source": [
    "def create_poly(train, test, degree):\n",
    "    poly = PolynomialFeatures(degree = degree)\n",
    "    train_poly = poly.fit_transform(train)\n",
    "    test_poly = poly.fit_transform(test)\n",
    "    return train_poly, test_poly"
   ]
  },
  {
   "cell_type": "code",
   "execution_count": 77,
   "metadata": {},
   "outputs": [],
   "source": [
    "## polynomial features taking a lot of time as the number of columns are more. Hence commented the following piece of code"
   ]
  },
  {
   "cell_type": "code",
   "execution_count": 78,
   "metadata": {},
   "outputs": [],
   "source": [
    "# for degree in [1,2,3,4]:\n",
    "#     train_poly, test_poly = create_poly(X_train, X_test, degree)\n",
    "#     print(\"polynomial degree\", degree)\n",
    "#     fit_predict(train_poly, test_poly, y_train, y_test, StandardScaler(), 16, max_features = 0.2,min_samples_split=4, criterion='entropy')\n",
    "#     print(10 *'-')"
   ]
  },
  {
   "cell_type": "markdown",
   "metadata": {},
   "source": [
    "## Random Forest"
   ]
  },
  {
   "cell_type": "code",
   "execution_count": 79,
   "metadata": {},
   "outputs": [],
   "source": [
    "forest = RandomForestClassifier(criterion='entropy', oob_score=True)"
   ]
  },
  {
   "cell_type": "code",
   "execution_count": 80,
   "metadata": {},
   "outputs": [
    {
     "name": "stdout",
     "output_type": "stream",
     "text": [
      "Accuracy with Random Forest: 0.8895794891716033\n"
     ]
    }
   ],
   "source": [
    "print(\"Accuracy with Random Forest\", end=': ')\n",
    "rf_accuracy = fit_predict(forest, X_train, X_test, y_train, y_test)\n",
    "print(rf_accuracy)"
   ]
  },
  {
   "cell_type": "code",
   "execution_count": 81,
   "metadata": {},
   "outputs": [
    {
     "data": {
      "image/png": "[encoded data removed]",
      "text/plain": [
       "<Figure size 600x300 with 2 Axes>"
      ]
     },
     "metadata": {},
     "output_type": "display_data"
    }
   ],
   "source": [
    "show_classification_rpt(forest)"
   ]
  },
  {
   "cell_type": "markdown",
   "metadata": {},
   "source": [
    "### Parameter tuning using Grid Search"
   ]
  },
  {
   "cell_type": "code",
   "execution_count": 82,
   "metadata": {},
   "outputs": [],
   "source": [
    "from sklearn.model_selection import GridSearchCV"
   ]
  },
  {
   "cell_type": "code",
   "execution_count": 83,
   "metadata": {},
   "outputs": [],
   "source": [
    "params = {\n",
    "    'n_estimators': [200,500,700],\n",
    "    'max_depth': [10,15,20,25],\n",
    "    'min_samples_leaf': [3,5,7]\n",
    "}"
   ]
  },
  {
   "cell_type": "code",
   "execution_count": 84,
   "metadata": {},
   "outputs": [],
   "source": [
    "gs = GridSearchCV(forest, params, cv=cv, verbose=verbose, n_jobs=number_of_jobs)"
   ]
  },
  {
   "cell_type": "code",
   "execution_count": 85,
   "metadata": {},
   "outputs": [
    {
     "name": "stdout",
     "output_type": "stream",
     "text": [
      "Fitting 2 folds for each of 36 candidates, totalling 72 fits\n"
     ]
    },
    {
     "name": "stderr",
     "output_type": "stream",
     "text": [
      "[Parallel(n_jobs=-1)]: Using backend LokyBackend with 4 concurrent workers.\n",
      "[Parallel(n_jobs=-1)]: Done  24 tasks      | elapsed:  2.3min\n",
      "[Parallel(n_jobs=-1)]: Done  72 out of  72 | elapsed:  8.0min finished\n"
     ]
    }
   ],
   "source": [
    "if grid_search_enable == True:\n",
    "    gs.fit(X_train, y_train)"
   ]
  },
  {
   "cell_type": "code",
   "execution_count": 86,
   "metadata": {},
   "outputs": [
    {
     "name": "stdout",
     "output_type": "stream",
     "text": [
      "{'max_depth': 10, 'min_samples_leaf': 5, 'n_estimators': 700}\n"
     ]
    }
   ],
   "source": [
    "if grid_search_enable == True:\n",
    "    print(gs.best_params_)"
   ]
  },
  {
   "cell_type": "code",
   "execution_count": 87,
   "metadata": {},
   "outputs": [],
   "source": [
    "if grid_search_enable == True:\n",
    "    forest_best_max_depth = gs.best_params_['max_depth']\n",
    "    forest_best_min_samples = gs.best_params_['min_samples_leaf']\n",
    "    forest_best_n_estimators = gs.best_params_['n_estimators']\n",
    "    #forest_best_criterion = gs.best_params_['criterion']"
   ]
  },
  {
   "cell_type": "code",
   "execution_count": 88,
   "metadata": {},
   "outputs": [
    {
     "name": "stdout",
     "output_type": "stream",
     "text": [
      "RandomForestClassifier(bootstrap=True, ccp_alpha=0.0, class_weight=None,\n",
      "                       criterion='entropy', max_depth=10, max_features='auto',\n",
      "                       max_leaf_nodes=None, max_samples=None,\n",
      "                       min_impurity_decrease=0.0, min_impurity_split=None,\n",
      "                       min_samples_leaf=5, min_samples_split=2,\n",
      "                       min_weight_fraction_leaf=0.0, n_estimators=700,\n",
      "                       n_jobs=None, oob_score=True, random_state=None,\n",
      "                       verbose=0, warm_start=False)\n"
     ]
    }
   ],
   "source": [
    "if grid_search_enable == True:\n",
    "    print(gs.best_estimator_)"
   ]
  },
  {
   "cell_type": "markdown",
   "metadata": {},
   "source": [
    "### Retraining with best estimators"
   ]
  },
  {
   "cell_type": "code",
   "execution_count": 89,
   "metadata": {},
   "outputs": [],
   "source": [
    "if grid_search_enable == True:\n",
    "    forest1 = RandomForestClassifier(bootstrap=True, ccp_alpha=0.0, class_weight=None,\n",
    "                       criterion='entropy', max_depth=forest_best_max_depth, max_features='auto',\n",
    "                       max_leaf_nodes=None, max_samples=None,\n",
    "                       min_impurity_decrease=0.0, min_impurity_split=None,\n",
    "                       min_samples_leaf=forest_best_min_samples, min_samples_split=2,\n",
    "                       min_weight_fraction_leaf=0.0, n_estimators=forest_best_n_estimators,\n",
    "                       n_jobs=number_of_jobs, oob_score=True, random_state=rand_state,\n",
    "                       verbose=0, warm_start=False)"
   ]
  },
  {
   "cell_type": "code",
   "execution_count": 90,
   "metadata": {},
   "outputs": [],
   "source": [
    "if grid_search_enable == True:\n",
    "    forest1.fit(X_train, y_train)"
   ]
  },
  {
   "cell_type": "code",
   "execution_count": 91,
   "metadata": {},
   "outputs": [],
   "source": [
    "if grid_search_enable == True:\n",
    "    pred_forest1 = forest1.predict(X_test)"
   ]
  },
  {
   "cell_type": "code",
   "execution_count": 92,
   "metadata": {},
   "outputs": [
    {
     "name": "stdout",
     "output_type": "stream",
     "text": [
      "Accuracy with Random Forest after Hyper Parameter Tuning: 0.899970865300573\n"
     ]
    }
   ],
   "source": [
    "if grid_search_enable == True:\n",
    "    print(\"Accuracy with Random Forest after Hyper Parameter Tuning\", end=': ')\n",
    "    rf_hyper_accuracy = accuracy_score(y_test, pred_forest1)\n",
    "    print(rf_hyper_accuracy)"
   ]
  },
  {
   "cell_type": "code",
   "execution_count": 93,
   "metadata": {},
   "outputs": [
    {
     "name": "stdout",
     "output_type": "stream",
     "text": [
      "(0.13570267777210004, 'f.euribor_lt_1')\n",
      "(0.10896220310427399, 'f.euribor_gt_4')\n",
      "(0.08926140063898466, 'cons.price.idx')\n",
      "(0.04504299738235566, 'poutcome_success')\n",
      "(0.04101374537370353, 'poutcome_failure')\n",
      "(0.03419604579784318, 'f.pattern_no')\n",
      "(0.0305207459825366, 'f.euribor_gt_1_lt_2')\n",
      "(0.027314929627610507, 'previous')\n",
      "(0.024648092456042586, 'contact_cellular')\n",
      "(0.024232497666194123, 'contact_telephone')\n",
      "(0.022091689164487012, 'month_may')\n",
      "(0.02095677359460491, 'f.user_type_new user')\n",
      "(0.020911535740931863, 'f.first_time_user_calls_returning user')\n",
      "(0.02039616939282347, 'f.age_weightage')\n",
      "(0.01944870065873185, 'f.previous_campaigns_no previous')\n",
      "(0.017026567116473816, 'f.seasons_spring')\n",
      "(0.01696757947992549, 'f.user_type_existing user')\n",
      "(0.015860833778148082, 'f.season_weight')\n",
      "(0.013028873655555055, 'month_oct')\n",
      "(0.011680091196213717, 'f.seasons_summer')\n",
      "(0.011445079915153242, 'f.previous_campaigns_1_to_3')\n",
      "(0.011312558832065014, 'month_mar')\n",
      "(0.010648371064437341, 'campaign')\n",
      "(0.010224566486523015, 'f.avg_income_dist')\n",
      "(0.009949885755609511, 'f.festivals')\n",
      "(0.008467989061503752, 'month_apr')\n",
      "(0.007701396808855497, 'f.retired_status_not-retired')\n",
      "(0.007352722260567407, 'f.bonus_months')\n",
      "(0.006503393762997053, 'f.seasons_autumn')\n",
      "(0.0058829726431953435, 'f.retired_status_retired')\n",
      "(0.005788906278128643, 'f.age_range_weightage')\n",
      "(0.005661302305831082, 'month_nov')\n",
      "(0.005590625662570328, 'month_jun')\n",
      "(0.005212410657782731, 'f.pdays_within a week')\n",
      "(0.004791441170280637, 'day_of_week_mon')\n",
      "(0.004544881468455351, 'job_blue-collar')\n",
      "(0.004339749625657596, 'month_sep')\n",
      "(0.0041685946452465735, 'education_university.degree')\n",
      "(0.0041049251951082305, 'day_of_week_thu')\n",
      "(0.004080197408093327, 'f.age_21_to_30')\n",
      "(0.003943733383260245, 'f.marital_weightage')\n",
      "(0.0036288752405463642, 'day_of_week_fri')\n",
      "(0.003587202770921911, 'job_retired')\n",
      "(0.0034489751126863385, 'day_of_week_tue')\n",
      "(0.0034333147047473965, 'housing_no')\n",
      "(0.003387314869383729, 'f.current_campaign_calls_once')\n",
      "(0.003363127871773483, 'job_student')\n",
      "(0.0033520347521061576, 'housing_yes')\n",
      "(0.0032760722252863314, 'f.age_31_to_40')\n",
      "(0.003268057603297194, 'f.current_campaign_calls_twice to thrice ')\n",
      "(0.003105206564115845, 'day_of_week_wed')\n",
      "(0.0029559104871842916, 'month_aug')\n",
      "(0.0029321635928564876, 'education_basic.9y')\n",
      "(0.0029148772710518175, 'marital_single')\n",
      "(0.0029111797077298425, 'f.pdays_within two weeks')\n",
      "(0.0027448874884197154, 'f.savings_intent_factor_high')\n",
      "(0.00273226095716608, 'f.age_61_to_70')\n",
      "(0.0027309701779818234, 'job_admin.')\n",
      "(0.002729757068861989, 'f.first_time_user_calls_first time called')\n",
      "(0.0027184312744202373, 'education_high.school')\n",
      "(0.0027173193368594884, 'month_jul')\n",
      "(0.002711594684686584, 'f.age_41_to_50')\n",
      "(0.002577345530010765, 'marital_married')\n",
      "(0.0023869516568462298, 'f.savings_intent_factor_low')\n",
      "(0.0023420106343318195, 'f.commitment_medium')\n",
      "(0.0022241731056108225, 'loan_no')\n",
      "(0.0022195993912033684, 'f.first_time_user_calls_called atleast thrice')\n",
      "(0.002202164037200887, 'f.first_time_user_calls_called atleast twice')\n",
      "(0.002195326811386026, 'f.savings_intent_factor_medium')\n",
      "(0.0021801001724713626, 'job_technician')\n",
      "(0.002144859028087899, 'loan_yes')\n",
      "(0.0021337577992652564, 'education_professional.course')\n",
      "(0.001951686649205149, 'f.age_51_to_60')\n",
      "(0.0019060856086198766, 'education_basic.4y')\n",
      "(0.0018813183021095475, 'f.commitment_low')\n",
      "(0.0018676437071637672, 'f.current_campaign_calls_four to six times')\n",
      "(0.0018458283971110403, 'job_services')\n",
      "(0.0016785760905282847, 'marital_divorced')\n",
      "(0.0015883111721685607, 'f.pattern_PE4A')\n",
      "(0.0012599482235710329, 'f.commitment_high')\n",
      "(0.0011682128316816284, 'job_management')\n",
      "(0.0011047167664389396, 'f.age_71_to_80')\n",
      "(0.0010736394719645511, 'f.pattern_PE1G')\n",
      "(0.0010674733495888075, 'f.pattern_PE1D')\n",
      "(0.00099536916047726, 'job_self-employed')\n",
      "(0.0009702948717139777, 'education_basic.6y')\n",
      "(0.000885842573954287, 'f.seasons_winter')\n",
      "(0.0008183317365282401, 'job_housemaid')\n",
      "(0.0008059904498135774, 'f.pattern_PE1C')\n",
      "(0.0008038925908695535, 'f.current_campaign_calls_seven to ten times')\n",
      "(0.0008022273774256755, 'f.pattern_PE1K')\n",
      "(0.0007775182296968492, 'job_unemployed')\n",
      "(0.0007614360550681645, 'job_entrepreneur')\n",
      "(0.0007558351539988416, 'f.pattern_PE1B')\n",
      "(0.0006881120171934649, 'f.current_campaign_calls_more than ten times')\n",
      "(0.0006757409739676278, 'month_dec')\n",
      "(0.0005963441486828828, 'f.pattern_PE12B')\n",
      "(0.0004880760343724599, 'f.pattern_PE12F')\n",
      "(0.0004844014593774108, 'f.age_11_to_20')\n",
      "(0.00047249418417542253, 'f.age_81_to_90')\n",
      "(0.0003848019064997811, 'f.pattern_PE1H')\n",
      "(0.00029361849257599425, 'f.pattern_PE12A')\n",
      "(0.0002568771738562136, 'f.pdays_within three weeks')\n",
      "(0.0002509613327345741, 'f.previous_campaigns_gt_3')\n",
      "(0.00023399105371583453, 'f.pattern_PE12D')\n",
      "(0.00015637721095830928, 'f.pattern_PE1F')\n",
      "(6.300085363214336e-06, 'f.euribor_gt_3_lt_4')\n",
      "(4.862860166699377e-06, 'education_illiterate')\n",
      "(1.186397303031813e-06, 'f.age_91_to_100')\n",
      "(0.0, 'f.pdays_more than three weeks')\n"
     ]
    }
   ],
   "source": [
    "if grid_search_enable == True:\n",
    "    for x in sorted(list(zip(forest1.feature_importances_, X_train.columns)), reverse=True):\n",
    "        print(x)"
   ]
  },
  {
   "cell_type": "code",
   "execution_count": 94,
   "metadata": {},
   "outputs": [],
   "source": [
    "### Confusion matrix\n",
    "from sklearn.metrics import confusion_matrix, classification_report"
   ]
  },
  {
   "cell_type": "code",
   "execution_count": 95,
   "metadata": {},
   "outputs": [
    {
     "name": "stdout",
     "output_type": "stream",
     "text": [
      "[[9040   92]\n",
      " [ 938  227]]\n"
     ]
    }
   ],
   "source": [
    "if grid_search_enable == True:\n",
    "    print(confusion_matrix(y_test, pred_forest1))"
   ]
  },
  {
   "cell_type": "markdown",
   "metadata": {},
   "source": [
    "## Accuracy Summary Without Boosting"
   ]
  },
  {
   "cell_type": "code",
   "execution_count": 96,
   "metadata": {},
   "outputs": [
    {
     "name": "stdout",
     "output_type": "stream",
     "text": [
      "Accuracy with Logistic Regression: 0.8948237350684666\n",
      "Accuracy with Decision Tree: 0.8562688161600466\n",
      "Accuracy of Decision Tree after Hyper Parameter Tuning: :0.8989997086530057\n",
      "Accuracy with Random Forest: 0.8895794891716033\n",
      "Accuracy with Random Forest after Hyper Parameter Tuning: 0.899970865300573\n"
     ]
    }
   ],
   "source": [
    "print(\"Accuracy with Logistic Regression\", end=': ')\n",
    "print(logit_accuracy)\n",
    "print(\"Accuracy with Decision Tree\", end=': ')\n",
    "print(dt_accuracy)\n",
    "print(\"Accuracy of Decision Tree after Hyper Parameter Tuning: \", end = ':')\n",
    "print(dt_best_param_score)\n",
    "print(\"Accuracy with Random Forest\", end=': ')\n",
    "print(rf_accuracy)\n",
    "if grid_search_enable == True:\n",
    "    print(\"Accuracy with Random Forest after Hyper Parameter Tuning\", end=': ')\n",
    "    print(rf_hyper_accuracy)"
   ]
  },
  {
   "cell_type": "markdown",
   "metadata": {},
   "source": [
    "## AdaBoost"
   ]
  },
  {
   "cell_type": "code",
   "execution_count": 97,
   "metadata": {},
   "outputs": [],
   "source": [
    "from sklearn.ensemble import AdaBoostClassifier"
   ]
  },
  {
   "cell_type": "code",
   "execution_count": 98,
   "metadata": {},
   "outputs": [],
   "source": [
    "adabst_fit = AdaBoostClassifier(base_estimator=logit, random_state=rand_state, n_estimators=100)"
   ]
  },
  {
   "cell_type": "code",
   "execution_count": 99,
   "metadata": {},
   "outputs": [
    {
     "data": {
      "text/plain": [
       "AdaBoostClassifier(algorithm='SAMME.R',\n",
       "                   base_estimator=LogisticRegression(C=1.0, class_weight=None,\n",
       "                                                     dual=False,\n",
       "                                                     fit_intercept=True,\n",
       "                                                     intercept_scaling=1,\n",
       "                                                     l1_ratio=None,\n",
       "                                                     max_iter=100,\n",
       "                                                     multi_class='auto',\n",
       "                                                     n_jobs=None, penalty='l2',\n",
       "                                                     random_state=None,\n",
       "                                                     solver='lbfgs', tol=0.0001,\n",
       "                                                     verbose=0,\n",
       "                                                     warm_start=False),\n",
       "                   learning_rate=1.0, n_estimators=100, random_state=101)"
      ]
     },
     "execution_count": 99,
     "metadata": {},
     "output_type": "execute_result"
    }
   ],
   "source": [
    "adabst_fit.fit(X_train, y_train)"
   ]
  },
  {
   "cell_type": "code",
   "execution_count": 100,
   "metadata": {},
   "outputs": [
    {
     "name": "stdout",
     "output_type": "stream",
     "text": [
      "Accuracy with Ada Boost: 0.8896766048363601\n"
     ]
    }
   ],
   "source": [
    "print(\"Accuracy with Ada Boost\", end=': ')\n",
    "ada_boost_predict = adabst_fit.predict(X_test)\n",
    "ada_boost_accuracy = accuracy_score(y_test,ada_boost_predict)\n",
    "print(ada_boost_accuracy)"
   ]
  },
  {
   "cell_type": "code",
   "execution_count": 101,
   "metadata": {},
   "outputs": [
    {
     "name": "stdout",
     "output_type": "stream",
     "text": [
      "[[9121   11]\n",
      " [1125   40]]\n"
     ]
    }
   ],
   "source": [
    "print(confusion_matrix(y_test, adabst_fit.predict(X_test)))"
   ]
  },
  {
   "cell_type": "markdown",
   "metadata": {},
   "source": [
    "### Adaboost with Grid Search"
   ]
  },
  {
   "cell_type": "code",
   "execution_count": 102,
   "metadata": {},
   "outputs": [],
   "source": [
    "params_adaboost = {\n",
    "    'n_estimators': [100,200,300],\n",
    "    'base_estimator': [logit, tree1],\n",
    "    'learning_rate': [0.5,0.75,1.0]\n",
    "}"
   ]
  },
  {
   "cell_type": "code",
   "execution_count": 103,
   "metadata": {},
   "outputs": [],
   "source": [
    "ada_gs = GridSearchCV(adabst_fit, params_adaboost, cv=cv, n_jobs=number_of_jobs)"
   ]
  },
  {
   "cell_type": "code",
   "execution_count": 104,
   "metadata": {},
   "outputs": [],
   "source": [
    "if grid_search_enable == True:\n",
    "    ada_gs.fit(X_train, y_train)"
   ]
  },
  {
   "cell_type": "code",
   "execution_count": 105,
   "metadata": {},
   "outputs": [],
   "source": [
    "if grid_search_enable == True:\n",
    "    adabst_best_estimator = ada_gs.best_params_['base_estimator']\n",
    "    adabst_best_learning_rate = ada_gs.best_params_['learning_rate']\n",
    "    adabst_best_n_estimators = ada_gs.best_params_['n_estimators']"
   ]
  },
  {
   "cell_type": "code",
   "execution_count": 106,
   "metadata": {},
   "outputs": [],
   "source": [
    "if grid_search_enable == True:\n",
    "    ada_gs.best_params_"
   ]
  },
  {
   "cell_type": "markdown",
   "metadata": {},
   "source": [
    "### Adaboost - Retraining with best estimators"
   ]
  },
  {
   "cell_type": "code",
   "execution_count": 107,
   "metadata": {},
   "outputs": [],
   "source": [
    "if grid_search_enable == True:\n",
    "    ada_best = AdaBoostClassifier(base_estimator=adabst_best_estimator, random_state=rand_state,\n",
    "                                  n_estimators=adabst_best_n_estimators, learning_rate=adabst_best_learning_rate)"
   ]
  },
  {
   "cell_type": "code",
   "execution_count": 108,
   "metadata": {},
   "outputs": [],
   "source": [
    "if grid_search_enable == True:\n",
    "    ada_best.fit(X_train, y_train)\n",
    "    ada_best_predict = ada_best.predict(X_test)"
   ]
  },
  {
   "cell_type": "code",
   "execution_count": 109,
   "metadata": {},
   "outputs": [
    {
     "name": "stdout",
     "output_type": "stream",
     "text": [
      "Accuracy with Adaboost after Hyper Parameter Tuning: 0.89501796639798\n"
     ]
    }
   ],
   "source": [
    "if grid_search_enable == True:\n",
    "    print(\"Accuracy with Adaboost after Hyper Parameter Tuning\", end=': ')\n",
    "    ada_best_hyper_accuracy = accuracy_score(y_test, ada_best_predict)\n",
    "    print(ada_best_hyper_accuracy)"
   ]
  },
  {
   "cell_type": "markdown",
   "metadata": {},
   "source": [
    "## Gradient Boost"
   ]
  },
  {
   "cell_type": "code",
   "execution_count": 110,
   "metadata": {},
   "outputs": [],
   "source": [
    "from sklearn.ensemble import GradientBoostingClassifier"
   ]
  },
  {
   "cell_type": "code",
   "execution_count": 111,
   "metadata": {},
   "outputs": [],
   "source": [
    "gbc_fit = GradientBoostingClassifier(n_estimators=500,\n",
    "                                     min_samples_split=2,min_samples_leaf=1,max_depth=1,random_state=rand_state)"
   ]
  },
  {
   "cell_type": "code",
   "execution_count": 112,
   "metadata": {},
   "outputs": [
    {
     "data": {
      "text/plain": [
       "GradientBoostingClassifier(ccp_alpha=0.0, criterion='friedman_mse', init=None,\n",
       "                           learning_rate=0.1, loss='deviance', max_depth=1,\n",
       "                           max_features=None, max_leaf_nodes=None,\n",
       "                           min_impurity_decrease=0.0, min_impurity_split=None,\n",
       "                           min_samples_leaf=1, min_samples_split=2,\n",
       "                           min_weight_fraction_leaf=0.0, n_estimators=500,\n",
       "                           n_iter_no_change=None, presort='deprecated',\n",
       "                           random_state=101, subsample=1.0, tol=0.0001,\n",
       "                           validation_fraction=0.1, verbose=0,\n",
       "                           warm_start=False)"
      ]
     },
     "execution_count": 112,
     "metadata": {},
     "output_type": "execute_result"
    }
   ],
   "source": [
    "gbc_fit.fit(X_train, y_train)"
   ]
  },
  {
   "cell_type": "code",
   "execution_count": 113,
   "metadata": {},
   "outputs": [
    {
     "name": "stdout",
     "output_type": "stream",
     "text": [
      "Accuracy with Gradient Boost: 0.8978343206759251\n"
     ]
    }
   ],
   "source": [
    "print(\"Accuracy with Gradient Boost\", end=': ')\n",
    "gbc_accuracy = accuracy_score(y_test,gbc_fit.predict(X_test))\n",
    "print(gbc_accuracy)"
   ]
  },
  {
   "cell_type": "markdown",
   "metadata": {},
   "source": [
    "### Gradient boost with Grid Search"
   ]
  },
  {
   "cell_type": "code",
   "execution_count": 114,
   "metadata": {},
   "outputs": [],
   "source": [
    "params_gbc = {\n",
    "    'n_estimators': [100,300,500],\n",
    "    'max_depth': [2,3,4],\n",
    "    'learning_rate': [0.05,0.075,0.1]\n",
    "}"
   ]
  },
  {
   "cell_type": "code",
   "execution_count": 115,
   "metadata": {},
   "outputs": [],
   "source": [
    "gbc_gs = GridSearchCV(gbc_fit, params_gbc, cv=cv, n_jobs=number_of_jobs)"
   ]
  },
  {
   "cell_type": "code",
   "execution_count": 116,
   "metadata": {
    "scrolled": true
   },
   "outputs": [],
   "source": [
    "if grid_search_enable == True:\n",
    "    gbc_gs.fit(X_train, y_train)"
   ]
  },
  {
   "cell_type": "code",
   "execution_count": 117,
   "metadata": {},
   "outputs": [],
   "source": [
    "if grid_search_enable == True:\n",
    "    gbc_best_estimator = gbc_gs.best_params_['n_estimators']\n",
    "    gbc_best_max_depth = gbc_gs.best_params_['max_depth']\n",
    "    gbc_best_learning_rate = gbc_gs.best_params_['learning_rate']"
   ]
  },
  {
   "cell_type": "code",
   "execution_count": 118,
   "metadata": {},
   "outputs": [
    {
     "name": "stdout",
     "output_type": "stream",
     "text": [
      "{'learning_rate': 0.05, 'max_depth': 2, 'n_estimators': 100}\n"
     ]
    }
   ],
   "source": [
    "if grid_search_enable == True:\n",
    "    print(gbc_gs.best_params_)"
   ]
  },
  {
   "cell_type": "markdown",
   "metadata": {},
   "source": [
    "### Gradient Boost - With Best Parameters"
   ]
  },
  {
   "cell_type": "code",
   "execution_count": 119,
   "metadata": {},
   "outputs": [],
   "source": [
    "if grid_search_enable == True:\n",
    "    gbc_best = GradientBoostingClassifier(n_estimators=gbc_best_estimator,\n",
    "                                     min_samples_split=2,min_samples_leaf=1,max_depth=gbc_best_max_depth,random_state=rand_state,\n",
    "                                         learning_rate=gbc_best_learning_rate)"
   ]
  },
  {
   "cell_type": "code",
   "execution_count": 120,
   "metadata": {},
   "outputs": [],
   "source": [
    "if grid_search_enable == True:\n",
    "    gbc_best.fit(X_train, y_train)\n",
    "    gbc_best_predict = gbc_best.predict(X_test)"
   ]
  },
  {
   "cell_type": "code",
   "execution_count": 121,
   "metadata": {},
   "outputs": [
    {
     "name": "stdout",
     "output_type": "stream",
     "text": [
      "Accuracy with Gradient Boost after Hyper Parameter Tuning: 0.8989997086530057\n"
     ]
    }
   ],
   "source": [
    "if grid_search_enable == True:\n",
    "    print(\"Accuracy with Gradient Boost after Hyper Parameter Tuning\", end=': ')\n",
    "    gbc_best_hyper_accuracy = accuracy_score(y_test, gbc_best_predict)\n",
    "    print(gbc_best_hyper_accuracy)"
   ]
  },
  {
   "cell_type": "markdown",
   "metadata": {},
   "source": [
    "## XG Boost"
   ]
  },
  {
   "cell_type": "code",
   "execution_count": 122,
   "metadata": {},
   "outputs": [],
   "source": [
    "from xgboost import XGBClassifier"
   ]
  },
  {
   "cell_type": "code",
   "execution_count": 123,
   "metadata": {},
   "outputs": [
    {
     "data": {
      "text/plain": [
       "XGBClassifier(base_score=0.5, booster='gbtree', colsample_bylevel=1,\n",
       "              colsample_bynode=1, colsample_bytree=1, gamma=0,\n",
       "              learning_rate=0.1, max_delta_step=0, max_depth=2,\n",
       "              min_child_weight=1, missing=None, n_estimators=5000, n_jobs=-1,\n",
       "              nthread=None, objective='binary:logistic', random_state=101,\n",
       "              reg_alpha=0, reg_lambda=1, scale_pos_weight=1, seed=None,\n",
       "              silent=None, subsample=1, verbosity=1)"
      ]
     },
     "execution_count": 123,
     "metadata": {},
     "output_type": "execute_result"
    }
   ],
   "source": [
    "xgb_fit = XGBClassifier(max_depth=2, n_estimators=5000, random_state=rand_state, n_jobs=number_of_jobs)\n",
    "xgb_fit.fit(X_train, y_train)"
   ]
  },
  {
   "cell_type": "code",
   "execution_count": 124,
   "metadata": {},
   "outputs": [
    {
     "name": "stdout",
     "output_type": "stream",
     "text": [
      "Accuracy with XG Boost: 0.897154511022628\n"
     ]
    }
   ],
   "source": [
    "print(\"Accuracy with XG Boost\", end=': ')\n",
    "xgb_predict = xgb_fit.predict(X_test)\n",
    "xgb_accuracy = accuracy_score(y_test,xgb_predict)\n",
    "print(xgb_accuracy)"
   ]
  },
  {
   "cell_type": "markdown",
   "metadata": {},
   "source": [
    "### XG Boost with Grid Search"
   ]
  },
  {
   "cell_type": "code",
   "execution_count": 125,
   "metadata": {},
   "outputs": [],
   "source": [
    "xgb_params = {\n",
    "    'max_depth': [2,3,4],\n",
    "    'n_estimators': [300,500,700],\n",
    "    'learning_rate': [0.05,0.075,0.1]\n",
    "}"
   ]
  },
  {
   "cell_type": "code",
   "execution_count": 126,
   "metadata": {},
   "outputs": [],
   "source": [
    "xgb_gs = GridSearchCV(xgb_fit, xgb_params, cv=cv, n_jobs=number_of_jobs)"
   ]
  },
  {
   "cell_type": "code",
   "execution_count": 127,
   "metadata": {},
   "outputs": [],
   "source": [
    "if grid_search_enable == True:\n",
    "    xgb_gs.fit(X_train, y_train)"
   ]
  },
  {
   "cell_type": "code",
   "execution_count": 128,
   "metadata": {},
   "outputs": [
    {
     "name": "stdout",
     "output_type": "stream",
     "text": [
      "{'learning_rate': 0.075, 'max_depth': 3, 'n_estimators': 300}\n"
     ]
    }
   ],
   "source": [
    "if grid_search_enable == True:\n",
    "    print(xgb_gs.best_params_)"
   ]
  },
  {
   "cell_type": "code",
   "execution_count": 129,
   "metadata": {},
   "outputs": [],
   "source": [
    "if grid_search_enable == True:\n",
    "    xgb_best_max_depth = xgb_gs.best_params_['max_depth']\n",
    "    xgb_best_n_estimators = xgb_gs.best_params_['n_estimators']\n",
    "    xgb_best_learning_rate = xgb_gs.best_params_['learning_rate']"
   ]
  },
  {
   "cell_type": "markdown",
   "metadata": {},
   "source": [
    "### Re-running XG Boost with Best Parameters"
   ]
  },
  {
   "cell_type": "code",
   "execution_count": 130,
   "metadata": {},
   "outputs": [],
   "source": [
    "if grid_search_enable == True:\n",
    "    xgb_best = XGBClassifier(max_depth=xgb_best_max_depth,\n",
    "                             n_estimators=xgb_best_n_estimators, random_state=rand_state,\n",
    "                             n_jobs=number_of_jobs, learning_rate = xgb_best_learning_rate)\n",
    "    xgb_best.fit(X_train, y_train)\n",
    "    xgb_best_predict = xgb_best.predict(X_test)"
   ]
  },
  {
   "cell_type": "code",
   "execution_count": 131,
   "metadata": {},
   "outputs": [
    {
     "name": "stdout",
     "output_type": "stream",
     "text": [
      "Accuracy with XG Boost after Hyper Parameter Tuning: 0.9002622122948432\n"
     ]
    }
   ],
   "source": [
    "if grid_search_enable == True:\n",
    "    print(\"Accuracy with XG Boost after Hyper Parameter Tuning\", end=': ')\n",
    "    xgb_best_hyper_accuracy = accuracy_score(y_test, xgb_best_predict)\n",
    "    print(xgb_best_hyper_accuracy)"
   ]
  },
  {
   "cell_type": "markdown",
   "metadata": {},
   "source": [
    "## Accuracy Summary With Boosting"
   ]
  },
  {
   "cell_type": "code",
   "execution_count": 132,
   "metadata": {},
   "outputs": [
    {
     "name": "stdout",
     "output_type": "stream",
     "text": [
      "Accuracy with Logistic Regression: 0.8948237350684666\n",
      "Accuracy with Decision Tree: 0.8562688161600466\n",
      "Accuracy with Decision Tree after Hyper Parameter Tuning: :0.8989997086530057\n",
      "Accuracy with Random Forest: 0.8895794891716033\n",
      "Accuracy with Random Forest after Hyper Parameter Tuning: 0.899970865300573\n",
      "Accuracy with Ada Boost: 0.8896766048363601\n",
      "Accuracy with Ada Boost after Hyper Parameter Tuning: 0.89501796639798\n",
      "Accuracy with Gradient Boost: 0.8978343206759251\n",
      "Accuracy with Gradient Boost after Hyper Parameter Tuning: 0.8989997086530057\n",
      "Accuracy with XG Boost: 0.897154511022628\n",
      "Accuracy with XG Boost after Hyper Parameter Tuning: 0.9002622122948432\n"
     ]
    }
   ],
   "source": [
    "print(\"Accuracy with Logistic Regression\", end=': ')\n",
    "print(logit_accuracy)\n",
    "\n",
    "print(\"Accuracy with Decision Tree\", end=': ')\n",
    "print(dt_accuracy)\n",
    "print(\"Accuracy with Decision Tree after Hyper Parameter Tuning: \", end = ':')\n",
    "print(dt_best_param_score)\n",
    "\n",
    "print(\"Accuracy with Random Forest\", end=': ')\n",
    "print(rf_accuracy)\n",
    "if grid_search_enable == True:\n",
    "    print(\"Accuracy with Random Forest after Hyper Parameter Tuning\", end=': ')\n",
    "    print(rf_hyper_accuracy)\n",
    "\n",
    "print(\"Accuracy with Ada Boost\", end=': ')\n",
    "print(ada_boost_accuracy)\n",
    "if grid_search_enable == True:\n",
    "    print(\"Accuracy with Ada Boost after Hyper Parameter Tuning\", end=': ')\n",
    "    print(ada_best_hyper_accuracy)\n",
    "\n",
    "print(\"Accuracy with Gradient Boost\", end=': ')\n",
    "print(gbc_accuracy)\n",
    "if grid_search_enable == True:\n",
    "    print(\"Accuracy with Gradient Boost after Hyper Parameter Tuning\", end=': ')\n",
    "    print(gbc_best_hyper_accuracy)\n",
    "    \n",
    "print(\"Accuracy with XG Boost\", end=': ')\n",
    "print(xgb_accuracy)\n",
    "if grid_search_enable == True:\n",
    "    print(\"Accuracy with XG Boost after Hyper Parameter Tuning\", end=': ')\n",
    "    print(xgb_best_hyper_accuracy)"
   ]
  },
  {
   "cell_type": "code",
   "execution_count": null,
   "metadata": {},
   "outputs": [],
   "source": []
  }
 ],
 "metadata": {
  "kernelspec": {
   "display_name": "Python 3",
   "language": "python",
   "name": "python3"
  },
  "language_info": {
   "codemirror_mode": {
    "name": "ipython",
    "version": 3
   },
   "file_extension": ".py",
   "mimetype": "text/x-python",
   "name": "python",
   "nbconvert_exporter": "python",
   "pygments_lexer": "ipython3",
   "version": "3.7.6"
  }
 },
 "nbformat": 4,
 "nbformat_minor": 4
}
