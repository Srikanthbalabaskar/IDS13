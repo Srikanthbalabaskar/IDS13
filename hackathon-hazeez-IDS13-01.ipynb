{
 "cells": [
  {
   "cell_type": "code",
   "execution_count": null,
   "metadata": {},
   "outputs": [],
   "source": [
    "'''\n",
    "title: Hackathon\n",
    "author: hazeez\n",
    "date: May 03, 2020\n",
    "objective: to read the provided `company.csv` file and to do data pre-processing and visualization to come up with\n",
    "interesting insights\n",
    "'''"
   ]
  },
  {
   "cell_type": "markdown",
   "metadata": {},
   "source": [
    "# Hackathon"
   ]
  },
  {
   "cell_type": "markdown",
   "metadata": {},
   "source": [
    "## Description of the dataset"
   ]
  },
  {
   "cell_type": "markdown",
   "metadata": {},
   "source": [
    "The dataset has the employee and the company information - across age, place, country and gender. The data is unclean."
   ]
  },
  {
   "cell_type": "markdown",
   "metadata": {},
   "source": [
    "## Approach"
   ]
  },
  {
   "cell_type": "markdown",
   "metadata": {},
   "source": [
    "> The approach\n",
    "- Step1 : Data cleaning\n",
    "- Step2 : Feature extraction\n",
    "- Step3 : Visualization\n",
    "- Step4 : Summary"
   ]
  },
  {
   "cell_type": "markdown",
   "metadata": {},
   "source": [
    "## Step1: Data cleaning"
   ]
  },
  {
   "cell_type": "code",
   "execution_count": 104,
   "metadata": {},
   "outputs": [],
   "source": [
    "# import the necessary libraries\n",
    "import pandas as pd\n",
    "import numpy as np\n",
    "import matplotlib.pyplot as plt\n",
    "%matplotlib inline\n",
    "import seaborn as sns\n",
    "from sklearn.impute import SimpleImputer as si"
   ]
  },
  {
   "cell_type": "code",
   "execution_count": 105,
   "metadata": {},
   "outputs": [],
   "source": [
    "# set default options\n",
    "pd.set_option(\"display.max.columns\", None)\n",
    "pd.set_option(\"display.precision\",0)"
   ]
  },
  {
   "cell_type": "code",
   "execution_count": 106,
   "metadata": {},
   "outputs": [],
   "source": [
    "# setting the color palette\n",
    "flatui = [\"#9b59b6\", \"#2ecc71\", '#EA6A47','#1C4E80', '#0091D5','#B3C100', '#4CB5F5', '#1F3F49', '#D32D41', '#6AB187', '#23282D','#A5D8DD','#7E909A']"
   ]
  },
  {
   "cell_type": "code",
   "execution_count": 136,
   "metadata": {},
   "outputs": [
    {
     "name": "stdout",
     "output_type": "stream",
     "text": [
      "   Company  Age  Salary     Place Country  Gender\n",
      "0      TCS   20     NaN   Chennai   India       0\n",
      "1  Infosys   30     NaN    Mumbai   India       0\n",
      "2      TCS   35      23  Calcutta   India       0\n",
      "3  Infosys   40      30     Delhi   India       0\n",
      "4      TCS   23      40    Mumbai   India       0\n",
      "(148, 6)\n"
     ]
    }
   ],
   "source": [
    "cpy = pd.read_csv('Company.csv')\n",
    "print(cpy.head())\n",
    "print(cpy.shape)"
   ]
  },
  {
   "cell_type": "markdown",
   "metadata": {},
   "source": [
    "### Cleaning up redundant values"
   ]
  },
  {
   "cell_type": "code",
   "execution_count": 137,
   "metadata": {},
   "outputs": [
    {
     "data": {
      "text/plain": [
       "Company     8\n",
       "Age        18\n",
       "Salary     24\n",
       "Place      14\n",
       "Country     0\n",
       "Gender      0\n",
       "dtype: int64"
      ]
     },
     "execution_count": 137,
     "metadata": {},
     "output_type": "execute_result"
    }
   ],
   "source": [
    "cpy.isna().sum()"
   ]
  },
  {
   "cell_type": "code",
   "execution_count": 138,
   "metadata": {},
   "outputs": [
    {
     "data": {
      "text/plain": [
       "TCS                          53\n",
       "Infosys                      45\n",
       "CTS                          36\n",
       "Congnizant                    2\n",
       "Tata Consultancy Services     2\n",
       "Infosys Pvt Lmt               2\n",
       "Name: Company, dtype: int64"
      ]
     },
     "execution_count": 138,
     "metadata": {},
     "output_type": "execute_result"
    }
   ],
   "source": [
    "cpy['Company'].value_counts()"
   ]
  },
  {
   "cell_type": "code",
   "execution_count": 139,
   "metadata": {},
   "outputs": [],
   "source": [
    "infy = cpy['Company'].str.contains('Infosys Pvt Lmt')\n",
    "tcs = cpy['Company'].str.contains('Tata Consultancy')\n",
    "cog = cpy['Company'].str.contains('Congnizant')\n",
    "cpy['Company'] = np.where(infy, 'Infosys', cpy['Company'])\n",
    "cpy['Company'] = np.where(tcs, 'TCS', cpy['Company'])\n",
    "cpy['Company'] = np.where(cog, 'CTS', cpy['Company'])"
   ]
  },
  {
   "cell_type": "code",
   "execution_count": 140,
   "metadata": {},
   "outputs": [
    {
     "data": {
      "text/html": [
       "<div>\n",
       "<style scoped>\n",
       "    .dataframe tbody tr th:only-of-type {\n",
       "        vertical-align: middle;\n",
       "    }\n",
       "\n",
       "    .dataframe tbody tr th {\n",
       "        vertical-align: top;\n",
       "    }\n",
       "\n",
       "    .dataframe thead th {\n",
       "        text-align: right;\n",
       "    }\n",
       "</style>\n",
       "<table border=\"1\" class=\"dataframe\">\n",
       "  <thead>\n",
       "    <tr style=\"text-align: right;\">\n",
       "      <th></th>\n",
       "      <th>Company</th>\n",
       "      <th>Age</th>\n",
       "      <th>Salary</th>\n",
       "      <th>Place</th>\n",
       "      <th>Country</th>\n",
       "      <th>Gender</th>\n",
       "    </tr>\n",
       "  </thead>\n",
       "  <tbody>\n",
       "    <tr>\n",
       "      <th>88</th>\n",
       "      <td>Infosys</td>\n",
       "      <td></td>\n",
       "      <td>3030</td>\n",
       "      <td>Calcutta</td>\n",
       "      <td>India</td>\n",
       "      <td>0</td>\n",
       "    </tr>\n",
       "    <tr>\n",
       "      <th>92</th>\n",
       "      <td>TCS</td>\n",
       "      <td></td>\n",
       "      <td>3045</td>\n",
       "      <td>Delhi</td>\n",
       "      <td>India</td>\n",
       "      <td>0</td>\n",
       "    </tr>\n",
       "    <tr>\n",
       "      <th>101</th>\n",
       "      <td>CTS</td>\n",
       "      <td></td>\n",
       "      <td>2034</td>\n",
       "      <td>Podicherry</td>\n",
       "      <td>India</td>\n",
       "      <td>0</td>\n",
       "    </tr>\n",
       "    <tr>\n",
       "      <th>107</th>\n",
       "      <td>TCS</td>\n",
       "      <td></td>\n",
       "      <td>9024</td>\n",
       "      <td>Chennai</td>\n",
       "      <td>India</td>\n",
       "      <td>1</td>\n",
       "    </tr>\n",
       "    <tr>\n",
       "      <th>111</th>\n",
       "      <td>Infosys</td>\n",
       "      <td></td>\n",
       "      <td>3234</td>\n",
       "      <td>Mumbai</td>\n",
       "      <td>India</td>\n",
       "      <td>0</td>\n",
       "    </tr>\n",
       "    <tr>\n",
       "      <th>121</th>\n",
       "      <td>CTS</td>\n",
       "      <td></td>\n",
       "      <td>1234</td>\n",
       "      <td>Calcutta</td>\n",
       "      <td>India</td>\n",
       "      <td>0</td>\n",
       "    </tr>\n",
       "  </tbody>\n",
       "</table>\n",
       "</div>"
      ],
      "text/plain": [
       "     Company  Age  Salary       Place Country  Gender\n",
       "88   Infosys         3030    Calcutta   India       0\n",
       "92       TCS         3045       Delhi   India       0\n",
       "101      CTS         2034  Podicherry   India       0\n",
       "107      TCS         9024     Chennai   India       1\n",
       "111  Infosys         3234      Mumbai   India       0\n",
       "121      CTS         1234    Calcutta   India       0"
      ]
     },
     "execution_count": 140,
     "metadata": {},
     "output_type": "execute_result"
    }
   ],
   "source": [
    "cpy[cpy['Age'] == 0]"
   ]
  },
  {
   "cell_type": "code",
   "execution_count": 141,
   "metadata": {},
   "outputs": [
    {
     "data": {
      "text/plain": [
       "(142, 6)"
      ]
     },
     "execution_count": 141,
     "metadata": {},
     "output_type": "execute_result"
    }
   ],
   "source": [
    "# delete all rows where age is 0\n",
    "cpy.drop(cpy[cpy['Age'] == 0].index, inplace = True)\n",
    "cpy.shape"
   ]
  },
  {
   "cell_type": "code",
   "execution_count": 152,
   "metadata": {},
   "outputs": [],
   "source": [
    "# delete rows here place is null\n",
    "cpy_master =  cpy.copy()"
   ]
  },
  {
   "cell_type": "code",
   "execution_count": 150,
   "metadata": {},
   "outputs": [],
   "source": [
    "# fill age NA values with mean\n",
    "\n",
    "cpy['Age'] = cpy['Age'].fillna(cpy['Age'].mean())\n",
    "cpy['Salary'] = cpy['Salary'].fillna(cpy['Salary'].mean())"
   ]
  },
  {
   "cell_type": "code",
   "execution_count": 151,
   "metadata": {},
   "outputs": [
    {
     "name": "stdout",
     "output_type": "stream",
     "text": [
      "<class 'pandas.core.frame.DataFrame'>\n",
      "Int64Index: 142 entries, 0 to 147\n",
      "Data columns (total 6 columns):\n",
      " #   Column   Non-Null Count  Dtype  \n",
      "---  ------   --------------  -----  \n",
      " 0   Company  142 non-null    object \n",
      " 1   Age      142 non-null    float64\n",
      " 2   Salary   142 non-null    float64\n",
      " 3   Place    128 non-null    object \n",
      " 4   Country  142 non-null    object \n",
      " 5   Gender   142 non-null    int64  \n",
      "dtypes: float64(2), int64(1), object(3)\n",
      "memory usage: 7.8+ KB\n"
     ]
    }
   ],
   "source": [
    "cpy.info()"
   ]
  },
  {
   "cell_type": "code",
   "execution_count": 157,
   "metadata": {},
   "outputs": [],
   "source": [
    "# drop na values in place column\n",
    "cpy = cpy.dropna()"
   ]
  },
  {
   "cell_type": "code",
   "execution_count": 159,
   "metadata": {},
   "outputs": [],
   "source": [
    "# change datatypes of salary and age\n",
    "cpy['Age'] = cpy['Age'].astype('int64')\n",
    "cpy['Salary'] = cpy['Salary'].astype('int64')"
   ]
  },
  {
   "cell_type": "code",
   "execution_count": 168,
   "metadata": {},
   "outputs": [],
   "source": [
    "# change company, place, country to categorical data\n",
    "\n",
    "cpy[\"Company\"] = pd.Categorical(cpy['Company'])\n",
    "cpy[\"Place\"] = pd.Categorical(cpy['Place'])\n",
    "cpy[\"Country\"] = pd.Categorical(cpy['Country'])"
   ]
  },
  {
   "cell_type": "code",
   "execution_count": 169,
   "metadata": {},
   "outputs": [
    {
     "name": "stdout",
     "output_type": "stream",
     "text": [
      "<class 'pandas.core.frame.DataFrame'>\n",
      "Int64Index: 128 entries, 0 to 147\n",
      "Data columns (total 6 columns):\n",
      " #   Column   Non-Null Count  Dtype   \n",
      "---  ------   --------------  -----   \n",
      " 0   Company  128 non-null    category\n",
      " 1   Age      128 non-null    int64   \n",
      " 2   Salary   128 non-null    int64   \n",
      " 3   Place    128 non-null    category\n",
      " 4   Country  128 non-null    category\n",
      " 5   Gender   128 non-null    int64   \n",
      "dtypes: category(3), int64(3)\n",
      "memory usage: 5.0 KB\n"
     ]
    }
   ],
   "source": []
  },
  {
   "cell_type": "markdown",
   "metadata": {},
   "source": [
    "### Step 2: Feature Engineering"
   ]
  },
  {
   "cell_type": "code",
   "execution_count": 174,
   "metadata": {},
   "outputs": [
    {
     "data": {
      "text/plain": [
       "Int64Index([17, 18, 19, 20, 21, 22, 23, 24, 25, 26, 30, 31, 32, 33, 34, 35, 36,\n",
       "            37, 38, 40, 41, 43, 44, 45, 46, 50, 51, 54],\n",
       "           dtype='int64')"
      ]
     },
     "execution_count": 174,
     "metadata": {},
     "output_type": "execute_result"
    }
   ],
   "source": [
    "cpy['Age'].value_counts().keys().sort_values()"
   ]
  },
  {
   "cell_type": "code",
   "execution_count": 177,
   "metadata": {},
   "outputs": [
    {
     "data": {
      "text/plain": [
       "Int64Index([1089, 1234, 2034, 2300, 2934, 3000, 3030, 3033, 3045, 3184, 3234,\n",
       "            3454, 4000, 4034, 4324, 4345, 4824, 5000, 5034, 5098, 5399, 5435,\n",
       "            5555, 5835, 6000, 6543, 6544, 7000, 7084, 7654, 8000, 8202, 8345,\n",
       "            8787, 8943, 9000, 9024, 9284, 9876],\n",
       "           dtype='int64')"
      ]
     },
     "execution_count": 177,
     "metadata": {},
     "output_type": "execute_result"
    }
   ],
   "source": [
    "cpy['Salary'].value_counts().keys().sort_values()"
   ]
  },
  {
   "cell_type": "code",
   "execution_count": 185,
   "metadata": {},
   "outputs": [],
   "source": [
    "# Divide the age into age groups\n",
    "\n",
    "def age_groups(x):\n",
    "    if x <= 20:\n",
    "        return '<20'\n",
    "    elif x > 20 and x <= 30:\n",
    "        return '20 to 30'\n",
    "    elif x > 30 and x <= 40:`\n",
    "        return '30 to 40'\n",
    "    else:\n",
    "        return '>40'"
   ]
  },
  {
   "cell_type": "code",
   "execution_count": 186,
   "metadata": {},
   "outputs": [],
   "source": [
    "cpy['Age Group'] = cpy['Age'].apply(age_groups)"
   ]
  },
  {
   "cell_type": "code",
   "execution_count": 200,
   "metadata": {},
   "outputs": [],
   "source": [
    "# Divide the place into \"North India and South India\"\n",
    "\n",
    "def north_south(x):\n",
    "    north_india = ['Mumbai','Calcutta','Delhi','Noida','Bhopal','Nagpur','Pune']\n",
    "    south_inda = ['Chennai','Podicherry','Cochin','Hyderabad']\n",
    "    if x in north_india:\n",
    "        return 'North India'\n",
    "    else:\n",
    "        return 'South India'"
   ]
  },
  {
   "cell_type": "code",
   "execution_count": 198,
   "metadata": {},
   "outputs": [],
   "source": [
    "cpy['North or South'] = cpy['Place'].apply(north_south)"
   ]
  },
  {
   "cell_type": "code",
   "execution_count": 189,
   "metadata": {},
   "outputs": [],
   "source": [
    "# Divide the salary into salary groups\n",
    "\n",
    "def salary_groups(x):\n",
    "    if x <= 3000:\n",
    "        return '<3000'\n",
    "    elif x > 3000 and x <= 6000:\n",
    "        return '3000 to 6000'\n",
    "    else:\n",
    "        return '>6000'"
   ]
  },
  {
   "cell_type": "code",
   "execution_count": 190,
   "metadata": {},
   "outputs": [],
   "source": [
    "cpy['Salary Group'] = cpy['Salary'].apply(salary_groups)"
   ]
  },
  {
   "cell_type": "code",
   "execution_count": 203,
   "metadata": {},
   "outputs": [],
   "source": [
    "# Gender into a Male or Female\n",
    "\n",
    "def gender_groups(x):\n",
    "    if x == 0:\n",
    "        return 'Female'\n",
    "    else:\n",
    "        return 'Male'"
   ]
  },
  {
   "cell_type": "code",
   "execution_count": 204,
   "metadata": {},
   "outputs": [],
   "source": [
    "cpy['Gender Group'] = cpy['Gender'].apply(gender_groups)"
   ]
  },
  {
   "cell_type": "markdown",
   "metadata": {},
   "source": [
    "### Step 3: Analysis and Visualizations"
   ]
  },
  {
   "cell_type": "code",
   "execution_count": 309,
   "metadata": {},
   "outputs": [],
   "source": [
    "# The following are the questions that we would answer in the data analysis\n",
    "\n",
    "# top paid employer\n",
    "# employer with most employees\n",
    "# age group by company\n",
    "# age group by salary\n",
    "# salary distribution by gender - any discrimination\n",
    "# age distribution by gender\n",
    "# employees by north or south\n",
    "# salary by north or south - who is paid more?"
   ]
  },
  {
   "cell_type": "code",
   "execution_count": 305,
   "metadata": {},
   "outputs": [
    {
     "name": "stdout",
     "output_type": "stream",
     "text": [
      "***TCS is the highest salary payer***\n",
      "\n",
      "\n",
      "         Salary\n",
      "Company        \n",
      "CTS        4836\n",
      "Infosys    5342\n",
      "TCS        5377\n"
     ]
    }
   ],
   "source": [
    "# top paid employer with mean salary\n",
    "\n",
    "top_salary_payers = cpy[['Company', 'Salary']].groupby('Company').mean()\n",
    "print(\"***TCS is the highest salary payer***\")\n",
    "print(\"\\n\")\n",
    "print(top_salary_payers)"
   ]
  },
  {
   "cell_type": "code",
   "execution_count": 306,
   "metadata": {},
   "outputs": [
    {
     "name": "stdout",
     "output_type": "stream",
     "text": [
      "***TCS employs the most number of employees***\n",
      "\n",
      "\n",
      "TCS        46\n",
      "Infosys    42\n",
      "CTS        40\n",
      "Name: Company, dtype: int64\n"
     ]
    }
   ],
   "source": [
    "# employer with most employees\n",
    "\n",
    "employers_with_most_employees = cpy['Company'].value_counts()\n",
    "print(\"***TCS employs the most number of employees***\")\n",
    "print(\"\\n\")\n",
    "print(employers_with_most_employees)"
   ]
  },
  {
   "cell_type": "code",
   "execution_count": 243,
   "metadata": {},
   "outputs": [],
   "source": [
    "# age group by company\n",
    "age_by_cpy = cpy[['Company', 'Age Group']].groupby('Age Group').count()\n",
    "\n",
    "# age group by salary\n",
    "age_by_salary = cpy[['Salary', 'Age Group']].groupby('Age Group').mean()"
   ]
  },
  {
   "cell_type": "code",
   "execution_count": 253,
   "metadata": {},
   "outputs": [
    {
     "data": {
      "image/png": "[encoded data removed]",
      "text/plain": [
       "<Figure size 432x288 with 1 Axes>"
      ]
     },
     "metadata": {},
     "output_type": "display_data"
    }
   ],
   "source": [
    "sns.set_style('darkgrid')\n",
    "sns.barplot(x=age_by_cpy.index, y='Company', data=age_by_cpy, palette=flatui)\n",
    "plt.title('Employees in age group 30 to 40 are more across companies')\n",
    "plt.show()"
   ]
  },
  {
   "cell_type": "code",
   "execution_count": 274,
   "metadata": {},
   "outputs": [
    {
     "data": {
      "image/png": "[encoded data removed]",
      "text/plain": [
       "<Figure size 432x288 with 1 Axes>"
      ]
     },
     "metadata": {},
     "output_type": "display_data"
    }
   ],
   "source": [
    "sns.set_style('darkgrid')\n",
    "sns.barplot(x=age_by_salary.index, y='Salary', data=age_by_salary, palette=flatui)\n",
    "plt.title('Employees in age group 20 to 40 take more salary')\n",
    "plt.show()"
   ]
  },
  {
   "cell_type": "code",
   "execution_count": 297,
   "metadata": {},
   "outputs": [
    {
     "data": {
      "image/png": "[encoded data removed]",
      "text/plain": [
       "<Figure size 432x288 with 1 Axes>"
      ]
     },
     "metadata": {},
     "output_type": "display_data"
    }
   ],
   "source": [
    "# Salary distribution by gender\n",
    "\n",
    "gender_salary = cpy[['Salary', 'Gender Group']].groupby('Gender Group').mean()\n",
    "sns.barplot(x=gender_salary.index, y='Salary', data=gender_salary, palette=flatui, hue='Salary')\n",
    "plt.title('Males take almost 140% more salary than Females')\n",
    "plt.show()"
   ]
  },
  {
   "cell_type": "code",
   "execution_count": 278,
   "metadata": {},
   "outputs": [
    {
     "data": {
      "image/png": "[encoded data removed]",
      "text/plain": [
       "<Figure size 432x288 with 1 Axes>"
      ]
     },
     "metadata": {},
     "output_type": "display_data"
    }
   ],
   "source": [
    "# count of employees by Gender\n",
    "\n",
    "count_gender = cpy[['Company', 'Gender Group']].groupby('Gender Group').count()\n",
    "sns.barplot(x=count_gender.index, y='Company', data=count_gender, palette=flatui)\n",
    "plt.title('Female employees are 5 times more than Male employees')\n",
    "plt.show()"
   ]
  },
  {
   "cell_type": "code",
   "execution_count": 286,
   "metadata": {},
   "outputs": [
    {
     "data": {
      "image/png": "[encoded data removed]",
      "text/plain": [
       "<Figure size 432x288 with 1 Axes>"
      ]
     },
     "metadata": {},
     "output_type": "display_data"
    }
   ],
   "source": [
    "# age distribution by gender\n",
    "\n",
    "gender_age = cpy[['Age', 'Gender Group']].groupby('Gender Group').mean()\n",
    "sns.barplot(x=gender_age.index, y='Age', data=gender_age, palette=flatui)\n",
    "plt.title('Mean age of Male and Females are both the same')\n",
    "plt.show()"
   ]
  },
  {
   "cell_type": "code",
   "execution_count": 296,
   "metadata": {},
   "outputs": [
    {
     "data": {
      "image/png": "[encoded data removed]",
      "text/plain": [
       "<Figure size 432x288 with 1 Axes>"
      ]
     },
     "metadata": {},
     "output_type": "display_data"
    }
   ],
   "source": [
    "emp_north_salary = cpy[['North or South', 'Salary Group', 'Gender Group', 'Salary']]\n",
    "sns.scatterplot(x='North or South', y='Salary Group', data=emp_north_salary, hue='Gender Group', size='Salary', palette=sns.color_palette(flatui, n_colors=2))\n",
    "plt.title('Males in North India and Females in South India take higher salaries')\n",
    "plt.show()"
   ]
  },
  {
   "cell_type": "code",
   "execution_count": 304,
   "metadata": {},
   "outputs": [
    {
     "data": {
      "image/png": "[encoded data removed]",
      "text/plain": [
       "<Figure size 432x288 with 1 Axes>"
      ]
     },
     "metadata": {},
     "output_type": "display_data"
    }
   ],
   "source": [
    "emp_north_south = cpy[['North or South', 'Salary']].groupby('North or South').mean()\n",
    "sns.barplot(emp_north_south.index, y='Salary', data=emp_north_south, palette=flatui)\n",
    "plt.title('South Indians are taking slightly more salary than North Indians')\n",
    "plt.show()"
   ]
  },
  {
   "cell_type": "markdown",
   "metadata": {},
   "source": [
    "## Conclusion"
   ]
  },
  {
   "cell_type": "markdown",
   "metadata": {},
   "source": [
    "The dataset had information about the company and the employees. The dataset was unclean and the data cleaning steps were carried out. Additional columns were inserted to the data to provide more meaningful insights. \n",
    "\n",
    "Graphs were added to bring more clarity to the data.\n",
    "\n",
    "> Key observations:\n",
    "-  TCS is the highest salary payer\n",
    "- TCS employs the most number of employees\n",
    "- Employees in age group 30 to 40 are more across companies\n",
    "- Employees in age group 20 to 40 take more salary\n",
    "- Males take almost 140% more salary than Females\n",
    "- Female employees are 5 times more than Male employees\n",
    "- Mean age of Male and Females are both the same\n",
    "- Males in North India and Females in South India take higher salaries\n",
    "- South Indians are taking slightly more salary than North Indians"
   ]
  }
 ],
 "metadata": {
  "kernelspec": {
   "display_name": "Python 3",
   "language": "python",
   "name": "python3"
  },
  "language_info": {
   "codemirror_mode": {
    "name": "ipython",
    "version": 3
   },
   "file_extension": ".py",
   "mimetype": "text/x-python",
   "name": "python",
   "nbconvert_exporter": "python",
   "pygments_lexer": "ipython3",
   "version": "3.7.6"
  }
 },
 "nbformat": 4,
 "nbformat_minor": 4
}
