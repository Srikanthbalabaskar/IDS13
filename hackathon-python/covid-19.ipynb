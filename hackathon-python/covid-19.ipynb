{
 "cells": [
  {
   "cell_type": "code",
   "execution_count": 1,
   "metadata": {},
   "outputs": [],
   "source": [
    "'''\n",
    "title: Hackathon\n",
    "author: hazeez\n",
    "date: May 03, 2020\n",
    "objective: to read the provided `covid-19-cases.csv` file and to do data pre-processing and visualization to come up with\n",
    "interesting insights\n",
    "'''"
   ]
  },
  {
   "cell_type": "markdown",
   "metadata": {},
   "source": [
    "# Hackathon"
   ]
  },
  {
   "cell_type": "markdown",
   "metadata": {},
   "source": [
    "## Description of the dataset\n",
    "\n",
    "The dataset contains confirmed and deaths information of covid-19 infected people across countries.\n",
    "\n",
    "## Approach\n",
    "\n",
    "> The approach\n",
    "- Step1 : Data cleaning\n",
    "- Step2 : Feature extraction\n",
    "- Step3 : Visualization\n",
    "- Step4 : Summary"
   ]
  },
  {
   "cell_type": "markdown",
   "metadata": {},
   "source": [
    "### Step 1: Data Cleaning"
   ]
  },
  {
   "cell_type": "code",
   "execution_count": 2,
   "metadata": {},
   "outputs": [],
   "source": [
    "# import the necessary libraries\n",
    "import pandas as pd\n",
    "import numpy as np\n",
    "import matplotlib.pyplot as plt\n",
    "%matplotlib inline\n",
    "import seaborn as sns"
   ]
  },
  {
   "cell_type": "code",
   "execution_count": 3,
   "metadata": {},
   "outputs": [],
   "source": [
    "# set default options\n",
    "pd.set_option(\"display.max.columns\", None)\n",
    "pd.set_option(\"display.precision\",0)"
   ]
  },
  {
   "cell_type": "code",
   "execution_count": 4,
   "metadata": {},
   "outputs": [],
   "source": [
    "# set color palette\n",
    "flatui = [\"#9b59b6\", \"#2ecc71\", '#EA6A47','#1C4E80', '#0091D5','#B3C100', '#4CB5F5', '#1F3F49', '#D32D41', '#6AB187', '#23282D','#A5D8DD','#7E909A']"
   ]
  },
  {
   "cell_type": "code",
   "execution_count": 5,
   "metadata": {},
   "outputs": [
    {
     "name": "stderr",
     "output_type": "stream",
     "text": [
      "C:\\Users\\HAZEEZ\\anaconda3\\lib\\site-packages\\IPython\\core\\interactiveshell.py:3063: DtypeWarning: Columns (8) have mixed types.Specify dtype option on import or set low_memory=False.\n",
      "  interactivity=interactivity, compiler=compiler, result=result)\n"
     ]
    }
   ],
   "source": [
    "# read the dataset\n",
    "\n",
    "covid = pd.read_csv('COVID-19-Cases.csv')"
   ]
  },
  {
   "cell_type": "code",
   "execution_count": 6,
   "metadata": {},
   "outputs": [
    {
     "name": "stdout",
     "output_type": "stream",
     "text": [
      "<class 'pandas.core.frame.DataFrame'>\n",
      "RangeIndex: 718080 entries, 0 to 718079\n",
      "Data columns (total 18 columns):\n",
      " #   Column                                Non-Null Count   Dtype  \n",
      "---  ------                                --------------   -----  \n",
      " 0   Case_Type                             718080 non-null  object \n",
      " 1   People_Total_Tested_Count             2352 non-null    float64\n",
      " 2   Cases                                 718080 non-null  int64  \n",
      " 3   Difference                            718080 non-null  int64  \n",
      " 4   Date                                  718080 non-null  object \n",
      " 5   Combined_Key                          718080 non-null  object \n",
      " 6   Country_Region                        718080 non-null  object \n",
      " 7   Province_State                        680952 non-null  object \n",
      " 8   Admin2                                663816 non-null  object \n",
      " 9   iso2                                  717672 non-null  object \n",
      " 10  iso3                                  717876 non-null  object \n",
      " 11  FIPS                                  641988 non-null  float64\n",
      " 12  Lat                                   696660 non-null  float64\n",
      " 13  Long                                  696660 non-null  float64\n",
      " 14  Population_Count                      696660 non-null  float64\n",
      " 15  People_Hospitalized_Cumulative_Count  2352 non-null    float64\n",
      " 16  Data_Source                           718080 non-null  object \n",
      " 17  Prep_Flow_Runtime                     718080 non-null  object \n",
      "dtypes: float64(6), int64(2), object(10)\n",
      "memory usage: 98.6+ MB\n"
     ]
    }
   ],
   "source": [
    "covid.info()\n",
    "# The memory used is 98 MB"
   ]
  },
  {
   "cell_type": "code",
   "execution_count": 7,
   "metadata": {},
   "outputs": [
    {
     "data": {
      "text/plain": [
       "Index(['Case_Type', 'People_Total_Tested_Count', 'Cases', 'Difference', 'Date',\n",
       "       'Combined_Key', 'Country_Region', 'Province_State', 'Admin2', 'iso2',\n",
       "       'iso3', 'FIPS', 'Lat', 'Long', 'Population_Count',\n",
       "       'People_Hospitalized_Cumulative_Count', 'Data_Source',\n",
       "       'Prep_Flow_Runtime'],\n",
       "      dtype='object')"
      ]
     },
     "execution_count": 7,
     "metadata": {},
     "output_type": "execute_result"
    }
   ],
   "source": [
    "covid.columns"
   ]
  },
  {
   "cell_type": "code",
   "execution_count": 8,
   "metadata": {},
   "outputs": [],
   "source": [
    "#  drop unnecessary columns to reduce csv file memory\n",
    "dropped_cols = ['People_Total_Tested_Count','Difference',\n",
    "       'Combined_Key', 'Admin2', 'FIPS',\n",
    "       'People_Hospitalized_Cumulative_Count', 'Data_Source',\n",
    "       'Prep_Flow_Runtime']\n",
    "covid.drop(columns = dropped_cols , inplace=True, axis=1)"
   ]
  },
  {
   "cell_type": "code",
   "execution_count": 9,
   "metadata": {},
   "outputs": [
    {
     "name": "stdout",
     "output_type": "stream",
     "text": [
      "<class 'pandas.core.frame.DataFrame'>\n",
      "RangeIndex: 718080 entries, 0 to 718079\n",
      "Data columns (total 10 columns):\n",
      " #   Column            Non-Null Count   Dtype  \n",
      "---  ------            --------------   -----  \n",
      " 0   Case_Type         718080 non-null  object \n",
      " 1   Cases             718080 non-null  int64  \n",
      " 2   Date              718080 non-null  object \n",
      " 3   Country_Region    718080 non-null  object \n",
      " 4   Province_State    680952 non-null  object \n",
      " 5   iso2              717672 non-null  object \n",
      " 6   iso3              717876 non-null  object \n",
      " 7   Lat               696660 non-null  float64\n",
      " 8   Long              696660 non-null  float64\n",
      " 9   Population_Count  696660 non-null  float64\n",
      "dtypes: float64(3), int64(1), object(6)\n",
      "memory usage: 54.8+ MB\n"
     ]
    }
   ],
   "source": [
    "covid.info()\n",
    "# The memory has been reduced to 49 MB"
   ]
  },
  {
   "cell_type": "code",
   "execution_count": 10,
   "metadata": {},
   "outputs": [
    {
     "data": {
      "text/plain": [
       "(718080, 10)"
      ]
     },
     "execution_count": 10,
     "metadata": {},
     "output_type": "execute_result"
    }
   ],
   "source": [
    "covid.shape\n",
    "# Total number of rows is around 718080"
   ]
  },
  {
   "cell_type": "code",
   "execution_count": 11,
   "metadata": {},
   "outputs": [
    {
     "data": {
      "text/html": [
       "<div>\n",
       "<style scoped>\n",
       "    .dataframe tbody tr th:only-of-type {\n",
       "        vertical-align: middle;\n",
       "    }\n",
       "\n",
       "    .dataframe tbody tr th {\n",
       "        vertical-align: top;\n",
       "    }\n",
       "\n",
       "    .dataframe thead th {\n",
       "        text-align: right;\n",
       "    }\n",
       "</style>\n",
       "<table border=\"1\" class=\"dataframe\">\n",
       "  <thead>\n",
       "    <tr style=\"text-align: right;\">\n",
       "      <th></th>\n",
       "      <th>Case_Type</th>\n",
       "      <th>Cases</th>\n",
       "      <th>Date</th>\n",
       "      <th>Country_Region</th>\n",
       "      <th>Province_State</th>\n",
       "      <th>iso2</th>\n",
       "      <th>iso3</th>\n",
       "      <th>Lat</th>\n",
       "      <th>Long</th>\n",
       "      <th>Population_Count</th>\n",
       "    </tr>\n",
       "  </thead>\n",
       "  <tbody>\n",
       "    <tr>\n",
       "      <th>0</th>\n",
       "      <td>Confirmed</td>\n",
       "      <td>0</td>\n",
       "      <td>2/3/2020</td>\n",
       "      <td>Switzerland</td>\n",
       "      <td>NaN</td>\n",
       "      <td>CH</td>\n",
       "      <td>CHE</td>\n",
       "      <td>47</td>\n",
       "      <td>8</td>\n",
       "      <td>9e+06</td>\n",
       "    </tr>\n",
       "    <tr>\n",
       "      <th>1</th>\n",
       "      <td>Deaths</td>\n",
       "      <td>0</td>\n",
       "      <td>3/1/2020</td>\n",
       "      <td>Cyprus</td>\n",
       "      <td>NaN</td>\n",
       "      <td>CY</td>\n",
       "      <td>CYP</td>\n",
       "      <td>35</td>\n",
       "      <td>33</td>\n",
       "      <td>1e+06</td>\n",
       "    </tr>\n",
       "    <tr>\n",
       "      <th>2</th>\n",
       "      <td>Confirmed</td>\n",
       "      <td>23</td>\n",
       "      <td>4/21/2020</td>\n",
       "      <td>Antigua and Barbuda</td>\n",
       "      <td>NaN</td>\n",
       "      <td>AG</td>\n",
       "      <td>ATG</td>\n",
       "      <td>17</td>\n",
       "      <td>-62</td>\n",
       "      <td>1e+05</td>\n",
       "    </tr>\n",
       "    <tr>\n",
       "      <th>3</th>\n",
       "      <td>Deaths</td>\n",
       "      <td>0</td>\n",
       "      <td>2/11/2020</td>\n",
       "      <td>Jamaica</td>\n",
       "      <td>NaN</td>\n",
       "      <td>JM</td>\n",
       "      <td>JAM</td>\n",
       "      <td>18</td>\n",
       "      <td>-77</td>\n",
       "      <td>3e+06</td>\n",
       "    </tr>\n",
       "    <tr>\n",
       "      <th>4</th>\n",
       "      <td>Confirmed</td>\n",
       "      <td>0</td>\n",
       "      <td>2/6/2020</td>\n",
       "      <td>Belize</td>\n",
       "      <td>NaN</td>\n",
       "      <td>BZ</td>\n",
       "      <td>BLZ</td>\n",
       "      <td>17</td>\n",
       "      <td>-88</td>\n",
       "      <td>4e+05</td>\n",
       "    </tr>\n",
       "  </tbody>\n",
       "</table>\n",
       "</div>"
      ],
      "text/plain": [
       "   Case_Type  Cases       Date       Country_Region Province_State iso2 iso3  \\\n",
       "0  Confirmed      0   2/3/2020          Switzerland            NaN   CH  CHE   \n",
       "1     Deaths      0   3/1/2020               Cyprus            NaN   CY  CYP   \n",
       "2  Confirmed     23  4/21/2020  Antigua and Barbuda            NaN   AG  ATG   \n",
       "3     Deaths      0  2/11/2020              Jamaica            NaN   JM  JAM   \n",
       "4  Confirmed      0   2/6/2020               Belize            NaN   BZ  BLZ   \n",
       "\n",
       "   Lat  Long  Population_Count  \n",
       "0   47     8             9e+06  \n",
       "1   35    33             1e+06  \n",
       "2   17   -62             1e+05  \n",
       "3   18   -77             3e+06  \n",
       "4   17   -88             4e+05  "
      ]
     },
     "execution_count": 11,
     "metadata": {},
     "output_type": "execute_result"
    }
   ],
   "source": [
    "# print the top columns\n",
    "covid.head()"
   ]
  },
  {
   "cell_type": "code",
   "execution_count": 12,
   "metadata": {},
   "outputs": [],
   "source": [
    "# rename col values to lower for easy typing\n",
    "\n",
    "covid.rename(\n",
    "    columns = {\n",
    "        'Case_Type': 'case_type',\n",
    "        'Cases': 'cases',\n",
    "        'Date': 'date',\n",
    "        'Country_Region': 'country',\n",
    "        'Province_State': 'province_state',\n",
    "        'Lat': 'lat',\n",
    "        'Long': 'long',\n",
    "        'Population_Count': 'population'\n",
    "    }, inplace=True\n",
    ")"
   ]
  },
  {
   "cell_type": "code",
   "execution_count": 13,
   "metadata": {},
   "outputs": [
    {
     "data": {
      "text/plain": [
       "Index(['case_type', 'cases', 'date', 'country', 'province_state', 'iso2',\n",
       "       'iso3', 'lat', 'long', 'population'],\n",
       "      dtype='object')"
      ]
     },
     "execution_count": 13,
     "metadata": {},
     "output_type": "execute_result"
    }
   ],
   "source": [
    "# columns after renaming\n",
    "covid.columns"
   ]
  },
  {
   "cell_type": "code",
   "execution_count": 14,
   "metadata": {},
   "outputs": [
    {
     "data": {
      "text/plain": [
       "case_type          object\n",
       "cases               int64\n",
       "date               object\n",
       "country            object\n",
       "province_state     object\n",
       "iso2               object\n",
       "iso3               object\n",
       "lat               float64\n",
       "long              float64\n",
       "population        float64\n",
       "dtype: object"
      ]
     },
     "execution_count": 14,
     "metadata": {},
     "output_type": "execute_result"
    }
   ],
   "source": [
    "# check column dtypes\n",
    "covid.dtypes"
   ]
  },
  {
   "cell_type": "code",
   "execution_count": 15,
   "metadata": {},
   "outputs": [],
   "source": [
    "# change date columns to datetime object\n",
    "covid['date'] = pd.to_datetime(covid['date'])"
   ]
  },
  {
   "cell_type": "code",
   "execution_count": 16,
   "metadata": {},
   "outputs": [
    {
     "data": {
      "text/plain": [
       "US             21216\n",
       "Cruise Ship      204\n",
       "Name: country, dtype: int64"
      ]
     },
     "execution_count": 16,
     "metadata": {},
     "output_type": "execute_result"
    }
   ],
   "source": [
    "# change populate column to integer object\n",
    "# before converting we need to see if there are any NaN values\n",
    "covid[covid['population'].isna()]['country'].value_counts()"
   ]
  },
  {
   "cell_type": "code",
   "execution_count": 17,
   "metadata": {},
   "outputs": [],
   "source": [
    "# drop cruise ship - not needed\n",
    "covid.drop(covid[covid['country'] == 'Cruise Ship'].index, inplace=True) "
   ]
  },
  {
   "cell_type": "code",
   "execution_count": 18,
   "metadata": {},
   "outputs": [
    {
     "data": {
      "text/plain": [
       "US    21216\n",
       "Name: country, dtype: int64"
      ]
     },
     "execution_count": 18,
     "metadata": {},
     "output_type": "execute_result"
    }
   ],
   "source": [
    "# check cruise_ships is gone\n",
    "covid[covid['population'].isna()]['country'].value_counts()"
   ]
  },
  {
   "cell_type": "code",
   "execution_count": 19,
   "metadata": {},
   "outputs": [
    {
     "data": {
      "text/plain": [
       "array([ 16073.,  95379.,     nan, ..., 318316., 152940.,   3259.])"
      ]
     },
     "execution_count": 19,
     "metadata": {},
     "output_type": "execute_result"
    }
   ],
   "source": [
    "# fill population count for NaN rows of the population column\n",
    "covid[covid['country'] == 'US']['population'].unique()"
   ]
  },
  {
   "cell_type": "code",
   "execution_count": 20,
   "metadata": {},
   "outputs": [],
   "source": [
    "# convert population column to integer\n",
    "# covid['population'] = covid['population'].astype('int64')"
   ]
  },
  {
   "cell_type": "code",
   "execution_count": 21,
   "metadata": {},
   "outputs": [
    {
     "data": {
      "text/plain": [
       "case_type                 object\n",
       "cases                      int64\n",
       "date              datetime64[ns]\n",
       "country                   object\n",
       "province_state            object\n",
       "iso2                      object\n",
       "iso3                      object\n",
       "lat                      float64\n",
       "long                     float64\n",
       "population               float64\n",
       "dtype: object"
      ]
     },
     "execution_count": 21,
     "metadata": {},
     "output_type": "execute_result"
    }
   ],
   "source": [
    "covid.dtypes"
   ]
  },
  {
   "cell_type": "code",
   "execution_count": 22,
   "metadata": {},
   "outputs": [
    {
     "data": {
      "text/plain": [
       "array(['Switzerland', 'Cyprus', 'Antigua and Barbuda', 'Jamaica',\n",
       "       'Belize', 'Central African Republic', 'Netherlands',\n",
       "       'United Kingdom', 'France', 'Poland', 'Canada', 'China',\n",
       "       'Kazakhstan', 'South Sudan', 'Croatia', 'Chad', 'Hungary', 'Sudan',\n",
       "       'Singapore', 'Bulgaria', 'Saint Lucia', 'Nepal', 'Peru',\n",
       "       'United Arab Emirates', 'Sierra Leone', 'Brazil', 'Liechtenstein',\n",
       "       'Pakistan', 'Equatorial Guinea', 'Thailand', 'Azerbaijan',\n",
       "       'Bahrain', 'Kenya', 'Cabo Verde', 'Germany', 'Malta', 'Togo',\n",
       "       'Montenegro', 'North Macedonia', 'Belarus', 'Tunisia',\n",
       "       'Congo (Brazzaville)', 'Dominica', 'Austria', 'Paraguay',\n",
       "       'Afghanistan', 'Angola', 'Yemen', 'Iraq', 'Brunei', 'Holy See',\n",
       "       'Congo (Kinshasa)', 'Somalia', 'Botswana', 'New Zealand', 'Uganda',\n",
       "       'Barbados', 'Djibouti', 'Norway', 'Kyrgyzstan', 'Sri Lanka',\n",
       "       'Syria', 'Maldives', 'Georgia', 'Timor-Leste', 'El Salvador',\n",
       "       'Mauritius', 'Oman', 'Rwanda', 'Bahamas', 'Mozambique', 'Monaco',\n",
       "       'Morocco', 'Italy', 'Vietnam', 'Andorra', 'Albania', 'Ethiopia',\n",
       "       'Guatemala', 'Seychelles', 'Argentina', 'Uruguay', 'Taiwan*',\n",
       "       'Australia', 'West Bank and Gaza', 'Kosovo', 'Burkina Faso',\n",
       "       'Guinea-Bissau', 'Guinea', 'Niger', 'Eritrea', 'Panama', 'Liberia',\n",
       "       'Western Sahara', 'Kuwait', 'Ghana', 'Mongolia', 'Uzbekistan',\n",
       "       'Fiji', 'Egypt', 'Ecuador', 'Mali', 'Romania',\n",
       "       'Saint Kitts and Nevis', 'Armenia', 'Tanzania', 'Nigeria',\n",
       "       'San Marino', 'Burma', 'Senegal', 'Slovakia', 'Lithuania',\n",
       "       'Serbia', 'Qatar', 'Moldova', 'Cambodia', 'Ukraine', 'Japan',\n",
       "       'Greece', 'Belgium', 'Mexico', 'Tajikistan', 'Haiti', 'Colombia',\n",
       "       'Malaysia', 'Zimbabwe', 'Bhutan', 'Luxembourg', 'Denmark',\n",
       "       'Burundi', 'Trinidad and Tobago', 'Dominican Republic', 'Grenada',\n",
       "       'Latvia', 'India', 'Nicaragua', 'Cameroon',\n",
       "       'Bosnia and Herzegovina', 'Saint Vincent and the Grenadines',\n",
       "       'Guyana', 'Saudi Arabia', 'Cuba', 'Russia', 'Iran',\n",
       "       'Sao Tome and Principe', \"Cote d'Ivoire\", 'Papua New Guinea',\n",
       "       'Mauritania', 'Eswatini', 'Indonesia', 'Israel', 'Korea, South',\n",
       "       'Philippines', 'Bolivia', 'Venezuela', 'Laos', 'Iceland',\n",
       "       'Namibia', 'Honduras', 'Sweden', 'Slovenia', 'South Africa',\n",
       "       'Libya', 'Spain', 'Costa Rica', 'Benin', 'Malawi', 'Czechia',\n",
       "       'Estonia', 'Comoros', 'Jordan', 'Bangladesh', 'Chile', 'Finland',\n",
       "       'Turkey', 'Zambia', 'Madagascar', 'Lebanon', 'Portugal', 'Gambia',\n",
       "       'Ireland', 'Algeria', 'Gabon', 'Suriname', 'US'], dtype=object)"
      ]
     },
     "execution_count": 22,
     "metadata": {},
     "output_type": "execute_result"
    }
   ],
   "source": [
    "# check unique countries\n",
    "# a quick check identifies that there are no duplicated countries like US and United states of America\n",
    "covid['country'].unique()"
   ]
  },
  {
   "cell_type": "markdown",
   "metadata": {},
   "source": [
    "### Step2: Feature engineering"
   ]
  },
  {
   "cell_type": "code",
   "execution_count": 23,
   "metadata": {},
   "outputs": [],
   "source": [
    "# add a couple of extra columns - month and week\n",
    "covid['month'] = pd.DatetimeIndex(covid['date']).month\n",
    "covid['week'] = pd.DatetimeIndex(covid['date']).week"
   ]
  },
  {
   "cell_type": "code",
   "execution_count": 24,
   "metadata": {},
   "outputs": [
    {
     "data": {
      "text/plain": [
       "3    218178\n",
       "4    211140\n",
       "2    204102\n",
       "1     70380\n",
       "5     14076\n",
       "Name: month, dtype: int64"
      ]
     },
     "execution_count": 24,
     "metadata": {},
     "output_type": "execute_result"
    }
   ],
   "source": [
    "# check month values\n",
    "covid['month'].value_counts()"
   ]
  },
  {
   "cell_type": "code",
   "execution_count": 25,
   "metadata": {},
   "outputs": [],
   "source": [
    "look_up = {1: 'Jan', 2: 'Feb', 3: 'Mar', 4: 'Apr', 5: 'May',\n",
    "            6: 'Jun', 7: 'Jul', 8: 'Aug', 9: 'Sep', 10: 'Oct', 11: 'Nov', 12: 'Dec'}\n",
    "\n",
    "covid['month_name'] = covid['month'].apply(lambda x: look_up[x])"
   ]
  },
  {
   "cell_type": "code",
   "execution_count": 26,
   "metadata": {},
   "outputs": [
    {
     "data": {
      "text/html": [
       "<div>\n",
       "<style scoped>\n",
       "    .dataframe tbody tr th:only-of-type {\n",
       "        vertical-align: middle;\n",
       "    }\n",
       "\n",
       "    .dataframe tbody tr th {\n",
       "        vertical-align: top;\n",
       "    }\n",
       "\n",
       "    .dataframe thead th {\n",
       "        text-align: right;\n",
       "    }\n",
       "</style>\n",
       "<table border=\"1\" class=\"dataframe\">\n",
       "  <thead>\n",
       "    <tr style=\"text-align: right;\">\n",
       "      <th></th>\n",
       "      <th>case_type</th>\n",
       "      <th>cases</th>\n",
       "      <th>date</th>\n",
       "      <th>country</th>\n",
       "      <th>province_state</th>\n",
       "      <th>iso2</th>\n",
       "      <th>iso3</th>\n",
       "      <th>lat</th>\n",
       "      <th>long</th>\n",
       "      <th>population</th>\n",
       "      <th>month</th>\n",
       "      <th>week</th>\n",
       "      <th>month_name</th>\n",
       "    </tr>\n",
       "  </thead>\n",
       "  <tbody>\n",
       "    <tr>\n",
       "      <th>0</th>\n",
       "      <td>Confirmed</td>\n",
       "      <td>0</td>\n",
       "      <td>2020-02-03</td>\n",
       "      <td>Switzerland</td>\n",
       "      <td>NaN</td>\n",
       "      <td>CH</td>\n",
       "      <td>CHE</td>\n",
       "      <td>47</td>\n",
       "      <td>8</td>\n",
       "      <td>9e+06</td>\n",
       "      <td>2</td>\n",
       "      <td>6</td>\n",
       "      <td>Feb</td>\n",
       "    </tr>\n",
       "    <tr>\n",
       "      <th>1</th>\n",
       "      <td>Deaths</td>\n",
       "      <td>0</td>\n",
       "      <td>2020-03-01</td>\n",
       "      <td>Cyprus</td>\n",
       "      <td>NaN</td>\n",
       "      <td>CY</td>\n",
       "      <td>CYP</td>\n",
       "      <td>35</td>\n",
       "      <td>33</td>\n",
       "      <td>1e+06</td>\n",
       "      <td>3</td>\n",
       "      <td>9</td>\n",
       "      <td>Mar</td>\n",
       "    </tr>\n",
       "    <tr>\n",
       "      <th>2</th>\n",
       "      <td>Confirmed</td>\n",
       "      <td>23</td>\n",
       "      <td>2020-04-21</td>\n",
       "      <td>Antigua and Barbuda</td>\n",
       "      <td>NaN</td>\n",
       "      <td>AG</td>\n",
       "      <td>ATG</td>\n",
       "      <td>17</td>\n",
       "      <td>-62</td>\n",
       "      <td>1e+05</td>\n",
       "      <td>4</td>\n",
       "      <td>17</td>\n",
       "      <td>Apr</td>\n",
       "    </tr>\n",
       "    <tr>\n",
       "      <th>3</th>\n",
       "      <td>Deaths</td>\n",
       "      <td>0</td>\n",
       "      <td>2020-02-11</td>\n",
       "      <td>Jamaica</td>\n",
       "      <td>NaN</td>\n",
       "      <td>JM</td>\n",
       "      <td>JAM</td>\n",
       "      <td>18</td>\n",
       "      <td>-77</td>\n",
       "      <td>3e+06</td>\n",
       "      <td>2</td>\n",
       "      <td>7</td>\n",
       "      <td>Feb</td>\n",
       "    </tr>\n",
       "    <tr>\n",
       "      <th>4</th>\n",
       "      <td>Confirmed</td>\n",
       "      <td>0</td>\n",
       "      <td>2020-02-06</td>\n",
       "      <td>Belize</td>\n",
       "      <td>NaN</td>\n",
       "      <td>BZ</td>\n",
       "      <td>BLZ</td>\n",
       "      <td>17</td>\n",
       "      <td>-88</td>\n",
       "      <td>4e+05</td>\n",
       "      <td>2</td>\n",
       "      <td>6</td>\n",
       "      <td>Feb</td>\n",
       "    </tr>\n",
       "  </tbody>\n",
       "</table>\n",
       "</div>"
      ],
      "text/plain": [
       "   case_type  cases       date              country province_state iso2 iso3  \\\n",
       "0  Confirmed      0 2020-02-03          Switzerland            NaN   CH  CHE   \n",
       "1     Deaths      0 2020-03-01               Cyprus            NaN   CY  CYP   \n",
       "2  Confirmed     23 2020-04-21  Antigua and Barbuda            NaN   AG  ATG   \n",
       "3     Deaths      0 2020-02-11              Jamaica            NaN   JM  JAM   \n",
       "4  Confirmed      0 2020-02-06               Belize            NaN   BZ  BLZ   \n",
       "\n",
       "   lat  long  population  month  week month_name  \n",
       "0   47     8       9e+06      2     6        Feb  \n",
       "1   35    33       1e+06      3     9        Mar  \n",
       "2   17   -62       1e+05      4    17        Apr  \n",
       "3   18   -77       3e+06      2     7        Feb  \n",
       "4   17   -88       4e+05      2     6        Feb  "
      ]
     },
     "execution_count": 26,
     "metadata": {},
     "output_type": "execute_result"
    }
   ],
   "source": [
    "covid.head()"
   ]
  },
  {
   "cell_type": "code",
   "execution_count": 27,
   "metadata": {},
   "outputs": [
    {
     "data": {
      "text/html": [
       "<div>\n",
       "<style scoped>\n",
       "    .dataframe tbody tr th:only-of-type {\n",
       "        vertical-align: middle;\n",
       "    }\n",
       "\n",
       "    .dataframe tbody tr th {\n",
       "        vertical-align: top;\n",
       "    }\n",
       "\n",
       "    .dataframe thead th {\n",
       "        text-align: right;\n",
       "    }\n",
       "</style>\n",
       "<table border=\"1\" class=\"dataframe\">\n",
       "  <thead>\n",
       "    <tr style=\"text-align: right;\">\n",
       "      <th></th>\n",
       "      <th>case_type</th>\n",
       "      <th>cases</th>\n",
       "      <th>date</th>\n",
       "      <th>country</th>\n",
       "      <th>province_state</th>\n",
       "      <th>iso2</th>\n",
       "      <th>iso3</th>\n",
       "      <th>population</th>\n",
       "      <th>week</th>\n",
       "      <th>month_name</th>\n",
       "    </tr>\n",
       "  </thead>\n",
       "  <tbody>\n",
       "    <tr>\n",
       "      <th>0</th>\n",
       "      <td>Confirmed</td>\n",
       "      <td>0</td>\n",
       "      <td>2020-02-03</td>\n",
       "      <td>Switzerland</td>\n",
       "      <td>NaN</td>\n",
       "      <td>CH</td>\n",
       "      <td>CHE</td>\n",
       "      <td>9e+06</td>\n",
       "      <td>6</td>\n",
       "      <td>Feb</td>\n",
       "    </tr>\n",
       "    <tr>\n",
       "      <th>1</th>\n",
       "      <td>Deaths</td>\n",
       "      <td>0</td>\n",
       "      <td>2020-03-01</td>\n",
       "      <td>Cyprus</td>\n",
       "      <td>NaN</td>\n",
       "      <td>CY</td>\n",
       "      <td>CYP</td>\n",
       "      <td>1e+06</td>\n",
       "      <td>9</td>\n",
       "      <td>Mar</td>\n",
       "    </tr>\n",
       "    <tr>\n",
       "      <th>2</th>\n",
       "      <td>Confirmed</td>\n",
       "      <td>23</td>\n",
       "      <td>2020-04-21</td>\n",
       "      <td>Antigua and Barbuda</td>\n",
       "      <td>NaN</td>\n",
       "      <td>AG</td>\n",
       "      <td>ATG</td>\n",
       "      <td>1e+05</td>\n",
       "      <td>17</td>\n",
       "      <td>Apr</td>\n",
       "    </tr>\n",
       "    <tr>\n",
       "      <th>3</th>\n",
       "      <td>Deaths</td>\n",
       "      <td>0</td>\n",
       "      <td>2020-02-11</td>\n",
       "      <td>Jamaica</td>\n",
       "      <td>NaN</td>\n",
       "      <td>JM</td>\n",
       "      <td>JAM</td>\n",
       "      <td>3e+06</td>\n",
       "      <td>7</td>\n",
       "      <td>Feb</td>\n",
       "    </tr>\n",
       "    <tr>\n",
       "      <th>4</th>\n",
       "      <td>Confirmed</td>\n",
       "      <td>0</td>\n",
       "      <td>2020-02-06</td>\n",
       "      <td>Belize</td>\n",
       "      <td>NaN</td>\n",
       "      <td>BZ</td>\n",
       "      <td>BLZ</td>\n",
       "      <td>4e+05</td>\n",
       "      <td>6</td>\n",
       "      <td>Feb</td>\n",
       "    </tr>\n",
       "  </tbody>\n",
       "</table>\n",
       "</div>"
      ],
      "text/plain": [
       "   case_type  cases       date              country province_state iso2 iso3  \\\n",
       "0  Confirmed      0 2020-02-03          Switzerland            NaN   CH  CHE   \n",
       "1     Deaths      0 2020-03-01               Cyprus            NaN   CY  CYP   \n",
       "2  Confirmed     23 2020-04-21  Antigua and Barbuda            NaN   AG  ATG   \n",
       "3     Deaths      0 2020-02-11              Jamaica            NaN   JM  JAM   \n",
       "4  Confirmed      0 2020-02-06               Belize            NaN   BZ  BLZ   \n",
       "\n",
       "   population  week month_name  \n",
       "0       9e+06     6        Feb  \n",
       "1       1e+06     9        Mar  \n",
       "2       1e+05    17        Apr  \n",
       "3       3e+06     7        Feb  \n",
       "4       4e+05     6        Feb  "
      ]
     },
     "execution_count": 27,
     "metadata": {},
     "output_type": "execute_result"
    }
   ],
   "source": [
    "# drop month column\n",
    "covid.drop(columns = ['month','lat','long'], inplace=True, axis=1)\n",
    "covid.head()"
   ]
  },
  {
   "cell_type": "code",
   "execution_count": 28,
   "metadata": {},
   "outputs": [
    {
     "name": "stdout",
     "output_type": "stream",
     "text": [
      "<class 'pandas.core.frame.DataFrame'>\n",
      "Int64Index: 717876 entries, 0 to 718079\n",
      "Data columns (total 10 columns):\n",
      " #   Column          Non-Null Count   Dtype         \n",
      "---  ------          --------------   -----         \n",
      " 0   case_type       717876 non-null  object        \n",
      " 1   cases           717876 non-null  int64         \n",
      " 2   date            717876 non-null  datetime64[ns]\n",
      " 3   country         717876 non-null  object        \n",
      " 4   province_state  680952 non-null  object        \n",
      " 5   iso2            717672 non-null  object        \n",
      " 6   iso3            717876 non-null  object        \n",
      " 7   population      696660 non-null  float64       \n",
      " 8   week            717876 non-null  int64         \n",
      " 9   month_name      717876 non-null  object        \n",
      "dtypes: datetime64[ns](1), float64(1), int64(2), object(6)\n",
      "memory usage: 60.2+ MB\n"
     ]
    }
   ],
   "source": [
    "covid.info()"
   ]
  },
  {
   "cell_type": "code",
   "execution_count": 29,
   "metadata": {},
   "outputs": [],
   "source": [
    "# change the columns case_type, country, iso2, iso3, month_name to categorical type\n",
    "# covid['case_type'] = pd.Categorical(covid['case_type'])\n",
    "# covid['country'] = pd.Categorical(covid['country'])\n",
    "# covid['iso2'] = pd.Categorical(covid['iso2'])\n",
    "# covid['iso3'] = pd.Categorical(covid['iso3'])\n",
    "# covid['province_state'] = pd.Categorical(covid['province_state'])\n",
    "# covid['month_name'] = pd.Categorical(covid['month_name'])"
   ]
  },
  {
   "cell_type": "code",
   "execution_count": 30,
   "metadata": {},
   "outputs": [
    {
     "name": "stdout",
     "output_type": "stream",
     "text": [
      "<class 'pandas.core.frame.DataFrame'>\n",
      "Int64Index: 717876 entries, 0 to 718079\n",
      "Data columns (total 10 columns):\n",
      " #   Column          Non-Null Count   Dtype         \n",
      "---  ------          --------------   -----         \n",
      " 0   case_type       717876 non-null  object        \n",
      " 1   cases           717876 non-null  int64         \n",
      " 2   date            717876 non-null  datetime64[ns]\n",
      " 3   country         717876 non-null  object        \n",
      " 4   province_state  680952 non-null  object        \n",
      " 5   iso2            717672 non-null  object        \n",
      " 6   iso3            717876 non-null  object        \n",
      " 7   population      696660 non-null  float64       \n",
      " 8   week            717876 non-null  int64         \n",
      " 9   month_name      717876 non-null  object        \n",
      "dtypes: datetime64[ns](1), float64(1), int64(2), object(6)\n",
      "memory usage: 60.2+ MB\n"
     ]
    }
   ],
   "source": [
    "covid.info()\n",
    "# after doing categorical conversion - the memory has been reduced by 100%"
   ]
  },
  {
   "cell_type": "markdown",
   "metadata": {},
   "source": [
    "### Step 3: Analysis and Visualization"
   ]
  },
  {
   "cell_type": "markdown",
   "metadata": {},
   "source": [
    "The following visualizations will be attempted\n",
    "- confirmed cases vy states in the US - top 10\n",
    "- deaths by states in the US - top 10\n",
    "- death ratio in the US - top states\n",
    "- trend across weeks across top 10 states"
   ]
  },
  {
   "cell_type": "code",
   "execution_count": 31,
   "metadata": {},
   "outputs": [
    {
     "data": {
      "text/html": [
       "<div>\n",
       "<style scoped>\n",
       "    .dataframe tbody tr th:only-of-type {\n",
       "        vertical-align: middle;\n",
       "    }\n",
       "\n",
       "    .dataframe tbody tr th {\n",
       "        vertical-align: top;\n",
       "    }\n",
       "\n",
       "    .dataframe thead th {\n",
       "        text-align: right;\n",
       "    }\n",
       "</style>\n",
       "<table border=\"1\" class=\"dataframe\">\n",
       "  <thead>\n",
       "    <tr style=\"text-align: right;\">\n",
       "      <th></th>\n",
       "      <th>cases</th>\n",
       "      <th>week</th>\n",
       "    </tr>\n",
       "    <tr>\n",
       "      <th>date</th>\n",
       "      <th></th>\n",
       "      <th></th>\n",
       "    </tr>\n",
       "  </thead>\n",
       "  <tbody>\n",
       "    <tr>\n",
       "      <th>2020-01-22</th>\n",
       "      <td>1</td>\n",
       "      <td>4</td>\n",
       "    </tr>\n",
       "    <tr>\n",
       "      <th>2020-01-23</th>\n",
       "      <td>1</td>\n",
       "      <td>4</td>\n",
       "    </tr>\n",
       "    <tr>\n",
       "      <th>2020-01-24</th>\n",
       "      <td>2</td>\n",
       "      <td>4</td>\n",
       "    </tr>\n",
       "    <tr>\n",
       "      <th>2020-01-25</th>\n",
       "      <td>2</td>\n",
       "      <td>4</td>\n",
       "    </tr>\n",
       "    <tr>\n",
       "      <th>2020-01-26</th>\n",
       "      <td>5</td>\n",
       "      <td>4</td>\n",
       "    </tr>\n",
       "    <tr>\n",
       "      <th>...</th>\n",
       "      <td>...</td>\n",
       "      <td>...</td>\n",
       "    </tr>\n",
       "    <tr>\n",
       "      <th>2020-04-28</th>\n",
       "      <td>1070782</td>\n",
       "      <td>18</td>\n",
       "    </tr>\n",
       "    <tr>\n",
       "      <th>2020-04-29</th>\n",
       "      <td>1100721</td>\n",
       "      <td>18</td>\n",
       "    </tr>\n",
       "    <tr>\n",
       "      <th>2020-04-30</th>\n",
       "      <td>1132265</td>\n",
       "      <td>18</td>\n",
       "    </tr>\n",
       "    <tr>\n",
       "      <th>2020-05-01</th>\n",
       "      <td>1168249</td>\n",
       "      <td>18</td>\n",
       "    </tr>\n",
       "    <tr>\n",
       "      <th>2020-05-02</th>\n",
       "      <td>1198753</td>\n",
       "      <td>18</td>\n",
       "    </tr>\n",
       "  </tbody>\n",
       "</table>\n",
       "<p>102 rows × 2 columns</p>\n",
       "</div>"
      ],
      "text/plain": [
       "              cases  week\n",
       "date                     \n",
       "2020-01-22        1     4\n",
       "2020-01-23        1     4\n",
       "2020-01-24        2     4\n",
       "2020-01-25        2     4\n",
       "2020-01-26        5     4\n",
       "...             ...   ...\n",
       "2020-04-28  1070782    18\n",
       "2020-04-29  1100721    18\n",
       "2020-04-30  1132265    18\n",
       "2020-05-01  1168249    18\n",
       "2020-05-02  1198753    18\n",
       "\n",
       "[102 rows x 2 columns]"
      ]
     },
     "execution_count": 31,
     "metadata": {},
     "output_type": "execute_result"
    }
   ],
   "source": [
    "# There is a problem here - US should have the most number of cases.\n",
    "\n",
    "covid_us_trend = covid[covid.country == \"US\"].groupby('date').sum()['cases']\n",
    "covid_us_trend = covid_us_trend.reset_index()\n",
    "covid_us_trend['week'] = covid_us_trend['date'].dt.week\n",
    "covid_us_trend_df = pd.DataFrame(covid_us_trend)\n",
    "covid_us_trend_df = covid_us_trend_df.set_index('date')\n",
    "covid_us_trend_df"
   ]
  },
  {
   "cell_type": "markdown",
   "metadata": {},
   "source": [
    "---\n",
    "\n",
    "#### Key Observation:\n",
    "\n",
    "- From Week 12, US has seen an exponential growth in confirmed cases"
   ]
  },
  {
   "cell_type": "code",
   "execution_count": 47,
   "metadata": {},
   "outputs": [
    {
     "data": {
      "image/png": "[encoded data removed]",
      "text/plain": [
       "<Figure size 720x432 with 1 Axes>"
      ]
     },
     "metadata": {},
     "output_type": "display_data"
    }
   ],
   "source": [
    "sns.set_style('darkgrid')\n",
    "plt.figure(figsize = (10,6))\n",
    "sns.lineplot(x='week', y='cases',data=covid_us_trend_df)\n",
    "plt.title('United States - Confirmed cases trend grown exponentially after week 12')\n",
    "plt.show()"
   ]
  },
  {
   "cell_type": "markdown",
   "metadata": {},
   "source": [
    "--- \n",
    "\n",
    "#### Key observation:\n",
    "\n",
    "- **New York** is the hotspot in US\n",
    "- It has total cases of next four states combined"
   ]
  },
  {
   "cell_type": "code",
   "execution_count": 51,
   "metadata": {},
   "outputs": [
    {
     "data": {
      "text/html": [
       "<div>\n",
       "<style scoped>\n",
       "    .dataframe tbody tr th:only-of-type {\n",
       "        vertical-align: middle;\n",
       "    }\n",
       "\n",
       "    .dataframe tbody tr th {\n",
       "        vertical-align: top;\n",
       "    }\n",
       "\n",
       "    .dataframe thead th {\n",
       "        text-align: right;\n",
       "    }\n",
       "</style>\n",
       "<table border=\"1\" class=\"dataframe\">\n",
       "  <thead>\n",
       "    <tr style=\"text-align: right;\">\n",
       "      <th></th>\n",
       "      <th>cases</th>\n",
       "    </tr>\n",
       "    <tr>\n",
       "      <th>province_state</th>\n",
       "      <th></th>\n",
       "    </tr>\n",
       "  </thead>\n",
       "  <tbody>\n",
       "    <tr>\n",
       "      <th>New York</th>\n",
       "      <td>172354</td>\n",
       "    </tr>\n",
       "    <tr>\n",
       "      <th>Illinois</th>\n",
       "      <td>40227</td>\n",
       "    </tr>\n",
       "    <tr>\n",
       "      <th>California</th>\n",
       "      <td>24894</td>\n",
       "    </tr>\n",
       "    <tr>\n",
       "      <th>Michigan</th>\n",
       "      <td>17106</td>\n",
       "    </tr>\n",
       "    <tr>\n",
       "      <th>New Jersey</th>\n",
       "      <td>15974</td>\n",
       "    </tr>\n",
       "    <tr>\n",
       "      <th>Pennsylvania</th>\n",
       "      <td>15137</td>\n",
       "    </tr>\n",
       "    <tr>\n",
       "      <th>Massachusetts</th>\n",
       "      <td>15048</td>\n",
       "    </tr>\n",
       "    <tr>\n",
       "      <th>Florida</th>\n",
       "      <td>12632</td>\n",
       "    </tr>\n",
       "    <tr>\n",
       "      <th>Connecticut</th>\n",
       "      <td>11801</td>\n",
       "    </tr>\n",
       "    <tr>\n",
       "      <th>Maryland</th>\n",
       "      <td>7041</td>\n",
       "    </tr>\n",
       "  </tbody>\n",
       "</table>\n",
       "</div>"
      ],
      "text/plain": [
       "                 cases\n",
       "province_state        \n",
       "New York        172354\n",
       "Illinois         40227\n",
       "California       24894\n",
       "Michigan         17106\n",
       "New Jersey       15974\n",
       "Pennsylvania     15137\n",
       "Massachusetts    15048\n",
       "Florida          12632\n",
       "Connecticut      11801\n",
       "Maryland          7041"
      ]
     },
     "execution_count": 51,
     "metadata": {},
     "output_type": "execute_result"
    }
   ],
   "source": [
    "covid_df = covid[['country','case_type','cases', 'province_state']]\n",
    "covid_state_trend = covid_df[(covid['country'] == 'US') & (covid['case_type'] == 'Confirmed')]\n",
    "us_top_10 = covid_state_trend.groupby('province_state').max().sort_values('cases', ascending=False)['cases'].head(10)\n",
    "us_top_10_df = pd.DataFrame(us_top_10)\n",
    "us_top_10_df"
   ]
  },
  {
   "cell_type": "code",
   "execution_count": 34,
   "metadata": {},
   "outputs": [
    {
     "data": {
      "image/png": "[encoded data removed]",
      "text/plain": [
       "<Figure size 864x432 with 1 Axes>"
      ]
     },
     "metadata": {},
     "output_type": "display_data"
    }
   ],
   "source": [
    "sns.set_style('darkgrid')\n",
    "plt.figure(figsize=(12,6))\n",
    "sns.barplot(x=us_top_10.keys(), y= us_top_10.values,data=us_top_10_df, palette=flatui, )\n",
    "plt.title('New York is the hotspot of COVID-19 confirmed cases')\n",
    "plt.show()"
   ]
  },
  {
   "cell_type": "markdown",
   "metadata": {},
   "source": [
    "---\n",
    "\n",
    "#### Key observations:\n",
    "\n",
    "- **New York** has **most number of deaths**\n",
    "- **Deaths in New York alone equates to all other states**"
   ]
  },
  {
   "cell_type": "code",
   "execution_count": 35,
   "metadata": {},
   "outputs": [],
   "source": [
    "# Most number of deaths\n",
    "\n",
    "covid_state_deaths = covid_df[(covid['country'] == 'US') & (covid['case_type'] == 'Deaths')]\n",
    "us_top_10_deaths = covid_state_deaths.groupby('province_state').max().sort_values('cases', ascending=False)['cases'].head(10)\n",
    "us_df_deaths = pd.DataFrame(us_top_10_deaths)"
   ]
  },
  {
   "cell_type": "code",
   "execution_count": 36,
   "metadata": {},
   "outputs": [
    {
     "data": {
      "image/png": "[encoded data removed]",
      "text/plain": [
       "<Figure size 864x432 with 1 Axes>"
      ]
     },
     "metadata": {},
     "output_type": "display_data"
    }
   ],
   "source": [
    "plt.figure(figsize=(12,6))\n",
    "sns.barplot(x=us_top_10_deaths.keys(), y= 'cases',data=us_df_deaths, palette=flatui)\n",
    "plt.title('New York is the hotspot of COVID-19 deaths')\n",
    "plt.show()"
   ]
  },
  {
   "cell_type": "markdown",
   "metadata": {},
   "source": [
    "---\n",
    "\n",
    "#### Key Observation: \n",
    "\n",
    "- **Michigan** has the **highest death ratio followed by New York**\n",
    "- May be due to the following reasons\n",
    "    - poor health care infrastructure\n",
    "    - more number of old aged people"
   ]
  },
  {
   "cell_type": "code",
   "execution_count": 37,
   "metadata": {},
   "outputs": [
    {
     "data": {
      "text/html": [
       "<div>\n",
       "<style scoped>\n",
       "    .dataframe tbody tr th:only-of-type {\n",
       "        vertical-align: middle;\n",
       "    }\n",
       "\n",
       "    .dataframe tbody tr th {\n",
       "        vertical-align: top;\n",
       "    }\n",
       "\n",
       "    .dataframe thead th {\n",
       "        text-align: right;\n",
       "    }\n",
       "</style>\n",
       "<table border=\"1\" class=\"dataframe\">\n",
       "  <thead>\n",
       "    <tr style=\"text-align: right;\">\n",
       "      <th></th>\n",
       "      <th>confirmed</th>\n",
       "      <th>deaths</th>\n",
       "      <th>death ratio</th>\n",
       "    </tr>\n",
       "  </thead>\n",
       "  <tbody>\n",
       "    <tr>\n",
       "      <th>Michigan</th>\n",
       "      <td>17106</td>\n",
       "      <td>1884</td>\n",
       "      <td>11</td>\n",
       "    </tr>\n",
       "    <tr>\n",
       "      <th>New York</th>\n",
       "      <td>172354</td>\n",
       "      <td>18491</td>\n",
       "      <td>11</td>\n",
       "    </tr>\n",
       "    <tr>\n",
       "      <th>New Jersey</th>\n",
       "      <td>15974</td>\n",
       "      <td>1265</td>\n",
       "      <td>8</td>\n",
       "    </tr>\n",
       "    <tr>\n",
       "      <th>Connecticut</th>\n",
       "      <td>11801</td>\n",
       "      <td>865</td>\n",
       "      <td>7</td>\n",
       "    </tr>\n",
       "    <tr>\n",
       "      <th>Massachusetts</th>\n",
       "      <td>15048</td>\n",
       "      <td>923</td>\n",
       "      <td>6</td>\n",
       "    </tr>\n",
       "    <tr>\n",
       "      <th>California</th>\n",
       "      <td>24894</td>\n",
       "      <td>1209</td>\n",
       "      <td>5</td>\n",
       "    </tr>\n",
       "    <tr>\n",
       "      <th>Illinois</th>\n",
       "      <td>40227</td>\n",
       "      <td>1743</td>\n",
       "      <td>4</td>\n",
       "    </tr>\n",
       "    <tr>\n",
       "      <th>Pennsylvania</th>\n",
       "      <td>15137</td>\n",
       "      <td>638</td>\n",
       "      <td>4</td>\n",
       "    </tr>\n",
       "  </tbody>\n",
       "</table>\n",
       "</div>"
      ],
      "text/plain": [
       "               confirmed  deaths  death ratio\n",
       "Michigan           17106    1884           11\n",
       "New York          172354   18491           11\n",
       "New Jersey         15974    1265            8\n",
       "Connecticut        11801     865            7\n",
       "Massachusetts      15048     923            6\n",
       "California         24894    1209            5\n",
       "Illinois           40227    1743            4\n",
       "Pennsylvania       15137     638            4"
      ]
     },
     "execution_count": 37,
     "metadata": {},
     "output_type": "execute_result"
    }
   ],
   "source": [
    "# Confirmed vs death ratio\n",
    "\n",
    "us_top_10_df_rd = us_top_10_df.rename(columns = {'cases':'confirmed'})\n",
    "us_df_deaths_rd = us_df_deaths.rename(columns = {'cases':'deaths'})\n",
    "us_conf_deaths_df = pd.concat([us_top_10_df_rd, us_df_deaths_rd], axis=1)\n",
    "us_conf_deaths_df.dropna(inplace=True)\n",
    "us_conf_deaths_df['death ratio'] = (us_conf_deaths_df['deaths'] / us_conf_deaths_df['confirmed']) * 100\n",
    "us_conf_deaths_df = us_conf_deaths_df.sort_values('death ratio', ascending=False)\n",
    "us_conf_deaths_df"
   ]
  },
  {
   "cell_type": "code",
   "execution_count": 38,
   "metadata": {},
   "outputs": [
    {
     "data": {
      "image/png": "[encoded data removed]",
      "text/plain": [
       "<Figure size 864x432 with 1 Axes>"
      ]
     },
     "metadata": {},
     "output_type": "display_data"
    }
   ],
   "source": [
    "plt.figure(figsize=(12,6))\n",
    "sns.barplot(x=us_conf_deaths_df.index, y= 'death ratio',data=us_conf_deaths_df, palette=flatui, saturation = 0.4)\n",
    "plt.title('Michigan has the highest death ratio - On Par with New York')\n",
    "plt.show()"
   ]
  },
  {
   "cell_type": "markdown",
   "metadata": {},
   "source": [
    "---\n",
    "\n",
    "#### Key observation:\n",
    "\n",
    "- **New York is fast approaching the saturation point**\n",
    "- Looks like the infection has reached the peak"
   ]
  },
  {
   "cell_type": "code",
   "execution_count": 39,
   "metadata": {},
   "outputs": [
    {
     "data": {
      "image/png": "[encoded data removed]",
      "text/plain": [
       "<Figure size 864x432 with 1 Axes>"
      ]
     },
     "metadata": {},
     "output_type": "display_data"
    }
   ],
   "source": [
    "# Is New York Slowing down\n",
    "\n",
    "covid_ny =  covid[(covid.province_state == 'New York') & (covid.case_type == 'Confirmed')]\n",
    "plt.figure(figsize=(12,6))\n",
    "sns.lineplot(x='date', y='cases',data=covid_ny)\n",
    "plt.show()"
   ]
  },
  {
   "cell_type": "markdown",
   "metadata": {},
   "source": [
    "---\n",
    "\n",
    "#### Key observations:\n",
    "\n",
    "- Out of the top 10 states, **8 states have 25000 or less cases**\n",
    "- All the states show an **increasing trend**\n",
    "- Looks like other states have taken **precautionary measures in week 12 and 13 - learning from New York surge in cases**\n"
   ]
  },
  {
   "cell_type": "code",
   "execution_count": 81,
   "metadata": {},
   "outputs": [],
   "source": [
    "# get confirmed cases for top 10 states in the US\n",
    "top_10_us = ['New York', 'Illinois', 'California', 'Michigan', 'New Jersey',\n",
    "       'Pennsylvania', 'Massachusetts', 'Florida', 'Connecticut', 'Maryland']\n",
    "covid_us = covid[(covid['country'] == 'US') & (covid['case_type'] == 'Confirmed') & (covid['province_state'].isin(top_10_us))]\n",
    "covid_us_df = covid_us.groupby(['week','province_state']).max().reset_index()\n",
    "covid_us_df = covid_us_df[['week','province_state','cases','population','month_name']]\n",
    "covid_us_df = covid_us_df[covid_us_df.week > 10]"
   ]
  },
  {
   "cell_type": "code",
   "execution_count": 80,
   "metadata": {},
   "outputs": [
    {
     "data": {
      "image/png": "[encoded data removed]",
      "text/plain": [
       "<Figure size 864x432 with 1 Axes>"
      ]
     },
     "metadata": {},
     "output_type": "display_data"
    }
   ],
   "source": [
    "# cases in top 10 states over months\n",
    "plt.figure(figsize=(12,6))\n",
    "sns.lineplot(x='week', y='cases', data=covid_us_df, hue='province_state', palette=sns.set_palette(flatui, n_colors =10))\n",
    "plt.show()"
   ]
  },
  {
   "cell_type": "markdown",
   "metadata": {},
   "source": [
    "### Step4: Conclusion\n",
    "\n",
    "The COVID 19 dataset was clean and the data clean-up actions were limited. However, the dataset is challenging in terms of the way the data is reported. For certain countries, the state-wise break-up is given and for most countries, the numbers are consolidated at the country level.\n",
    "\n",
    "All the required steps were followed for pre-processing and the dataset provided some interesting insights when an analysis for US states were done.\n",
    "\n",
    "> Key Observations:\n",
    "- US is the worst-affected country\n",
    "- New York is the worst-affected state\n",
    "- Death rates are highest in Michigan - ahead than New York which is surprising\n",
    "- It seems other states took necessasry precautions learing from New York during the early stages (week 12 and 13) of the pandemic\n",
    "- New York is fast approaching the peak and a saturation is expected soon."
   ]
  }
 ],
 "metadata": {
  "kernelspec": {
   "display_name": "Python 3",
   "language": "python",
   "name": "python3"
  },
  "language_info": {
   "codemirror_mode": {
    "name": "ipython",
    "version": 3
   },
   "file_extension": ".py",
   "mimetype": "text/x-python",
   "name": "python",
   "nbconvert_exporter": "python",
   "pygments_lexer": "ipython3",
   "version": "3.7.6"
  }
 },
 "nbformat": 4,
 "nbformat_minor": 4
}
